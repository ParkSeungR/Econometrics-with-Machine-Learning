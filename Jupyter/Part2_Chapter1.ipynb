{
 "cells": [
  {
   "attachments": {
    "d9b7c567-72ec-430c-b775-dfbe0f1875f4.png": {
     "image/png": "[encoded data removed]"
    }
   },
   "cell_type": "markdown",
   "id": "de36546c-a3e8-490a-a520-369bb2655594",
   "metadata": {},
   "source": [
    "   ![실습파일 표지로고(최종).png](attachment:d9b7c567-72ec-430c-b775-dfbe0f1875f4.png)"
   ]
  },
  {
   "cell_type": "markdown",
   "id": "e284f17e",
   "metadata": {},
   "source": [
    "# Part 2: 파이썬 생태계(Python's Ecosystem) 구축"
   ]
  },
  {
   "cell_type": "markdown",
   "id": "f865b880",
   "metadata": {},
   "source": [
    "# Chapter 1. 필요한 라이브러리 설치 "
   ]
  },
  {
   "cell_type": "markdown",
   "id": "9d28defa",
   "metadata": {},
   "source": [
    "## 파이썬의 설치\n",
    "* 아나콘다(Anaconda) 혹은 윈도우 파이썬(WinPython)\n",
    "* https://www.anaconda.com\n",
    "* https://www.python.org\n",
    "\n",
    "## 다양한 라이브러리의 설치 또는 갱신(update)\n",
    "* 아래 라이브러리 리스트 참조\n",
    "* 예) ! pip install package_name\n",
    "## Jupyter Notebook 파일(.ipynb)과 파이썬 파일(.py)의 상호 변환 \n",
    "* ! pip install ipynb-py-convert\n",
    "* ipynb-py-convert test.ipynb test.py "
   ]
  },
  {
   "cell_type": "code",
   "execution_count": 1,
   "id": "65f33c53",
   "metadata": {},
   "outputs": [
    {
     "name": "stdout",
     "output_type": "stream",
     "text": [
      "Requirement already satisfied: wooldridge in c:\\users\\parkseungrok\\anaconda3\\lib\\site-packages (0.4.5)\n",
      "Requirement already satisfied: pandas in c:\\users\\parkseungrok\\anaconda3\\lib\\site-packages (from wooldridge) (2.3.1)\n",
      "Requirement already satisfied: numpy>=1.26.0 in c:\\users\\parkseungrok\\anaconda3\\lib\\site-packages (from pandas->wooldridge) (2.1.3)\n",
      "Requirement already satisfied: python-dateutil>=2.8.2 in c:\\users\\parkseungrok\\anaconda3\\lib\\site-packages (from pandas->wooldridge) (2.9.0.post0)\n",
      "Requirement already satisfied: pytz>=2020.1 in c:\\users\\parkseungrok\\anaconda3\\lib\\site-packages (from pandas->wooldridge) (2025.2)\n",
      "Requirement already satisfied: tzdata>=2022.7 in c:\\users\\parkseungrok\\anaconda3\\lib\\site-packages (from pandas->wooldridge) (2025.2)\n",
      "Requirement already satisfied: six>=1.5 in c:\\users\\parkseungrok\\anaconda3\\lib\\site-packages (from python-dateutil>=2.8.2->pandas->wooldridge) (1.17.0)\n"
     ]
    }
   ],
   "source": [
    "# 연습: 계량경제학 예제로 많이 쓰이는 Wooldridge의 데이터세트 설치\n",
    "!pip install wooldridge   "
   ]
  },
  {
   "cell_type": "code",
   "execution_count": 2,
   "id": "650ba659",
   "metadata": {},
   "outputs": [
    {
     "name": "stdout",
     "output_type": "stream",
     "text": [
      "# packages in environment at C:\\Users\\PARKSeungRok\\anaconda3:\n",
      "#\n",
      "# Name                           Version              Build               Channel\n",
      "_anaconda_depends                2025.06              py313_mkl_2\n",
      "aiobotocore                      2.19.0               py313haa95532_0\n",
      "aiohappyeyeballs                 2.4.4                py313haa95532_0\n",
      "aiohttp                          3.11.10              py313h827c3e9_0\n",
      "aioitertools                     0.7.1                pyhd3eb1b0_0\n",
      "aiosignal                        1.2.0                pyhd3eb1b0_0\n",
      "alabaster                        0.7.16               py313haa95532_0\n",
      "altair                           5.5.0                py313haa95532_0\n",
      "anaconda-anon-usage              0.7.1                py313hfc23b7f_100\n",
      "anaconda-auth                    0.8.6                py313haa95532_0\n",
      "anaconda-catalogs                0.2.0                py313haa95532_2\n",
      "anaconda-cli-base                0.5.2                py313haa95532_0\n",
      "anaconda-client                  1.13.0               py313haa95532_1\n",
      "anaconda-navigator               2.6.6                py313haa95532_2\n",
      "anaconda-project                 0.11.1               py313haa95532_1\n",
      "anaconda_powershell_prompt       1.1.0                haa95532_1\n",
      "anaconda_prompt                  1.1.0                haa95532_1\n",
      "annotated-types                  0.6.0                py313haa95532_0\n",
      "anyio                            4.7.0                py313haa95532_0\n",
      "appdirs                          1.4.4                pyhd3eb1b0_0\n",
      "arch                             7.2.0                pypi_0              pypi\n",
      "archspec                         0.2.3                pyhd3eb1b0_0\n",
      "argon2-cffi                      21.3.0               pyhd3eb1b0_0\n",
      "argon2-cffi-bindings             21.2.0               py313h827c3e9_1\n",
      "arrow                            1.3.0                py313haa95532_0\n",
      "arrow-cpp                        19.0.0               h33d5241_2\n",
      "astroid                          3.3.8                py313haa95532_0\n",
      "astropy                          7.0.0                py313h827c3e9_0\n",
      "astropy-iers-data                0.2025.1.13.0.34.51  py313haa95532_0\n",
      "asttokens                        3.0.0                py313haa95532_0\n",
      "async-lru                        2.0.4                py313haa95532_0\n",
      "asyncssh                         2.17.0               py313haa95532_0\n",
      "atomicwrites                     1.4.0                py_0\n",
      "attrs                            24.3.0               py313haa95532_0\n",
      "automat                          24.8.1               py313haa95532_0\n",
      "autopep8                         2.0.4                pyhd3eb1b0_0\n",
      "aws-c-auth                       0.6.19               h2bbff1b_0\n",
      "aws-c-cal                        0.5.20               h2bbff1b_0\n",
      "aws-c-common                     0.8.5                h2bbff1b_0\n",
      "aws-c-compression                0.2.16               h2bbff1b_0\n",
      "aws-c-event-stream               0.2.15               hd77b12b_0\n",
      "aws-c-http                       0.6.25               h2bbff1b_0\n",
      "aws-c-io                         0.13.10              h2bbff1b_0\n",
      "aws-c-mqtt                       0.7.13               h2bbff1b_0\n",
      "aws-c-s3                         0.1.51               h2bbff1b_0\n",
      "aws-c-sdkutils                   0.1.6                h2bbff1b_0\n",
      "aws-checksums                    0.1.13               h2bbff1b_0\n",
      "aws-crt-cpp                      0.18.16              hd77b12b_0\n",
      "aws-sdk-cpp                      1.11.212             h6a15179_0\n",
      "babel                            2.16.0               py313haa95532_0\n",
      "backoff                          2.2.1                pypi_0              pypi\n",
      "bcrypt                           4.3.0                py313h636fa0f_0\n",
      "beautifulsoup4                   4.12.3               py313haa95532_0\n",
      "binaryornot                      0.4.4                pyhd3eb1b0_1\n",
      "black                            24.10.0              py313haa95532_0\n",
      "blas                             1.0                  mkl\n",
      "bleach                           6.2.0                py313haa95532_0\n",
      "blinker                          1.9.0                py313haa95532_0\n",
      "blosc                            1.21.3               h6c2663c_0\n",
      "bokeh                            3.6.2                py313haa95532_0\n",
      "boltons                          24.1.0               py313haa95532_0\n",
      "boost-cpp                        1.82.0               h59b6b97_2\n",
      "botocore                         1.36.3               py313haa95532_0\n",
      "bottleneck                       1.4.2                py313h2cb717b_0\n",
      "brotli-python                    1.0.9                py313h5da7b33_9\n",
      "bzip2                            1.0.8                h2bbff1b_6\n",
      "c-ares                           1.19.1               h2bbff1b_0\n",
      "c-blosc2                         2.17.1               h0eb4811_0\n",
      "ca-certificates                  2025.2.25            haa95532_0\n",
      "cachetools                       5.5.1                py313haa95532_0\n",
      "certifi                          2025.4.26            py313haa95532_0\n",
      "cffi                             1.17.1               py313h827c3e9_1\n",
      "chardet                          4.0.0                py313haa95532_1003\n",
      "charset-normalizer               3.3.2                pyhd3eb1b0_0\n",
      "click                            8.1.8                py313haa95532_0\n",
      "cloudpickle                      3.0.0                py313haa95532_0\n",
      "colorama                         0.4.6                py313haa95532_0\n",
      "colorcet                         3.1.0                py313haa95532_0\n",
      "comm                             0.2.1                py313haa95532_0\n",
      "conda                            25.5.1               py313haa95532_0\n",
      "conda-anaconda-telemetry         0.1.2                py313haa95532_1\n",
      "conda-anaconda-tos               0.2.0                py313haa95532_0\n",
      "conda-build                      25.5.0               py313hcfce1f1_0\n",
      "conda-content-trust              0.2.0                py313haa95532_1\n",
      "conda-index                      0.6.1                py313haa95532_0\n",
      "conda-libmamba-solver            25.4.0               pyhd3eb1b0_0\n",
      "conda-pack                       0.7.1                py313haa95532_0\n",
      "conda-package-handling           2.4.0                py313haa95532_0\n",
      "conda-package-streaming          0.11.0               py313haa95532_0\n",
      "conda-repo-cli                   1.0.165              py313haa95532_0\n",
      "conda-token                      0.6.0                pyhd3eb1b0_0\n",
      "constantly                       23.10.4              py313haa95532_0\n",
      "contourpy                        1.3.1                py313h214f63a_0\n",
      "cookiecutter                     1.7.3                pyhd3eb1b0_0\n",
      "cpp-expected                     1.1.0                h214f63a_0\n",
      "cryptography                     44.0.1               py313hbd6ee87_0\n",
      "cssselect                        1.2.0                py313haa95532_0\n",
      "curl                             8.12.1               h51539b2_0\n",
      "curl-cffi                        0.13.0               pypi_0              pypi\n",
      "cycler                           0.11.0               pyhd3eb1b0_0\n",
      "cython                           3.1.3                pypi_0              pypi\n",
      "cytoolz                          1.0.1                py313h827c3e9_0\n",
      "dask                             2025.2.0             py313haa95532_0\n",
      "dask-core                        2025.2.0             py313haa95532_0\n",
      "dask-expr                        2.0.0                py313haa95532_0\n",
      "datashader                       0.18.0               py313haa95532_0\n",
      "dateparser                       1.2.2                pypi_0              pypi\n",
      "debugpy                          1.8.11               py313h5da7b33_0\n",
      "decorator                        5.1.1                pyhd3eb1b0_0\n",
      "defusedxml                       0.7.1                pyhd3eb1b0_0\n",
      "deprecated                       1.2.13               py313haa95532_0\n",
      "diff-match-patch                 20200713             pyhd3eb1b0_0\n",
      "dill                             0.3.8                py313haa95532_0\n",
      "distributed                      2025.2.0             py313haa95532_0\n",
      "distro                           1.9.0                py313haa95532_0\n",
      "docstring-to-markdown            0.11                 py313haa95532_0\n",
      "docutils                         0.21.2               py313haa95532_0\n",
      "et_xmlfile                       1.1.0                py313haa95532_1\n",
      "evalidate                        2.0.3                py313haa95532_0\n",
      "executing                        0.8.3                pyhd3eb1b0_0\n",
      "expat                            2.7.1                h8ddb27b_0\n",
      "filelock                         3.17.0               py313haa95532_0\n",
      "flake8                           7.1.1                py313haa95532_0\n",
      "flask                            3.1.0                py313haa95532_0\n",
      "fmt                              9.1.0                h6d14046_1\n",
      "fonttools                        4.55.3               py313h827c3e9_0\n",
      "formulaic                        1.2.0                pypi_0              pypi\n",
      "freeglut                         3.4.0                h8a1e904_1\n",
      "freetype                         2.13.3               h0620614_0\n",
      "frozendict                       2.4.2                py313haa95532_0\n",
      "frozenlist                       1.5.0                py313h827c3e9_0\n",
      "fsspec                           2025.3.2             py313h4442805_0\n",
      "gflags                           2.2.2                hd77b12b_1\n",
      "gitdb                            4.0.7                pyhd3eb1b0_0\n",
      "gitpython                        3.1.43               py313haa95532_0\n",
      "glog                             0.5.0                hd77b12b_1\n",
      "gmp                              6.3.0                h537511b_0\n",
      "gmpy2                            2.2.1                py313h827c3e9_0\n",
      "greenlet                         3.1.1                py313h5da7b33_0\n",
      "h11                              0.16.0               py313haa95532_0\n",
      "h5py                             3.12.1               py313h535c9fb_1\n",
      "hdf5                             1.14.5               ha36df97_2\n",
      "heapdict                         1.0.1                pyhd3eb1b0_0\n",
      "holoviews                        1.20.2               py313haa95532_0\n",
      "httpcore                         1.0.9                py313haa95532_0\n",
      "httpx                            0.28.1               py313haa95532_0\n",
      "hvplot                           0.11.3               py313haa95532_0\n",
      "hyperlink                        21.0.0               pyhd3eb1b0_0\n",
      "icc_rt                           2022.1.0             h6049295_2\n",
      "icu                              73.1                 h6c2663c_0\n",
      "idna                             3.7                  py313haa95532_0\n",
      "imageio                          2.37.0               py313haa95532_0\n",
      "imagesize                        1.4.1                py313haa95532_0\n",
      "imbalanced-learn                 0.13.0               py313haa95532_0\n",
      "importlib-metadata               8.5.0                py313haa95532_0\n",
      "incremental                      24.7.2               pyhd3eb1b0_0\n",
      "inflection                       0.5.1                py313haa95532_1\n",
      "iniconfig                        1.1.1                pyhd3eb1b0_0\n",
      "intake                           2.0.7                py313haa95532_0\n",
      "intel-openmp                     2023.1.0             h59b6b97_46320\n",
      "interface-meta                   1.3.0                pypi_0              pypi\n",
      "intervaltree                     3.1.0                pyhd3eb1b0_0\n",
      "ipykernel                        6.29.5               py313haa95532_1\n",
      "ipython                          8.30.0               py313haa95532_0\n",
      "ipywidgets                       8.1.5                py313haa95532_0\n",
      "isort                            6.0.1                py313haa95532_0\n",
      "itemadapter                      0.3.0                pyhd3eb1b0_0\n",
      "itemloaders                      1.3.2                py313haa95532_0\n",
      "itsdangerous                     2.2.0                py313haa95532_0\n",
      "jaraco.classes                   3.2.1                pyhd3eb1b0_0\n",
      "jaraco.context                   6.0.0                py313haa95532_0\n",
      "jaraco.functools                 4.1.0                py313haa95532_0\n",
      "jedi                             0.19.2               py313haa95532_0\n",
      "jellyfish                        1.1.3                py313h8ecf97c_0\n",
      "jinja2                           3.1.6                py313haa95532_0\n",
      "jinja2-time                      0.2.0                pyhd3eb1b0_3\n",
      "jmespath                         1.0.1                py313haa95532_0\n",
      "joblib                           1.4.2                py313haa95532_0\n",
      "jpeg                             9e                   h827c3e9_3\n",
      "json5                            0.9.25               py313haa95532_0\n",
      "jsonpatch                        1.33                 py313haa95532_1\n",
      "jsonpointer                      2.1                  pyhd3eb1b0_0\n",
      "jsonschema                       4.23.0               py313haa95532_0\n",
      "jsonschema-specifications        2023.7.1             py313haa95532_0\n",
      "jupyter                          1.1.1                py313haa95532_0\n",
      "jupyter-lsp                      2.2.5                py313haa95532_0\n",
      "jupyter_client                   8.6.3                py313haa95532_0\n",
      "jupyter_console                  6.6.3                py313haa95532_1\n",
      "jupyter_core                     5.7.2                py313haa95532_0\n",
      "jupyter_events                   0.12.0               py313haa95532_0\n",
      "jupyter_server                   2.15.0               py313haa95532_0\n",
      "jupyter_server_terminals         0.5.3                py313haa95532_0\n",
      "jupyterlab                       4.3.4                py313haa95532_0\n",
      "jupyterlab-variableinspector     3.2.4                py313haa95532_0\n",
      "jupyterlab_pygments              0.3.0                py313haa95532_0\n",
      "jupyterlab_server                2.27.3               py313haa95532_0\n",
      "jupyterlab_widgets               3.0.13               py313haa95532_0\n",
      "keyring                          25.6.0               py313haa95532_0\n",
      "kiwisolver                       1.4.8                py313h5da7b33_0\n",
      "krb5                             1.20.1               h5b6d351_0\n",
      "lazy_loader                      0.4                  py313haa95532_0\n",
      "lcms2                            2.16                 h62be587_1\n",
      "lerc                             4.0.0                h5da7b33_0\n",
      "libabseil                        20250127.0           cxx17_h52369b4_0\n",
      "libarchive                       3.7.7                h9243413_0\n",
      "libboost                         1.82.0               h3399ecb_2\n",
      "libbrotlicommon                  1.0.9                h827c3e9_9\n",
      "libbrotlidec                     1.0.9                h827c3e9_9\n",
      "libbrotlienc                     1.0.9                h827c3e9_9\n",
      "libclang                         14.0.6               default_hb5a9fac_2\n",
      "libclang13                       14.0.6               default_h8e68704_2\n",
      "libcurl                          8.12.1               h9da9810_0\n",
      "libdeflate                       1.22                 h5bf469e_0\n",
      "libevent                         2.1.12               h56d1f94_1\n",
      "libffi                           3.4.4                hd77b12b_1\n",
      "libgrpc                          1.71.0               hf4237ab_0\n",
      "libiconv                         1.16                 h2bbff1b_3\n",
      "liblief                          0.16.4               h585ebfc_0\n",
      "libmamba                         2.0.5                hcd6fe79_1\n",
      "libmambapy                       2.0.5                py313h214f63a_1\n",
      "libmpdec                         4.0.0                h827c3e9_0\n",
      "libpng                           1.6.39               h8cc25b3_0\n",
      "libpq                            17.4                 h70ee33d_0\n",
      "libprotobuf                      5.29.3               hac4c8cb_0\n",
      "libre2-11                        2024.07.02           h5da7b33_0\n",
      "libsodium                        1.0.18               h62dcd97_0\n",
      "libsolv                          0.7.30               hf2fb9eb_1\n",
      "libspatialindex                  1.9.3                h6c2663c_0\n",
      "libssh2                          1.11.1               h2addb87_0\n",
      "libthrift                        0.15.0               h4364b78_2\n",
      "libtiff                          4.7.0                h404307b_0\n",
      "libwebp-base                     1.3.2                h3d04722_1\n",
      "libxml2                          2.13.8               h866ff63_0\n",
      "libxslt                          1.1.41               h0739af5_0\n",
      "linearmodels                     6.1                  pypi_0              pypi\n",
      "linkify-it-py                    2.0.0                py313haa95532_0\n",
      "llvmlite                         0.44.0               py313h8b1c7eb_1\n",
      "locket                           1.0.0                py313haa95532_0\n",
      "lxml                             5.3.0                py313h395c83e_1\n",
      "lz4                              4.3.2                py313h827c3e9_1\n",
      "lz4-c                            1.9.4                h2bbff1b_1\n",
      "lzo                              2.10                 he774522_2\n",
      "m2-msys2-runtime                 2.5.0.17080.65c939c  3\n",
      "m2-patch                         2.7.5                2\n",
      "markdown                         3.8                  py313haa95532_0\n",
      "markdown-it-py                   2.2.0                py313haa95532_1\n",
      "markupsafe                       3.0.2                py313h827c3e9_0\n",
      "matplotlib                       3.10.0               py313haa95532_1\n",
      "matplotlib-base                  3.10.0               py313h7aa5d4e_1\n",
      "matplotlib-inline                0.1.6                py313haa95532_0\n",
      "mbedtls                          3.5.1                h5da7b33_1\n",
      "mccabe                           0.7.0                pyhd3eb1b0_0\n",
      "mdit-py-plugins                  0.3.0                py313haa95532_0\n",
      "mdurl                            0.1.0                py313haa95532_0\n",
      "menuinst                         2.2.0                py313h5da7b33_1\n",
      "mistune                          3.1.2                py313haa95532_0\n",
      "mkl                              2023.1.0             h6b88ed4_46358\n",
      "mkl-service                      2.4.0                py313h827c3e9_2\n",
      "mkl_fft                          1.3.11               py313h827c3e9_0\n",
      "mkl_random                       1.2.8                py313hce38976_0\n",
      "more-itertools                   10.3.0               py313haa95532_0\n",
      "mpc                              1.3.1                h827c3e9_0\n",
      "mpfr                             4.2.1                h56c3642_0\n",
      "mplfinance                       0.12.10b0            pypi_0              pypi\n",
      "mpmath                           1.3.0                py313haa95532_0\n",
      "msgpack-python                   1.0.3                py313h214f63a_0\n",
      "msys2-conda-epoch                20160418             1\n",
      "multidict                        6.1.0                py313h827c3e9_0\n",
      "multipledispatch                 0.6.0                py313haa95532_0\n",
      "multitasking                     0.0.12               pypi_0              pypi\n",
      "mypy                             1.14.1               py313h827c3e9_0\n",
      "mypy_extensions                  1.0.0                py313haa95532_0\n",
      "narwhals                         1.31.0               py313haa95532_1\n",
      "navigator-updater                0.5.1                py313haa95532_0\n",
      "nbclient                         0.10.2               py313haa95532_0\n",
      "nbconvert                        7.16.6               py313haa95532_0\n",
      "nbconvert-core                   7.16.6               py313haa95532_0\n",
      "nbconvert-pandoc                 7.16.6               py313haa95532_0\n",
      "nbformat                         5.10.4               py313haa95532_0\n",
      "nest-asyncio                     1.6.0                py313haa95532_0\n",
      "networkx                         3.4.2                py313haa95532_0\n",
      "nlohmann_json                    3.11.2               h6c2663c_0\n",
      "nltk                             3.9.1                py313hea850e4_0\n",
      "notebook                         7.3.2                py313haa95532_1\n",
      "notebook-shim                    0.2.4                py313haa95532_0\n",
      "numba                            0.61.0               py313h5da7b33_1\n",
      "numexpr                          2.10.1               py313h4cd664f_0\n",
      "numpy                            2.1.3                py313he6dc315_0\n",
      "numpy-base                       2.1.3                py313h6011491_0\n",
      "numpydoc                         1.7.0                py313haa95532_0\n",
      "openjpeg                         2.5.2                h9b5d1b5_1\n",
      "openpyxl                         3.1.5                py313h827c3e9_1\n",
      "openssl                          3.0.16               h3f729d1_0\n",
      "orc                              2.1.1                hd1c1d5c_0\n",
      "overrides                        7.4.0                py313haa95532_0\n",
      "packaging                        24.2                 py313haa95532_0\n",
      "pandas                           2.3.1                pypi_0              pypi\n",
      "pandoc                           2.12                 haa95532_3\n",
      "pandocfilters                    1.5.0                pyhd3eb1b0_0\n",
      "panel                            1.7.0                py313haa95532_0\n",
      "param                            2.2.0                py313haa95532_0\n",
      "parsel                           1.8.1                py313haa95532_0\n",
      "parso                            0.8.4                py313haa95532_0\n",
      "partd                            1.4.2                py313haa95532_0\n",
      "pathspec                         0.10.3               py313haa95532_0\n",
      "patsy                            1.0.1                py313haa95532_0\n",
      "pcre2                            10.42                h0ff8eda_1\n",
      "peewee                           3.18.2               pypi_0              pypi\n",
      "pexpect                          4.8.0                pyhd3eb1b0_3\n",
      "pickleshare                      0.7.5                pyhd3eb1b0_1003\n",
      "pillow                           11.1.0               py313hea0d53e_1\n",
      "pip                              25.2                 pypi_0              pypi\n",
      "pkce                             1.0.3                py313haa95532_0\n",
      "pkginfo                          1.12.0               py313haa95532_0\n",
      "platformdirs                     4.3.7                py313haa95532_0\n",
      "plotly                           5.24.1               py313h4442805_1\n",
      "pluggy                           1.5.0                py313haa95532_0\n",
      "ply                              3.11                 py313haa95532_1\n",
      "poyo                             0.5.0                pyhd3eb1b0_0\n",
      "prometheus_client                0.21.1               py313haa95532_0\n",
      "prompt-toolkit                   3.0.43               py313haa95532_0\n",
      "prompt_toolkit                   3.0.43               hd3eb1b0_0\n",
      "propcache                        0.3.1                py313h827c3e9_0\n",
      "protego                          0.4.0                py313haa95532_0\n",
      "protobuf                         5.29.3               py313h5da7b33_0\n",
      "psutil                           5.9.0                py313h827c3e9_1\n",
      "ptyprocess                       0.7.0                pyhd3eb1b0_2\n",
      "pure_eval                        0.2.2                pyhd3eb1b0_0\n",
      "py-cpuinfo                       9.0.0                py313haa95532_0\n",
      "py-lief                          0.16.4               py313h585ebfc_0\n",
      "pyarrow                          19.0.0               py313h5da7b33_1\n",
      "pyasn1                           0.4.8                pyhd3eb1b0_0\n",
      "pyasn1-modules                   0.2.8                py_0\n",
      "pybind11-abi                     5                    hd3eb1b0_0\n",
      "pycodestyle                      2.12.1               py313haa95532_0\n",
      "pycosat                          0.6.6                py313h827c3e9_2\n",
      "pycparser                        2.21                 pyhd3eb1b0_0\n",
      "pyct                             0.5.0                py313haa95532_0\n",
      "pycurl                           7.45.6               py313h51539b2_0\n",
      "pydantic                         2.10.3               py313haa95532_0\n",
      "pydantic-core                    2.27.1               py313h636fa0f_0\n",
      "pydantic-settings                2.6.1                py313haa95532_0\n",
      "pydispatcher                     2.0.5                py313haa95532_3\n",
      "pydocstyle                       6.3.0                py313haa95532_0\n",
      "pyerfa                           2.0.1.5              py313h827c3e9_0\n",
      "pyflakes                         3.2.0                py313haa95532_0\n",
      "pygithub                         2.4.0                py313haa95532_0\n",
      "pygments                         2.19.1               py313haa95532_0\n",
      "pyhdfe                           0.2.0                pypi_0              pypi\n",
      "pyjwt                            2.10.1               py313haa95532_0\n",
      "pylint                           3.3.5                py313haa95532_0\n",
      "pylint-venv                      3.0.3                py313haa95532_0\n",
      "pyls-spyder                      0.4.0                pyhd3eb1b0_0\n",
      "pynacl                           1.5.0                py313h7edc060_1\n",
      "pyodbc                           5.2.0                py313h5da7b33_0\n",
      "pyopenssl                        25.0.0               py313hb6ff9d5_0\n",
      "pyparsing                        3.2.0                py313haa95532_0\n",
      "pyqt                             5.15.10              py313h5da7b33_1\n",
      "pyqt5-sip                        12.13.0              py313h827c3e9_1\n",
      "pyqtwebengine                    5.15.10              py313h5da7b33_1\n",
      "pysocks                          1.7.1                py313haa95532_0\n",
      "pytables                         3.10.2               py313h0217527_2\n",
      "pytest                           8.3.4                py313haa95532_0\n",
      "python                           3.13.5               h286a616_100_cp313\n",
      "python-dateutil                  2.9.0post0           py313haa95532_2\n",
      "python-dotenv                    1.1.0                py313haa95532_0\n",
      "python-fastjsonschema            2.20.0               py313haa95532_0\n",
      "python-json-logger               3.2.1                py313haa95532_0\n",
      "python-libarchive-c              5.1                  pyhd3eb1b0_0\n",
      "python-lmdb                      1.6.2                py313h5da7b33_0\n",
      "python-lsp-black                 2.0.0                py313haa95532_1\n",
      "python-lsp-jsonrpc               1.1.2                pyhd3eb1b0_0\n",
      "python-lsp-server                1.12.2               py313h4442805_0\n",
      "python-slugify                   5.0.2                pyhd3eb1b0_0\n",
      "python-tzdata                    2025.2               pyhd3eb1b0_0\n",
      "python_abi                       3.13                 0_cp313\n",
      "pytoolconfig                     1.2.6                py313haa95532_0\n",
      "pytz                             2025.2               pypi_0              pypi\n",
      "pyuca                            1.2                  py313haa95532_1\n",
      "pyviz_comms                      3.0.2                py313haa95532_0\n",
      "pywavelets                       1.8.0                py313h827c3e9_0\n",
      "pywin32                          308                  py313h5da7b33_0\n",
      "pywin32-ctypes                   0.2.2                py313haa95532_0\n",
      "pywinpty                         2.0.15               py313h72d21ff_0\n",
      "pyyaml                           6.0.2                py313h827c3e9_0\n",
      "pyzmq                            26.2.0               py313h5da7b33_0\n",
      "qdarkstyle                       3.2.3                pyhd3eb1b0_0\n",
      "qstylizer                        0.2.2                py313haa95532_0\n",
      "qt-main                          5.15.2               h19c9488_12\n",
      "qt-webengine                     5.15.9               h5bd16bc_7\n",
      "qtawesome                        1.4.0                py313haa95532_0\n",
      "qtconsole                        5.6.1                py313haa95532_1\n",
      "qtpy                             2.4.1                py313haa95532_0\n",
      "queuelib                         1.6.2                py313haa95532_0\n",
      "re2                              2024.07.02           h214f63a_0\n",
      "readchar                         4.0.5                py313haa95532_0\n",
      "referencing                      0.30.2               py313haa95532_0\n",
      "regex                            2024.11.6            py313h827c3e9_0\n",
      "reproc                           14.2.4               hd77b12b_2\n",
      "reproc-cpp                       14.2.4               hd77b12b_2\n",
      "requests                         2.32.3               py313haa95532_1\n",
      "requests-file                    2.1.0                py313haa95532_0\n",
      "requests-toolbelt                1.0.0                py313haa95532_0\n",
      "rfc3339-validator                0.1.4                py313haa95532_0\n",
      "rfc3986-validator                0.1.1                py313haa95532_0\n",
      "rich                             13.9.4               py313haa95532_0\n",
      "roman-numerals-py                3.1.0                py313haa95532_0\n",
      "rope                             1.13.0               py313haa95532_0\n",
      "rpds-py                          0.22.3               py313h636fa0f_0\n",
      "rtree                            1.0.1                py313h2eaa2aa_0\n",
      "ruamel.yaml                      0.18.10              py313h827c3e9_0\n",
      "ruamel.yaml.clib                 0.2.12               py313h827c3e9_0\n",
      "ruamel_yaml                      0.17.21              py313h827c3e9_0\n",
      "s3fs                             2025.3.2             py313haa95532_0\n",
      "scikit-image                     0.25.0               py313h5da7b33_0\n",
      "scikit-learn                     1.6.1                py313h585ebfc_0\n",
      "scipy                            1.15.3               py313hde77213_0\n",
      "scrapy                           2.12.0               py313haa95532_1\n",
      "seaborn                          0.13.2               py313haa95532_3\n",
      "semver                           3.0.2                py313haa95532_1\n",
      "send2trash                       1.8.2                py313haa95532_1\n",
      "service_identity                 24.2.0               py313haa95532_0\n",
      "setuptools                       80.9.0               pypi_0              pypi\n",
      "setuptools-scm                   8.3.1                pypi_0              pypi\n",
      "shellingham                      1.5.0                py313haa95532_0\n",
      "shelved-cache                    0.3.1                pypi_0              pypi\n",
      "simdjson                         3.10.1               h214f63a_0\n",
      "sip                              6.7.12               py313h5da7b33_1\n",
      "six                              1.17.0               py313haa95532_0\n",
      "sklearn-compat                   0.1.3                py313haa95532_0\n",
      "smmap                            4.0.0                pyhd3eb1b0_0\n",
      "snappy                           1.2.1                hcdb6601_0\n",
      "sniffio                          1.3.0                py313haa95532_0\n",
      "snowballstemmer                  2.2.0                pyhd3eb1b0_0\n",
      "sortedcontainers                 2.4.0                pyhd3eb1b0_0\n",
      "soupsieve                        2.5                  py313haa95532_0\n",
      "spdlog                           1.11.0               h59b6b97_0\n",
      "sphinx                           8.2.3                py313h827c3e9_0\n",
      "sphinxcontrib-applehelp          2.0.0                pyhd3eb1b0_1\n",
      "sphinxcontrib-devhelp            2.0.0                pyhd3eb1b0_0\n",
      "sphinxcontrib-htmlhelp           2.1.0                pyhd3eb1b0_0\n",
      "sphinxcontrib-jsmath             1.0.1                pyhd3eb1b0_0\n",
      "sphinxcontrib-qthelp             2.0.0                pyhd3eb1b0_1\n",
      "sphinxcontrib-serializinghtml    2.0.0                pyhd3eb1b0_0\n",
      "spyder                           6.0.7                py313haa95532_1\n",
      "spyder-kernels                   3.0.5                py313h4442805_0\n",
      "sqlalchemy                       2.0.39               py313h54f65d0_0\n",
      "sqlite                           3.45.3               h2bbff1b_0\n",
      "stack_data                       0.2.0                pyhd3eb1b0_0\n",
      "stargazer                        0.0.7                pypi_0              pypi\n",
      "statsmodels                      0.14.4               py313h827c3e9_0\n",
      "streamlit                        1.45.1               py313haa95532_1\n",
      "superqt                          0.7.3                py313h4442805_0\n",
      "sympy                            1.13.3               py313haa95532_1\n",
      "tabulate                         0.8.10               pypi_0              pypi\n",
      "tbb                              2021.8.0             h59b6b97_0\n",
      "tblib                            3.1.0                py313haa95532_0\n",
      "tenacity                         9.0.0                py313haa95532_0\n",
      "terminado                        0.17.1               py313haa95532_0\n",
      "text-unidecode                   1.3                  pyhd3eb1b0_0\n",
      "textdistance                     4.6.3                py313h4442805_0\n",
      "threadpoolctl                    3.5.0                py313h4442805_0\n",
      "three-merge                      0.1.1                pyhd3eb1b0_0\n",
      "tifffile                         2025.2.18            py313haa95532_0\n",
      "tinycss2                         1.4.0                py313haa95532_0\n",
      "tk                               8.6.14               h5e9d12e_1\n",
      "tldextract                       5.1.2                py313haa95532_0\n",
      "toml                             0.10.2               pyhd3eb1b0_0\n",
      "tomli                            2.0.1                py313haa95532_1\n",
      "tomlkit                          0.13.2               py313haa95532_0\n",
      "toolz                            1.0.0                py313haa95532_0\n",
      "tornado                          6.5.1                py313h827c3e9_0\n",
      "tqdm                             4.67.1               py313h4442805_0\n",
      "traitlets                        5.14.3               py313haa95532_0\n",
      "truststore                       0.10.0               py313haa95532_0\n",
      "twisted                          24.11.0              py313haa95532_0\n",
      "twisted-iocpsupport              1.0.2                py313h827c3e9_1\n",
      "typer                            0.9.0                py313haa95532_0\n",
      "typing-extensions                4.12.2               py313haa95532_0\n",
      "typing_extensions                4.12.2               py313haa95532_0\n",
      "tzdata                           2025b                h04d1e81_0\n",
      "tzlocal                          5.3.1                pypi_0              pypi\n",
      "uc-micro-py                      1.0.1                py313haa95532_0\n",
      "ujson                            5.10.0               py313h5da7b33_1\n",
      "unidecode                        1.3.8                py313haa95532_0\n",
      "urllib3                          2.3.0                py313haa95532_0\n",
      "utf8proc                         2.6.1                h2bbff1b_1\n",
      "vc                               14.42                haa95532_5\n",
      "vs2015_runtime                   14.42.34433          hbfb602d_5\n",
      "w3lib                            2.1.2                py313haa95532_0\n",
      "watchdog                         4.0.2                py313haa95532_0\n",
      "wbdata                           1.0.0                pypi_0              pypi\n",
      "wbgapi                           1.0.12               pypi_0              pypi\n",
      "wcwidth                          0.2.5                pyhd3eb1b0_0\n",
      "webencodings                     0.5.1                py313haa95532_2\n",
      "websocket-client                 1.8.0                py313haa95532_0\n",
      "websockets                       15.0.1               pypi_0              pypi\n",
      "werkzeug                         3.1.3                py313haa95532_0\n",
      "whatthepatch                     1.0.2                py313haa95532_0\n",
      "wheel                            0.45.1               py313haa95532_0\n",
      "widgetsnbextension               4.0.13               py313haa95532_0\n",
      "win_inet_pton                    1.1.0                py313haa95532_0\n",
      "winpty                           0.4.3                4\n",
      "wooldridge                       0.4.5                pypi_0              pypi\n",
      "wrapt                            1.17.0               py313h827c3e9_0\n",
      "xarray                           2025.4.0             py313haa95532_0\n",
      "xlwings                          0.32.1               py313haa95532_1\n",
      "xyzservices                      2022.9.0             py313haa95532_1\n",
      "xz                               5.6.4                h4754444_1\n",
      "yaml                             0.2.5                he774522_0\n",
      "yaml-cpp                         0.8.0                hd77b12b_1\n",
      "yapf                             0.40.2               py313haa95532_0\n",
      "yarl                             1.18.0               py313h827c3e9_0\n",
      "yfinance                         0.2.65               pypi_0              pypi\n",
      "zeromq                           4.3.5                hd77b12b_0\n",
      "zict                             3.0.0                py313haa95532_0\n",
      "zipp                             3.21.0               py313haa95532_0\n",
      "zlib                             1.2.13               h8cc25b3_1\n",
      "zlib-ng                          2.0.7                h2bbff1b_0\n",
      "zope                             1.0                  py313haa95532_1\n",
      "zope.interface                   7.1.1                py313h827c3e9_0\n",
      "zstandard                        0.23.0               py313h4fc1ca9_1\n",
      "zstd                             1.5.6                h8880b57_0\n"
     ]
    }
   ],
   "source": [
    "# 나의 Python Ecosystem에 어떤 Libraries가 설치되어 있는지 확인\n",
    "!conda list"
   ]
  },
  {
   "cell_type": "markdown",
   "id": "3ae5ed16",
   "metadata": {},
   "source": [
    "## 현재 작업공간(Present Working Directory) 확인 및 바꾸기"
   ]
  },
  {
   "cell_type": "code",
   "execution_count": 3,
   "id": "b40b571c",
   "metadata": {},
   "outputs": [
    {
     "data": {
      "text/plain": [
       "'X:\\\\Econometrics_with_ML'"
      ]
     },
     "execution_count": 3,
     "metadata": {},
     "output_type": "execute_result"
    }
   ],
   "source": [
    "# 작업공간(working directory)지정  \n",
    "import os  \n",
    "os.chdir(\"X:\\Econometrics_with_ML\")\n",
    "\n",
    "# 현재 작업공간(working directory)확인  \n",
    "os.getcwd() "
   ]
  },
  {
   "cell_type": "markdown",
   "id": "45658529",
   "metadata": {},
   "source": [
    "## 나만의 작업 디렉터리(Working Directory)를 만들자!\n",
    "* D:/My Project/내에 Data, Functions, Figures, Jupyter, Output와 같은 Sub-directory를 만듬\n",
    "* 프로젝트 코딩 파일은 D:/My Project/내, 혹은 Jupyter에 위치시킴\n",
    "* Data 디렉터리에는 자료 \n",
    "* Functions 디렉터리에는 사용자가 만든 함수 \n",
    "* Figures 디렉터리에는 그래프\n",
    "* Output 디렉터리에는 결과물(데이터)을 CSV, Excel, Stata, SAS자료로 출력 보관"
   ]
  },
  {
   "cell_type": "code",
   "execution_count": 4,
   "id": "cd3d6a48",
   "metadata": {},
   "outputs": [],
   "source": [
    "# 메모리 정리\n",
    "for v in dir():\n",
    "     del globals()[v]"
   ]
  },
  {
   "cell_type": "markdown",
   "id": "0256b96f",
   "metadata": {},
   "source": [
    "## 필요한 라이브러리(모듈) 불러오기"
   ]
  },
  {
   "cell_type": "code",
   "execution_count": 5,
   "id": "d63ee76a",
   "metadata": {},
   "outputs": [],
   "source": [
    "# 매번 필요한 라이브러리를 설치하면 최근 버전으로 업데이트 되면서 기존 코드에 에러(Error) 발생 가능성이 있어서 특별한 경우 선별적으로 설치\n",
    "# 한꺼번에 아래 라이브러리를 설치할 때 에러가 발생할 수 있으므로 개별적으로 설치 권장\n",
    "# !pip install numpy pandas scipy math patsy matplotlib seaborn stargazer statsmodels linearmodels arch wooldridge wbdata warnings random scikit-learn pmdarima wbdata imfpy lazypredict joblib pickle pycaret "
   ]
  },
  {
   "cell_type": "code",
   "execution_count": 6,
   "id": "f3989900-4139-470b-af6f-a7e09fdb8415",
   "metadata": {},
   "outputs": [
    {
     "name": "stdout",
     "output_type": "stream",
     "text": [
      "Requirement already satisfied: stargazer in c:\\users\\parkseungrok\\anaconda3\\lib\\site-packages (0.0.7)\n"
     ]
    }
   ],
   "source": [
    "!pip install stargazer"
   ]
  },
  {
   "cell_type": "code",
   "execution_count": 7,
   "id": "b828de37-1b3c-4378-bd0c-db4691bd5e11",
   "metadata": {},
   "outputs": [
    {
     "name": "stdout",
     "output_type": "stream",
     "text": [
      "Requirement already satisfied: linearmodels in c:\\users\\parkseungrok\\anaconda3\\lib\\site-packages (6.1)\n",
      "Requirement already satisfied: numpy<3,>=1.22.3 in c:\\users\\parkseungrok\\anaconda3\\lib\\site-packages (from linearmodels) (2.1.3)\n",
      "Requirement already satisfied: pandas>=1.4.0 in c:\\users\\parkseungrok\\anaconda3\\lib\\site-packages (from linearmodels) (2.3.1)\n",
      "Requirement already satisfied: scipy>=1.8.0 in c:\\users\\parkseungrok\\anaconda3\\lib\\site-packages (from linearmodels) (1.15.3)\n",
      "Requirement already satisfied: statsmodels>=0.13.0 in c:\\users\\parkseungrok\\anaconda3\\lib\\site-packages (from linearmodels) (0.14.4)\n",
      "Requirement already satisfied: mypy-extensions>=0.4 in c:\\users\\parkseungrok\\anaconda3\\lib\\site-packages (from linearmodels) (1.0.0)\n",
      "Requirement already satisfied: Cython>=3.0.10 in c:\\users\\parkseungrok\\anaconda3\\lib\\site-packages (from linearmodels) (3.1.3)\n",
      "Requirement already satisfied: pyhdfe>=0.1 in c:\\users\\parkseungrok\\anaconda3\\lib\\site-packages (from linearmodels) (0.2.0)\n",
      "Requirement already satisfied: formulaic>=1.0.0 in c:\\users\\parkseungrok\\anaconda3\\lib\\site-packages (from linearmodels) (1.2.0)\n",
      "Requirement already satisfied: setuptools-scm<9.0.0,>=8.0.0 in c:\\users\\parkseungrok\\anaconda3\\lib\\site-packages (from setuptools-scm[toml]<9.0.0,>=8.0.0->linearmodels) (8.3.1)\n",
      "Requirement already satisfied: packaging>=20 in c:\\users\\parkseungrok\\anaconda3\\lib\\site-packages (from setuptools-scm<9.0.0,>=8.0.0->setuptools-scm[toml]<9.0.0,>=8.0.0->linearmodels) (24.2)\n",
      "Requirement already satisfied: setuptools in c:\\users\\parkseungrok\\anaconda3\\lib\\site-packages (from setuptools-scm<9.0.0,>=8.0.0->setuptools-scm[toml]<9.0.0,>=8.0.0->linearmodels) (80.9.0)\n",
      "Requirement already satisfied: interface-meta>=1.2.0 in c:\\users\\parkseungrok\\anaconda3\\lib\\site-packages (from formulaic>=1.0.0->linearmodels) (1.3.0)\n",
      "Requirement already satisfied: narwhals>=1.17 in c:\\users\\parkseungrok\\anaconda3\\lib\\site-packages (from formulaic>=1.0.0->linearmodels) (1.31.0)\n",
      "Requirement already satisfied: typing-extensions>=4.2.0 in c:\\users\\parkseungrok\\anaconda3\\lib\\site-packages (from formulaic>=1.0.0->linearmodels) (4.12.2)\n",
      "Requirement already satisfied: wrapt>=1.17.0rc1 in c:\\users\\parkseungrok\\anaconda3\\lib\\site-packages (from formulaic>=1.0.0->linearmodels) (1.17.0)\n",
      "Requirement already satisfied: python-dateutil>=2.8.2 in c:\\users\\parkseungrok\\anaconda3\\lib\\site-packages (from pandas>=1.4.0->linearmodels) (2.9.0.post0)\n",
      "Requirement already satisfied: pytz>=2020.1 in c:\\users\\parkseungrok\\anaconda3\\lib\\site-packages (from pandas>=1.4.0->linearmodels) (2025.2)\n",
      "Requirement already satisfied: tzdata>=2022.7 in c:\\users\\parkseungrok\\anaconda3\\lib\\site-packages (from pandas>=1.4.0->linearmodels) (2025.2)\n",
      "Requirement already satisfied: six>=1.5 in c:\\users\\parkseungrok\\anaconda3\\lib\\site-packages (from python-dateutil>=2.8.2->pandas>=1.4.0->linearmodels) (1.17.0)\n",
      "Requirement already satisfied: patsy>=0.5.6 in c:\\users\\parkseungrok\\anaconda3\\lib\\site-packages (from statsmodels>=0.13.0->linearmodels) (1.0.1)\n"
     ]
    }
   ],
   "source": [
    "!pip install linearmodels"
   ]
  },
  {
   "cell_type": "code",
   "execution_count": 8,
   "id": "def79318",
   "metadata": {},
   "outputs": [
    {
     "name": "stdout",
     "output_type": "stream",
     "text": [
      "Requirement already satisfied: wbdata in c:\\users\\parkseungrok\\anaconda3\\lib\\site-packages (1.0.0)\n",
      "Requirement already satisfied: appdirs<2.0,>=1.4 in c:\\users\\parkseungrok\\anaconda3\\lib\\site-packages (from wbdata) (1.4.4)\n",
      "Requirement already satisfied: backoff<3.0.0,>=2.2.1 in c:\\users\\parkseungrok\\anaconda3\\lib\\site-packages (from wbdata) (2.2.1)\n",
      "Requirement already satisfied: cachetools<6.0.0,>=5.3.2 in c:\\users\\parkseungrok\\anaconda3\\lib\\site-packages (from wbdata) (5.5.1)\n",
      "Requirement already satisfied: dateparser<2.0.0,>=1.2.0 in c:\\users\\parkseungrok\\anaconda3\\lib\\site-packages (from wbdata) (1.2.2)\n",
      "Requirement already satisfied: decorator<6.0.0,>=5.1.1 in c:\\users\\parkseungrok\\anaconda3\\lib\\site-packages (from wbdata) (5.1.1)\n",
      "Requirement already satisfied: requests<3.0,>=2.0 in c:\\users\\parkseungrok\\anaconda3\\lib\\site-packages (from wbdata) (2.32.3)\n",
      "Requirement already satisfied: shelved-cache<0.4.0,>=0.3.1 in c:\\users\\parkseungrok\\anaconda3\\lib\\site-packages (from wbdata) (0.3.1)\n",
      "Requirement already satisfied: tabulate<0.9.0,>=0.8.5 in c:\\users\\parkseungrok\\anaconda3\\lib\\site-packages (from wbdata) (0.8.10)\n",
      "Requirement already satisfied: python-dateutil>=2.7.0 in c:\\users\\parkseungrok\\anaconda3\\lib\\site-packages (from dateparser<2.0.0,>=1.2.0->wbdata) (2.9.0.post0)\n",
      "Requirement already satisfied: pytz>=2024.2 in c:\\users\\parkseungrok\\anaconda3\\lib\\site-packages (from dateparser<2.0.0,>=1.2.0->wbdata) (2025.2)\n",
      "Requirement already satisfied: regex>=2024.9.11 in c:\\users\\parkseungrok\\anaconda3\\lib\\site-packages (from dateparser<2.0.0,>=1.2.0->wbdata) (2024.11.6)\n",
      "Requirement already satisfied: tzlocal>=0.2 in c:\\users\\parkseungrok\\anaconda3\\lib\\site-packages (from dateparser<2.0.0,>=1.2.0->wbdata) (5.3.1)\n",
      "Requirement already satisfied: charset-normalizer<4,>=2 in c:\\users\\parkseungrok\\anaconda3\\lib\\site-packages (from requests<3.0,>=2.0->wbdata) (3.3.2)\n",
      "Requirement already satisfied: idna<4,>=2.5 in c:\\users\\parkseungrok\\anaconda3\\lib\\site-packages (from requests<3.0,>=2.0->wbdata) (3.7)\n",
      "Requirement already satisfied: urllib3<3,>=1.21.1 in c:\\users\\parkseungrok\\anaconda3\\lib\\site-packages (from requests<3.0,>=2.0->wbdata) (2.3.0)\n",
      "Requirement already satisfied: certifi>=2017.4.17 in c:\\users\\parkseungrok\\anaconda3\\lib\\site-packages (from requests<3.0,>=2.0->wbdata) (2025.4.26)\n",
      "Requirement already satisfied: six>=1.5 in c:\\users\\parkseungrok\\anaconda3\\lib\\site-packages (from python-dateutil>=2.7.0->dateparser<2.0.0,>=1.2.0->wbdata) (1.17.0)\n",
      "Requirement already satisfied: tzdata in c:\\users\\parkseungrok\\anaconda3\\lib\\site-packages (from tzlocal>=0.2->dateparser<2.0.0,>=1.2.0->wbdata) (2025.2)\n"
     ]
    }
   ],
   "source": [
    "!pip install wbdata"
   ]
  },
  {
   "cell_type": "code",
   "execution_count": 9,
   "id": "c6f5649d",
   "metadata": {},
   "outputs": [
    {
     "name": "stdout",
     "output_type": "stream",
     "text": [
      "Requirement already satisfied: arch in c:\\users\\parkseungrok\\anaconda3\\lib\\site-packages (7.2.0)\n",
      "Requirement already satisfied: numpy>=1.22.3 in c:\\users\\parkseungrok\\anaconda3\\lib\\site-packages (from arch) (2.1.3)\n",
      "Requirement already satisfied: scipy>=1.8 in c:\\users\\parkseungrok\\anaconda3\\lib\\site-packages (from arch) (1.15.3)\n",
      "Requirement already satisfied: pandas>=1.4 in c:\\users\\parkseungrok\\anaconda3\\lib\\site-packages (from arch) (2.3.1)\n",
      "Requirement already satisfied: statsmodels>=0.12 in c:\\users\\parkseungrok\\anaconda3\\lib\\site-packages (from arch) (0.14.4)\n",
      "Requirement already satisfied: python-dateutil>=2.8.2 in c:\\users\\parkseungrok\\anaconda3\\lib\\site-packages (from pandas>=1.4->arch) (2.9.0.post0)\n",
      "Requirement already satisfied: pytz>=2020.1 in c:\\users\\parkseungrok\\anaconda3\\lib\\site-packages (from pandas>=1.4->arch) (2025.2)\n",
      "Requirement already satisfied: tzdata>=2022.7 in c:\\users\\parkseungrok\\anaconda3\\lib\\site-packages (from pandas>=1.4->arch) (2025.2)\n",
      "Requirement already satisfied: six>=1.5 in c:\\users\\parkseungrok\\anaconda3\\lib\\site-packages (from python-dateutil>=2.8.2->pandas>=1.4->arch) (1.17.0)\n",
      "Requirement already satisfied: patsy>=0.5.6 in c:\\users\\parkseungrok\\anaconda3\\lib\\site-packages (from statsmodels>=0.12->arch) (1.0.1)\n",
      "Requirement already satisfied: packaging>=21.3 in c:\\users\\parkseungrok\\anaconda3\\lib\\site-packages (from statsmodels>=0.12->arch) (24.2)\n"
     ]
    }
   ],
   "source": [
    "!pip install arch"
   ]
  },
  {
   "cell_type": "code",
   "execution_count": 10,
   "id": "f31c4386-25e5-4f76-81d0-3ce0e0be0b68",
   "metadata": {},
   "outputs": [],
   "source": [
    "# 전통적 계량경제학에서 자주 사용되는 라이브러리(Libraries for the Analysis of Traditional Econometrics)\n",
    "# Call this file \n",
    "# \"exec(open('Functions/Traditional_Econometrics_Lib.py').read())\"\n",
    "# \"%run –i Functions/Traditional_Econometrics_Lib.py\"\n",
    "# \"from Functions.Traditional_Econometrics_Lib import * \"\n",
    "\n",
    "import os\n",
    "import numpy as np                                       # Numerical calculations\n",
    "import pandas as pd                                      # Data handling\n",
    "import math as someAlias\n",
    "import matplotlib.dates as mdates                        # Turn dates into numbers\n",
    "import matplotlib.pyplot as plt                          # Lower-level graphics\n",
    "import patsy as pt\n",
    "import seaborn as sns\n",
    "import stargazer as sg\n",
    "import statsmodels.api as sm\n",
    "import statsmodels.formula.api as smf                    # Econometrics\n",
    "import statsmodels.stats.api as sms\n",
    "import statsmodels.stats.diagnostic as dg\n",
    "import statsmodels.stats.outliers_influence as smo\n",
    "import linearmodels as lm                                # Panel model, Simultaneous Eq. Model\n",
    "import scipy.stats as stats                              # Statistics\n",
    "import random\n",
    "\n",
    "from scipy.optimize import Bounds\n",
    "from scipy.optimize import curve_fit                    # Nonlinear regression\n",
    "from scipy.optimize import minimize\n",
    "from scipy.stats import norm\n",
    "from statsmodels.graphics import tsaplots               # Time series\n",
    "from statsmodels.iolib.summary2 import summary_col\n",
    "from statsmodels.stats.anova import anova_lm\n",
    "from statsmodels.stats.stattools import durbin_watson\n",
    "from statsmodels.tsa.api import VAR\n",
    "from statsmodels.tsa.ar_model import AutoReg, ar_select_order\n",
    "from statsmodels.tsa.arima.model import ARIMA\n",
    "from statsmodels.tsa.stattools import adfuller          # ADF test\n",
    "from statsmodels.tsa.stattools import coint             # Cointegration\n",
    "from statsmodels.tsa.vector_ar.vecm import VECM\n",
    "from arch import arch_model\n",
    "\n",
    "import wooldridge as woo\n",
    "import wbdata\n",
    "\n",
    "\n",
    "import warnings\n",
    "warnings.filterwarnings(\"ignore\")"
   ]
  },
  {
   "cell_type": "code",
   "execution_count": 11,
   "id": "10fd1e3d",
   "metadata": {},
   "outputs": [],
   "source": [
    "# 주로 사용하는 에디터\n",
    "# Spyder : 선별적으로 사용\n",
    "# Jupyter Notebook : 주로 사용\n",
    "# Google Colab : ML, DL 등 계산량이 많은 작업 수행때 사용"
   ]
  },
  {
   "cell_type": "code",
   "execution_count": null,
   "id": "3348d9ee-0877-4f0e-b6e8-ce895ee842d2",
   "metadata": {},
   "outputs": [],
   "source": [
    "# Python, py 파일을 Jupyter Notebook, ipynb 파일로 변환하기 \n",
    "# !pip install ipynb-py-convert\n",
    "# !ipynb-py-convert test.py test.ipynb"
   ]
  },
  {
   "cell_type": "markdown",
   "id": "41b9c78a",
   "metadata": {},
   "source": [
    "## 설명문(comment) 입력\n",
    "* 샤프(#)로 시작하면 입력된 내용은 파이썬의 실행과 무관한 설명문이 됨.\n",
    "* 여러 line을 설명문으로 지정하기 위해서는 \"\"\"     \"\"\" 사용\n",
    "* 설명문을 체계적으로 작성하면 차후 이해나 다른 사람과의 공유에 도움"
   ]
  },
  {
   "cell_type": "code",
   "execution_count": null,
   "id": "baad2d76-f3d8-43d2-9f9f-964ba4ee4cb5",
   "metadata": {},
   "outputs": [],
   "source": [
    "# 이하  선형회귀식 추정\n",
    "\n",
    "\"\"\" \n",
    "이하 선형회귀 추정과 가설검정\n",
    "예측을 위한 부분임\n",
    "\"\"\""
   ]
  },
  {
   "cell_type": "markdown",
   "id": "582345f9",
   "metadata": {},
   "source": [
    "# 2. 간단한 연산 및 출력방법"
   ]
  },
  {
   "cell_type": "code",
   "execution_count": 15,
   "id": "33550b9d",
   "metadata": {
    "scrolled": true
   },
   "outputs": [
    {
     "name": "stdout",
     "output_type": "stream",
     "text": [
      "100\n"
     ]
    }
   ],
   "source": [
    "# print문의 괄호()내에 수식 기술\n",
    "print((4 + 6) * 10)"
   ]
  },
  {
   "cell_type": "code",
   "execution_count": 16,
   "id": "7412c909",
   "metadata": {
    "scrolled": true
   },
   "outputs": [
    {
     "data": {
      "text/plain": [
       "100"
      ]
     },
     "execution_count": 16,
     "metadata": {},
     "output_type": "execute_result"
    }
   ],
   "source": [
    "# 수식만 기술\n",
    "from IPython import get_ipython; get_ipython().user_ns.setdefault('_oh', {})\n",
    "(4 + 6) * 10"
   ]
  },
  {
   "cell_type": "markdown",
   "id": "78fcad5d",
   "metadata": {},
   "source": [
    "## 출력(print)방법 3가지 \n",
    "### 1) print문 사용(머신러닝 부분에서 자주 사용)\n",
    "* 괄호()내에 f'xxxxxxxxxxxxxxx {var})형식을 이용하여 설명을 위한 텍스트 삽입\n",
    "* 빈줄 삽입시 /n 사용\n",
    "### 2) 객체(object)만 사용\n",
    "* Jupiter Notebook에서 사용\n",
    "### 3) display문 사용\n",
    "* Jupiter Notebook에서 사용\n",
    "* 보다 세련된 형식으로 출력 가능"
   ]
  },
  {
   "cell_type": "code",
   "execution_count": 17,
   "id": "8ab2c984",
   "metadata": {},
   "outputs": [
    {
     "name": "stdout",
     "output_type": "stream",
     "text": [
      "result1: 2\n",
      "\n"
     ]
    }
   ],
   "source": [
    "result1 = 1 + 1\n",
    "print(f'result1: {result1}\\n')"
   ]
  },
  {
   "cell_type": "code",
   "execution_count": 18,
   "id": "666db14b",
   "metadata": {},
   "outputs": [
    {
     "data": {
      "text/plain": [
       "2"
      ]
     },
     "metadata": {},
     "output_type": "display_data"
    }
   ],
   "source": [
    "display(result1)"
   ]
  },
  {
   "cell_type": "code",
   "execution_count": 19,
   "id": "ab667d91",
   "metadata": {},
   "outputs": [
    {
     "name": "stdout",
     "output_type": "stream",
     "text": [
      "result2: 45\n",
      "\n"
     ]
    }
   ],
   "source": [
    "result2 = 5 * (4 - 1) ** 2\n",
    "print(f'result2: {result2}\\n')"
   ]
  },
  {
   "cell_type": "code",
   "execution_count": 21,
   "id": "fed218a3",
   "metadata": {},
   "outputs": [
    {
     "name": "stdout",
     "output_type": "stream",
     "text": [
      "result3: \n",
      "[2, 45]\n",
      "\n"
     ]
    }
   ],
   "source": [
    "result3 = [result1, result2]\n",
    "print(f'result3: \\n{result3}\\n')"
   ]
  },
  {
   "cell_type": "markdown",
   "id": "ac7cc3ef",
   "metadata": {},
   "source": [
    "# 3. 모듈의 이해"
   ]
  },
  {
   "cell_type": "code",
   "execution_count": 22,
   "id": "f2a98df9",
   "metadata": {},
   "outputs": [
    {
     "data": {
      "text/plain": [
       "['__doc__',\n",
       " '__loader__',\n",
       " '__name__',\n",
       " '__package__',\n",
       " '__spec__',\n",
       " 'acos',\n",
       " 'acosh',\n",
       " 'asin',\n",
       " 'asinh',\n",
       " 'atan',\n",
       " 'atan2',\n",
       " 'atanh',\n",
       " 'cbrt',\n",
       " 'ceil',\n",
       " 'comb',\n",
       " 'copysign',\n",
       " 'cos',\n",
       " 'cosh',\n",
       " 'degrees',\n",
       " 'dist',\n",
       " 'e',\n",
       " 'erf',\n",
       " 'erfc',\n",
       " 'exp',\n",
       " 'exp2',\n",
       " 'expm1',\n",
       " 'fabs',\n",
       " 'factorial',\n",
       " 'floor',\n",
       " 'fma',\n",
       " 'fmod',\n",
       " 'frexp',\n",
       " 'fsum',\n",
       " 'gamma',\n",
       " 'gcd',\n",
       " 'hypot',\n",
       " 'inf',\n",
       " 'isclose',\n",
       " 'isfinite',\n",
       " 'isinf',\n",
       " 'isnan',\n",
       " 'isqrt',\n",
       " 'lcm',\n",
       " 'ldexp',\n",
       " 'lgamma',\n",
       " 'log',\n",
       " 'log10',\n",
       " 'log1p',\n",
       " 'log2',\n",
       " 'modf',\n",
       " 'nan',\n",
       " 'nextafter',\n",
       " 'perm',\n",
       " 'pi',\n",
       " 'pow',\n",
       " 'prod',\n",
       " 'radians',\n",
       " 'remainder',\n",
       " 'sin',\n",
       " 'sinh',\n",
       " 'sqrt',\n",
       " 'sumprod',\n",
       " 'tan',\n",
       " 'tanh',\n",
       " 'tau',\n",
       " 'trunc',\n",
       " 'ulp']"
      ]
     },
     "execution_count": 22,
     "metadata": {},
     "output_type": "execute_result"
    }
   ],
   "source": [
    "from IPython import get_ipython; get_ipython().user_ns.setdefault('_oh', {})\n",
    "\n",
    "import math as someAlias\n",
    "dir(someAlias)"
   ]
  },
  {
   "cell_type": "code",
   "execution_count": 23,
   "id": "f2e5210f",
   "metadata": {},
   "outputs": [
    {
     "name": "stdout",
     "output_type": "stream",
     "text": [
      "result1: 4.605170185988092\n",
      "\n",
      "result1: 6.0\n",
      "\n",
      "Pi: 3.141592653589793\n",
      "\n",
      "Eulers number: 2.718281828459045\n",
      "\n"
     ]
    }
   ],
   "source": [
    "result1 = someAlias.log(100)\n",
    "print(f'result1: {result1}\\n')\n",
    "\n",
    "result2 = someAlias.sqrt(36)\n",
    "print(f'result1: {result2}\\n')\n",
    "\n",
    "result3 = someAlias.pi\n",
    "print(f'Pi: {result3}\\n')\n",
    "\n",
    "result4 = someAlias.e\n",
    "print(f'Eulers number: {result4}\\n')"
   ]
  }
 ],
 "metadata": {
  "kernelspec": {
   "display_name": "Python 3 (ipykernel)",
   "language": "python",
   "name": "python3"
  },
  "language_info": {
   "codemirror_mode": {
    "name": "ipython",
    "version": 3
   },
   "file_extension": ".py",
   "mimetype": "text/x-python",
   "name": "python",
   "nbconvert_exporter": "python",
   "pygments_lexer": "ipython3",
   "version": "3.13.5"
  }
 },
 "nbformat": 4,
 "nbformat_minor": 5
}
