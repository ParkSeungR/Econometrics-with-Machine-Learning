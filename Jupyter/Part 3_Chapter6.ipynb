{
 "cells": [
  {
   "attachments": {
    "62ab5d95-f123-4650-ac2f-8c147b1ee077.png": {
     "image/png": "[encoded data removed]"
    }
   },
   "cell_type": "markdown",
   "id": "f9c7a00d-4df2-4939-8bcf-fe72f60d070c",
   "metadata": {},
   "source": [
    "![실습파일 표지로고(최종).png](attachment:62ab5d95-f123-4650-ac2f-8c147b1ee077.png)"
   ]
  },
  {
   "cell_type": "markdown",
   "id": "ac3c2fb1-08e9-4bfb-ae4e-96a634d8d744",
   "metadata": {},
   "source": [
    "# Part 3. 전통적 계량경제학"
   ]
  },
  {
   "cell_type": "markdown",
   "id": "09f41f24-d1c2-4857-aa01-a248562e9dc6",
   "metadata": {},
   "source": [
    "## Chapter 7. 최우법(Maximum Likelihood Estimation Method)"
   ]
  },
  {
   "cell_type": "markdown",
   "id": "090bd728-5084-4de0-b8f3-4ec34d8b8d30",
   "metadata": {},
   "source": [
    "### 가. 다중회귀분석 (Multiple Linear Regression)"
   ]
  },
  {
   "cell_type": "code",
   "execution_count": 3,
   "id": "9ea9c0f4-b9aa-429a-9ba8-9683f9e69b76",
   "metadata": {},
   "outputs": [
    {
     "data": {
      "text/plain": [
       "'E:\\\\JupyterWDirectory\\\\MyStock'"
      ]
     },
     "execution_count": 3,
     "metadata": {},
     "output_type": "execute_result"
    }
   ],
   "source": [
    "# 작업공간(working directory)지정  \n",
    "import os  \n",
    "os.chdir(\"E:\\JupyterWDirectory\\MyStock\")\n",
    "os.getcwd()"
   ]
  },
  {
   "cell_type": "code",
   "execution_count": 2,
   "id": "f40b9525-4fb6-468e-8d41-45baa4ae97d0",
   "metadata": {},
   "outputs": [],
   "source": [
    "exec(open('E:/JupyterWDirectory/MyStock/Functions/Traditional_Econometrics_Lib.py').read())"
   ]
  },
  {
   "cell_type": "code",
   "execution_count": null,
   "id": "b9af33c8-79c0-4629-886d-90f9f9cb20d6",
   "metadata": {},
   "outputs": [],
   "source": [
    "\"\"\"\n",
    "# #####################################################################\n",
    "# 위의 함수는 아래 다양한 라이브러리와 함수를 한 문장으로 불러오는 방법\n",
    "# #####################################################################\n",
    "\n",
    "# 분석에 사용될 라이브러리(Libraries for the Analysis) 불러오기\n",
    "# Libraries for the Analysis of Traditional Econometrics.py\n",
    "# 불러오는 방법:  \"exec(open('Functions/Traditional_Econometrics_Lib.py').read())\"\n",
    "# #####################################################################\n",
    "\n",
    "# 만약 특정 라이브러리가 설치되지 않았다는 에러 메시지가 나타날 때는 \n",
    "# 해당 라이브러리를 설치하여야 함\n",
    "# 아래 라이브러리를 하나 하나 실행하면서 어떤 라이브러리가 설치되지 않았는지 확인하여도 됨\n",
    "# #####################################################################\n",
    "import os\n",
    "import numpy as np                                       # Numerical calculations\n",
    "import pandas as pd                                      # Data handling\n",
    "import math as someAlias\n",
    "import matplotlib.dates as mdates                        # Turn dates into numbers\n",
    "import matplotlib.pyplot as plt                          # Lower-level graphics\n",
    "import patsy as pt\n",
    "import seaborn as sns\n",
    "import stargazer.stargazer as sg\n",
    "import statsmodels.api as sm\n",
    "import statsmodels.formula.api as smf                    # Econometrics\n",
    "import statsmodels.stats.api as sms\n",
    "import statsmodels.stats.diagnostic as dg\n",
    "import statsmodels.stats.outliers_influence as smo\n",
    "import linearmodels as lm                                # Panel model, Simultaneous Eq. Model\n",
    "import scipy.stats as stats                              # Statistics\n",
    "import random\n",
    "\n",
    "from scipy.optimize import Bounds\n",
    "from scipy.optimize import curve_fit                    # Nonlinear regression\n",
    "from scipy.optimize import minimize\n",
    "from scipy.stats import norm\n",
    "from statsmodels.graphics import tsaplots               # Time series\n",
    "from statsmodels.iolib.summary2 import summary_col\n",
    "from statsmodels.stats.anova import anova_lm\n",
    "from statsmodels.stats.stattools import durbin_watson\n",
    "from statsmodels.tsa.api import VAR\n",
    "from statsmodels.tsa.ar_model import AutoReg, ar_select_order\n",
    "from statsmodels.tsa.arima.model import ARIMA\n",
    "from statsmodels.tsa.stattools import adfuller          # ADF test\n",
    "from statsmodels.tsa.stattools import coint             # Cointegration\n",
    "from statsmodels.tsa.vector_ar.vecm import VECM\n",
    "from arch import arch_model\n",
    "\n",
    "import wooldridge as woo\n",
    "from imfpy.retrievals import dots\n",
    "import wbdata\n",
    "import yfinance as yf\n",
    "\n",
    "import warnings\n",
    "warnings.filterwarnings(\"ignore\")\n",
    "\"\"\""
   ]
  },
  {
   "cell_type": "code",
   "execution_count": 6,
   "id": "9d278c03-0f6c-451b-8a62-1979ee19c9a9",
   "metadata": {},
   "outputs": [
    {
     "name": "stdout",
     "output_type": "stream",
     "text": [
      "         Current function value: 41.500699\n",
      "         Iterations: 0\n",
      "         Function evaluations: 252\n",
      "         Gradient evaluations: 40\n",
      "MLE Coefficients: [ 1.38955383  0.41181617  0.01472023 -0.08311314]\n",
      "MLE Sigma: 0.3247799725001268\n",
      "\n",
      "OLS Coefficients:\n",
      "const      1.389554\n",
      "hsGPA      0.411816\n",
      "ACT        0.014720\n",
      "skipped   -0.083113\n",
      "dtype: float64\n",
      "OLS Sigma: 0.3247799725001268\n"
     ]
    }
   ],
   "source": [
    "import numpy as np\n",
    "import pandas as pd\n",
    "from scipy.optimize import minimize\n",
    "import statsmodels.api as sm\n",
    "import wooldridge as woo\n",
    "\n",
    "# 데이터 불러오기\n",
    "df = woo.dataWoo('gpa1')\n",
    "\n",
    "# 변수준비\n",
    "y = df['colGPA']\n",
    "X = df[['hsGPA', 'ACT', 'skipped']]\n",
    "X = sm.add_constant(X)  # 상수항 추가\n",
    "\n",
    "# 정규분포 가정 하에 로그 우도함수 정의\n",
    "def neg_log_likelihood(params, X, y):\n",
    "    beta = params[:-1]  # 회귀 계수\n",
    "    sigma = np.exp(params[-1])  # 오차항 표준편차 (항상 양수가 되도록 exp 사용)\n",
    "    \n",
    "    # 예측값 계산\n",
    "    y_pred = X.dot(beta)\n",
    "    \n",
    "    # 로그 우도 계산 (정규분포 가정)\n",
    "    ll = -0.5 * len(y) * np.log(2 * np.pi) - len(y) * np.log(sigma) - \\\n",
    "         0.5 * np.sum(((y - y_pred) / sigma) ** 2)\n",
    "    \n",
    "    return -ll  # 최적화를 위해 음수 로그 우도 반환\n",
    "\n",
    "# OLS로 초기 파라미터 추정\n",
    "ols_model = sm.OLS(y, X).fit()\n",
    "initial_beta = ols_model.params\n",
    "initial_sigma = np.log(np.std(ols_model.resid)) \n",
    "\n",
    "# 파라미터 초기값 정의 \n",
    "initial_params = np.concatenate([initial_beta, [initial_sigma]])\n",
    "\n",
    "# 최적화 \n",
    "result = minimize(neg_log_likelihood, \n",
    "                 initial_params, \n",
    "                 args=(X, y),\n",
    "                 method='BFGS',  \n",
    "                 options={'maxiter': 10000, 'disp': True})\n",
    "\n",
    "# 결과 출력\n",
    "beta_mle = result.x[:-1]\n",
    "sigma_mle = np.exp(result.x[-1])  # 다시 원래 스케일로 변환\n",
    "print(\"MLE Coefficients:\", beta_mle)\n",
    "print(\"MLE Sigma:\", sigma_mle)\n",
    "\n",
    "# OLS 결과와 비교\n",
    "print(\"\\nOLS Coefficients:\")\n",
    "print(ols_model.params)\n",
    "print(\"OLS Sigma:\", np.std(ols_model.resid))"
   ]
  },
  {
   "cell_type": "markdown",
   "id": "e56805bf-4cba-4b48-99a7-0e520ad2be4a",
   "metadata": {},
   "source": [
    "### 나. 로지스틱 회귀"
   ]
  },
  {
   "cell_type": "code",
   "execution_count": 7,
   "id": "2064bded-d217-4dd2-8666-5dd199fa0ab1",
   "metadata": {},
   "outputs": [
    {
     "name": "stdout",
     "output_type": "stream",
     "text": [
      "최우추정 결과:\n",
      "Beta: [ 1.09951723  2.20369233 -1.5507216 ]\n",
      "\n",
      "Statsmodels 결과:\n",
      "Beta: [ 1.09951719  2.20369221 -1.55072153]\n"
     ]
    }
   ],
   "source": [
    "import numpy as np\n",
    "from scipy.optimize import minimize\n",
    "import statsmodels.api as sm\n",
    "\n",
    "# 데이터 생성\n",
    "np.random.seed(42)\n",
    "n = 1000\n",
    "X = np.random.normal(0, 1, (n, 2))\n",
    "X = np.column_stack([np.ones(n), X])  # 상수항 추가\n",
    "beta_true = np.array([1, 2, -1.5])\n",
    "p = 1 / (1 + np.exp(-X @ beta_true))  # 로지스틱 함수\n",
    "y = np.random.binomial(1, p)\n",
    "\n",
    "# 로짓 모형의 로그 우도함수 정의\n",
    "def neg_log_likelihood_logit(beta, y, X):\n",
    "    xbeta = X @ beta\n",
    "    # 수치적 안정성을 위한 처리\n",
    "    xbeta = np.clip(xbeta, -30, 30)\n",
    "    \n",
    "    # 로지스틱 함수\n",
    "    p = 1 / (1 + np.exp(-xbeta))\n",
    "    \n",
    "    # 로그 우도함수\n",
    "    ll = np.sum(y * np.log(p) + (1 - y) * np.log(1 - p))\n",
    "    \n",
    "    return -ll  # 최소화 문제로 변환\n",
    "\n",
    "# 최우추정\n",
    "initial_beta = np.zeros(X.shape[1])\n",
    "result = minimize(neg_log_likelihood_logit, initial_beta, args=(y, X),\n",
    "                 method='BFGS')\n",
    "beta_mle = result.x\n",
    "\n",
    "# statsmodels 결과와 비교\n",
    "logit_model = sm.Logit(y, X).fit(disp=0)\n",
    "\n",
    "print(\"최우추정 결과:\")\n",
    "print(f\"Beta: {beta_mle}\")\n",
    "print(\"\\nStatsmodels 결과:\")\n",
    "print(f\"Beta: {logit_model.params}\")"
   ]
  },
  {
   "cell_type": "markdown",
   "id": "55097de7-553f-462f-bc85-4ac93ef6e998",
   "metadata": {},
   "source": [
    "### 바. 포아송 회귀"
   ]
  },
  {
   "cell_type": "code",
   "execution_count": 9,
   "id": "f2e923a8-70f0-4062-b62c-da4dd1c1ecd3",
   "metadata": {},
   "outputs": [
    {
     "name": "stdout",
     "output_type": "stream",
     "text": [
      "최우추정 결과:\n",
      "Beta: [ 1.01547146  0.45397873 -0.28748481]\n",
      "\n",
      "Statsmodels 결과:\n",
      "Beta: [ 1.01547147  0.45397874 -0.2874848 ]\n",
      "\n",
      "추정된 과산포 계수: 0.9802401881720707\n",
      "과산포 문제 없음: 포아송 회귀 적합\n"
     ]
    }
   ],
   "source": [
    "import numpy as np\n",
    "from scipy.optimize import minimize\n",
    "import statsmodels.api as sm\n",
    "\n",
    "# 데이터 생성\n",
    "np.random.seed(42)\n",
    "n = 500\n",
    "X = np.random.normal(0, 1, (n, 2))\n",
    "X = np.column_stack([np.ones(n), X])  # 상수항 추가\n",
    "beta_true = np.array([1, 0.5, -0.3])\n",
    "lambda_i = np.exp(X @ beta_true)\n",
    "y = np.random.poisson(lambda_i)\n",
    "\n",
    "# 포아송 회귀의 로그 우도함수 정의\n",
    "def neg_log_likelihood_poisson(beta, y, X):\n",
    "    xbeta = X @ beta\n",
    "    lambda_i = np.exp(xbeta)\n",
    "    \n",
    "    # 로그 우도함수 (log(y!)은 상수이므로 최적화에서 제외)\n",
    "    ll = np.sum(y * xbeta - lambda_i)\n",
    "    \n",
    "    return -ll  # 최소화 문제로 변환\n",
    "\n",
    "# 최우추정\n",
    "initial_beta = np.zeros(X.shape[1])\n",
    "result = minimize(neg_log_likelihood_poisson, initial_beta, args=(y, X),\n",
    "                 method='BFGS')\n",
    "beta_mle = result.x\n",
    "\n",
    "# statsmodels 결과와 비교\n",
    "poisson_model = sm.GLM(y, X, family=sm.families.Poisson()).fit()\n",
    "\n",
    "print(\"최우추정 결과:\")\n",
    "print(f\"Beta: {beta_mle}\")\n",
    "print(\"\\nStatsmodels 결과:\")\n",
    "print(f\"Beta: {poisson_model.params}\")\n",
    "\n",
    "# 과산포 검정\n",
    "y_pred = np.exp(X @ beta_mle)\n",
    "dispersion = np.sum((y - y_pred)**2 / y_pred) / (n - X.shape[1])\n",
    "\n",
    "print(f\"\\n추정된 과산포 계수: {dispersion}\")\n",
    "if dispersion > 1.5:\n",
    "    print(\"과산포가 관찰됨: 음이항 회귀 고려 필요\")\n",
    "else:\n",
    "    print(\"과산포 문제 없음: 포아송 회귀 적합\")\n",
    "\n",
    "# 실제 응용 예: 음이항 회귀 구현\n",
    "if dispersion > 1.5:\n",
    "    nb_model = sm.NegativeBinomial(y, X).fit()\n",
    "    print(\"\\n음이항 회귀 결과:\")\n",
    "    print(f\"Beta: {nb_model.params}\")"
   ]
  },
  {
   "cell_type": "markdown",
   "id": "86a1f063-3036-4f6a-906a-e1f273db2287",
   "metadata": {},
   "source": [
    "## 5. 최우법에서 경사 하강법"
   ]
  },
  {
   "cell_type": "code",
   "execution_count": 8,
   "id": "c147ba9f-5b22-41ab-b5ba-a39d1e0dae10",
   "metadata": {},
   "outputs": [
    {
     "name": "stdout",
     "output_type": "stream",
     "text": [
      "156번 반복 후 수렴\n",
      "진짜 매개변수: [-0.5  1.  -1. ]\n",
      "MLE 추정치: [-0.81224534  0.9889131  -1.4304866 ]\n"
     ]
    },
    {
     "data": {
      "image/png": "[encoded data removed]",
      "text/plain": [
       "<Figure size 1200x600 with 1 Axes>"
      ]
     },
     "metadata": {},
     "output_type": "display_data"
    }
   ],
   "source": [
    "import numpy as np\n",
    "import matplotlib.pyplot as plt\n",
    "\n",
    "# 예제: 경사 하강법을 사용한 로지스틱 회귀\n",
    "def logistic(z):\n",
    "    return 1 / (1 + np.exp(-z))\n",
    "\n",
    "# 샘플 데이터 생성\n",
    "np.random.seed(42)\n",
    "n = 100\n",
    "X = np.random.randn(n, 2)\n",
    "true_beta = np.array([-0.5, 1, -1])\n",
    "z = X @ true_beta[1:] + true_beta[0]\n",
    "p = logistic(z)\n",
    "y = np.random.binomial(1, p)\n",
    "\n",
    "# 절편 열 추가\n",
    "X_with_intercept = np.column_stack((np.ones(n), X))\n",
    "\n",
    "# 로지스틱 회귀에 대한 로그우도의 기울기\n",
    "def grad_log_likelihood(beta, X, y):\n",
    "    z = X @ beta\n",
    "    p = logistic(z)\n",
    "    return X.T @ (y - p)\n",
    "\n",
    "# MLE를 위한 경사 하강법\n",
    "def gradient_descent_mle(X, y, learning_rate=0.01, max_iter=10000, tol=1e-6):\n",
    "    beta = np.zeros(X.shape[1])\n",
    "    beta_history = [beta.copy()]\n",
    "    \n",
    "    for i in range(max_iter):\n",
    "        gradient = grad_log_likelihood(beta, X, y)\n",
    "        beta_new = beta + learning_rate * gradient\n",
    "        \n",
    "        # 수렴 확인\n",
    "        if np.linalg.norm(beta_new - beta) < tol:\n",
    "            print(f\"{i+1}번 반복 후 수렴\")\n",
    "            break\n",
    "            \n",
    "        beta = beta_new\n",
    "        beta_history.append(beta.copy())\n",
    "    \n",
    "    return beta, np.array(beta_history)\n",
    "\n",
    "# 경사 하강법 실행\n",
    "beta_mle, beta_history = gradient_descent_mle(X_with_intercept, y)\n",
    "print(f\"진짜 매개변수: {true_beta}\")\n",
    "print(f\"MLE 추정치: {beta_mle}\")\n",
    "\n",
    "# 수렴 시각화\n",
    "plt.figure(figsize=(12, 6))\n",
    "for i in range(3):\n",
    "    plt.plot(beta_history[:, i], label=f'β{i}')\n",
    "plt.axhline(y=true_beta[0], color='r', linestyle='--', alpha=0.3)\n",
    "plt.axhline(y=true_beta[1], color='g', linestyle='--', alpha=0.3)\n",
    "plt.axhline(y=true_beta[2], color='b', linestyle='--', alpha=0.3)\n",
    "plt.xlabel('반복')\n",
    "plt.ylabel('매개변수 값')\n",
    "plt.title('로지스틱 회귀 MLE에 대한 경사 하강법 수렴')\n",
    "plt.legend()\n",
    "plt.grid(True, alpha=0.3)\n",
    "plt.show()"
   ]
  },
  {
   "cell_type": "code",
   "execution_count": null,
   "id": "71649902-04b6-4d6d-82e7-407ab1e5b170",
   "metadata": {},
   "outputs": [],
   "source": []
  },
  {
   "cell_type": "markdown",
   "id": "9282694c-98cc-4d76-9637-01ec74f5b580",
   "metadata": {},
   "source": [
    "#### 확률변경생산함수, 확률변경비용함수는 다른 파일 참조"
   ]
  }
 ],
 "metadata": {
  "kernelspec": {
   "display_name": "Python [conda env:base] *",
   "language": "python",
   "name": "conda-base-py"
  },
  "language_info": {
   "codemirror_mode": {
    "name": "ipython",
    "version": 3
   },
   "file_extension": ".py",
   "mimetype": "text/x-python",
   "name": "python",
   "nbconvert_exporter": "python",
   "pygments_lexer": "ipython3",
   "version": "3.12.3"
  }
 },
 "nbformat": 4,
 "nbformat_minor": 5
}
