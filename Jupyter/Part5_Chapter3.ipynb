{
 "cells": [
  {
   "attachments": {
    "82f17378-2cc8-47b7-ae0d-9ba07972e4c3.png": {
     "image/png": "[encoded data removed]"
    }
   },
   "cell_type": "markdown",
   "id": "74c1d6c6-f1c8-4f64-87c6-cb69c590bcfc",
   "metadata": {},
   "source": [
    "![실습파일 표지로고(최종).png](attachment:82f17378-2cc8-47b7-ae0d-9ba07972e4c3.png)"
   ]
  },
  {
   "cell_type": "markdown",
   "id": "281b2247-d461-4ab3-9b8c-d35a2c356d0e",
   "metadata": {},
   "source": [
    "# Part 5: 정성적 선택모형, 제한 종속변수 모형"
   ]
  },
  {
   "cell_type": "markdown",
   "id": "bc6e5fa0-b13f-4b1e-b4f8-ca79a27ce748",
   "metadata": {},
   "source": [
    "## Chapter 3: 집계자료 회귀모형"
   ]
  },
  {
   "cell_type": "code",
   "execution_count": 1,
   "id": "ba07f5eb",
   "metadata": {},
   "outputs": [
    {
     "data": {
      "text/plain": [
       "'X:\\\\Econometrics_with_ML'"
      ]
     },
     "execution_count": 1,
     "metadata": {},
     "output_type": "execute_result"
    }
   ],
   "source": [
    "# 작업공간(working directory)지정  \n",
    "import os  \n",
    "os.chdir(\"X:/Econometrics_with_ML\")\n",
    "os.getcwd()"
   ]
  },
  {
   "cell_type": "code",
   "execution_count": 2,
   "id": "1467de06",
   "metadata": {},
   "outputs": [],
   "source": [
    "# exec(open('X:/Econometrics_with_ML/Functions/Traditional_Econometrics_Lib.py').read())"
   ]
  },
  {
   "cell_type": "code",
   "execution_count": 3,
   "id": "b120bd30-425b-4604-b729-6b0ecdbde6ea",
   "metadata": {},
   "outputs": [],
   "source": [
    "\n",
    "# 전통적 계량경제학에서 자주 사용되는 라이브러리(Libraries for the Analysis of Traditional Econometrics)\n",
    "# Call this file \n",
    "# \"exec(open('Functions/Traditional_Econometrics_Lib.py').read())\"\n",
    "# \"%run –i Functions/Traditional_Econometrics_Lib.py\"\n",
    "# \"from Functions.Traditional_Econometrics_Lib import * \"\n",
    "import os\n",
    "import numpy as np                                       # Numerical calculations\n",
    "import pandas as pd                                      # Data handling\n",
    "import math as someAlias\n",
    "import matplotlib.dates as mdates                        # Turn dates into numbers\n",
    "import matplotlib.pyplot as plt                          # Lower-level graphics\n",
    "import patsy as pt\n",
    "import seaborn as sns\n",
    "import stargazer as sg\n",
    "import statsmodels.api as sm\n",
    "import statsmodels.formula.api as smf                    # Econometrics\n",
    "import statsmodels.stats.api as sms\n",
    "import statsmodels.stats.diagnostic as dg\n",
    "import statsmodels.stats.outliers_influence as smo\n",
    "import linearmodels as lm                                # Panel model, Simultaneous Eq. Model\n",
    "import scipy.stats as stats                              # Statistics\n",
    "import random\n",
    "from scipy.optimize import Bounds\n",
    "from scipy.optimize import curve_fit                    # Nonlinear regression\n",
    "from scipy.optimize import minimize\n",
    "from scipy.stats import norm\n",
    "from statsmodels.graphics import tsaplots               # Time series\n",
    "from statsmodels.iolib.summary2 import summary_col\n",
    "from statsmodels.stats.anova import anova_lm\n",
    "from statsmodels.stats.stattools import durbin_watson\n",
    "from statsmodels.tsa.api import VAR\n",
    "from statsmodels.tsa.ar_model import AutoReg, ar_select_order\n",
    "from statsmodels.tsa.arima.model import ARIMA\n",
    "from statsmodels.tsa.stattools import adfuller          # ADF test\n",
    "from statsmodels.tsa.stattools import coint             # Cointegration\n",
    "from statsmodels.tsa.vector_ar.vecm import VECM\n",
    "from arch import arch_model\n",
    "import wooldridge as woo\n",
    "import wbdata\n",
    "import warnings\n",
    "warnings.filterwarnings(\"ignore\")\n",
    "\n",
    "# Korean Fonts\n",
    "import matplotlib as mpl\n",
    "mpl.rc('font', family='NanumGothic')\n",
    "mpl.rc('axes', unicode_minus=False)"
   ]
  },
  {
   "cell_type": "markdown",
   "id": "58bc819a-9925-4ab3-a2d1-0297e6d38ac4",
   "metadata": {},
   "source": [
    "## 3. 포아송 회귀모형, 음이항 회귀모형의 추정"
   ]
  },
  {
   "cell_type": "code",
   "execution_count": 4,
   "id": "b2c2b7af-6b18-4573-b0f9-a0a5bde8619c",
   "metadata": {},
   "outputs": [
    {
     "name": "stdout",
     "output_type": "stream",
     "text": [
      "                          Poisson Regression Results                          \n",
      "==============================================================================\n",
      "Dep. Variable:                 narr86   No. Observations:                 2725\n",
      "Model:                        Poisson   Df Residuals:                     2715\n",
      "Method:                           MLE   Df Model:                            9\n",
      "Date:                Mon, 18 Aug 2025   Pseudo R-squ.:                 0.07910\n",
      "Time:                        18:19:59   Log-Likelihood:                -2248.8\n",
      "converged:                       True   LL-Null:                       -2441.9\n",
      "Covariance Type:            nonrobust   LLR p-value:                 1.134e-77\n",
      "==============================================================================\n",
      "                 coef    std err          z      P>|z|      [0.025      0.975]\n",
      "------------------------------------------------------------------------------\n",
      "const         -0.5996      0.067     -8.916      0.000      -0.731      -0.468\n",
      "pcnv          -0.4016      0.085     -4.726      0.000      -0.568      -0.235\n",
      "avgsen        -0.0238      0.020     -1.192      0.233      -0.063       0.015\n",
      "tottime        0.0245      0.015      1.660      0.097      -0.004       0.053\n",
      "ptime86       -0.0986      0.021     -4.763      0.000      -0.139      -0.058\n",
      "qemp86        -0.0380      0.029     -1.310      0.190      -0.095       0.019\n",
      "inc86         -0.0081      0.001     -7.762      0.000      -0.010      -0.006\n",
      "black          0.6608      0.074      8.950      0.000       0.516       0.806\n",
      "hispan         0.4998      0.074      6.761      0.000       0.355       0.645\n",
      "born60        -0.0510      0.064     -0.797      0.426      -0.177       0.075\n",
      "==============================================================================\n",
      "                     NegativeBinomial Regression Results                      \n",
      "==============================================================================\n",
      "Dep. Variable:                 narr86   No. Observations:                 2725\n",
      "Model:               NegativeBinomial   Df Residuals:                     2715\n",
      "Method:                           MLE   Df Model:                            9\n",
      "Date:                Mon, 18 Aug 2025   Pseudo R-squ.:                 0.05809\n",
      "Time:                        18:19:59   Log-Likelihood:                -2157.6\n",
      "converged:                       True   LL-Null:                       -2290.7\n",
      "Covariance Type:            nonrobust   LLR p-value:                 3.907e-52\n",
      "==============================================================================\n",
      "                 coef    std err          z      P>|z|      [0.025      0.975]\n",
      "------------------------------------------------------------------------------\n",
      "const         -0.5638      0.083     -6.816      0.000      -0.726      -0.402\n",
      "pcnv          -0.4771      0.103     -4.617      0.000      -0.680      -0.275\n",
      "avgsen        -0.0173      0.026     -0.664      0.507      -0.069       0.034\n",
      "tottime        0.0197      0.019      1.026      0.305      -0.018       0.057\n",
      "ptime86       -0.1074      0.025     -4.283      0.000      -0.157      -0.058\n",
      "qemp86        -0.0505      0.035     -1.435      0.151      -0.119       0.018\n",
      "inc86         -0.0077      0.001     -6.727      0.000      -0.010      -0.005\n",
      "black          0.6560      0.092      7.103      0.000       0.475       0.837\n",
      "hispan         0.5049      0.090      5.637      0.000       0.329       0.680\n",
      "born60        -0.0464      0.078     -0.597      0.550      -0.199       0.106\n",
      "alpha          0.9288      0.109      8.492      0.000       0.714       1.143\n",
      "==============================================================================\n"
     ]
    }
   ],
   "source": [
    "import wooldridge as woo\n",
    "import pandas as pd\n",
    "import statsmodels.api as sm\n",
    "import statsmodels.formula.api as smf\n",
    "from statsmodels.discrete.discrete_model import Poisson, NegativeBinomial\n",
    "\n",
    "df = woo.dataWoo('crime1')\n",
    "df = sm.add_constant(df)\n",
    "\n",
    "y = df['narr86']\n",
    "X = df[['const', 'pcnv', 'avgsen', 'tottime', 'ptime86', 'qemp86', 'inc86', 'black', 'hispan', 'born60']]\n",
    "\n",
    "# 포아송 모형(Poisson model)\n",
    "reg_poisson = Poisson(endog=y, exog=X)\n",
    "results_poisson = reg_poisson.fit(disp=0)\n",
    "print(results_poisson.summary())\n",
    "\n",
    "# 음이항 모형(Negative binomial regression model)\n",
    "reg_nbinorm = NegativeBinomial(endog=y, exog=X)\n",
    "results_nbinorm = reg_nbinorm.fit(disp=0)\n",
    "print(results_nbinorm.summary())\n"
   ]
  },
  {
   "cell_type": "code",
   "execution_count": null,
   "id": "9c717791-8540-4033-ae25-df83f9d6f069",
   "metadata": {},
   "outputs": [],
   "source": []
  }
 ],
 "metadata": {
  "kernelspec": {
   "display_name": "Python 3 (ipykernel)",
   "language": "python",
   "name": "python3"
  },
  "language_info": {
   "codemirror_mode": {
    "name": "ipython",
    "version": 3
   },
   "file_extension": ".py",
   "mimetype": "text/x-python",
   "name": "python",
   "nbconvert_exporter": "python",
   "pygments_lexer": "ipython3",
   "version": "3.13.5"
  }
 },
 "nbformat": 4,
 "nbformat_minor": 5
}
