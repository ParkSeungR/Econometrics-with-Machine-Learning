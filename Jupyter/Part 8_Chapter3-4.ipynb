{
 "cells": [
  {
   "attachments": {
    "b99c764b-983c-4ced-a5db-56d4dc324a85.png": {
     "image/png": "[encoded data removed]"
    }
   },
   "cell_type": "markdown",
   "id": "e3026eb5-88e2-439f-86e8-0d4dc246937d",
   "metadata": {},
   "source": [
    "![실습파일 표지로고(최종).png](attachment:b99c764b-983c-4ced-a5db-56d4dc324a85.png)"
   ]
  },
  {
   "cell_type": "markdown",
   "id": "49b7cc7d-d294-49e9-9408-b00fcbbf1349",
   "metadata": {},
   "source": [
    "# Part 8: 머신러닝의 계량경제"
   ]
  },
  {
   "cell_type": "markdown",
   "id": "d0bf13de-465b-4f7b-9948-f5480eeb2135",
   "metadata": {},
   "source": [
    "## Chapter 3: 머신러닝의 자동화: Pycaret 활용"
   ]
  },
  {
   "cell_type": "markdown",
   "id": "7d9a8191-45e0-4dea-ab78-0d85b34a8d03",
   "metadata": {},
   "source": [
    "### 5. PyCaret을 이용한 군집분석( clustering)"
   ]
  },
  {
   "cell_type": "code",
   "execution_count": 1,
   "id": "0e939ff8",
   "metadata": {},
   "outputs": [
    {
     "data": {
      "text/plain": [
       "'X:\\\\Econometrics_with_ML'"
      ]
     },
     "execution_count": 1,
     "metadata": {},
     "output_type": "execute_result"
    }
   ],
   "source": [
    "# 작업공간(working directory)지정  \n",
    "import os  \n",
    "os.chdir(\"X:/Econometrics_with_ML\")\n",
    "os.getcwd()"
   ]
  },
  {
   "cell_type": "code",
   "execution_count": 2,
   "id": "2efdec0b",
   "metadata": {},
   "outputs": [],
   "source": [
    "# 라이브러리 불러오기\n",
    "exec(open('Functions/Machine Learning_Econometrics_Lib.py').read())"
   ]
  },
  {
   "cell_type": "code",
   "execution_count": 3,
   "id": "956dfdab",
   "metadata": {
    "id": "956dfdab",
    "outputId": "cd772ed6-93f0-4925-c0b8-0c297506195a"
   },
   "outputs": [
    {
     "data": {
      "text/html": [
       "<div>\n",
       "<style scoped>\n",
       "    .dataframe tbody tr th:only-of-type {\n",
       "        vertical-align: middle;\n",
       "    }\n",
       "\n",
       "    .dataframe tbody tr th {\n",
       "        vertical-align: top;\n",
       "    }\n",
       "\n",
       "    .dataframe thead th {\n",
       "        text-align: right;\n",
       "    }\n",
       "</style>\n",
       "<table border=\"1\" class=\"dataframe\">\n",
       "  <thead>\n",
       "    <tr style=\"text-align: right;\">\n",
       "      <th></th>\n",
       "      <th>Age</th>\n",
       "      <th>Income</th>\n",
       "      <th>SpendingScore</th>\n",
       "      <th>Savings</th>\n",
       "    </tr>\n",
       "  </thead>\n",
       "  <tbody>\n",
       "    <tr>\n",
       "      <th>0</th>\n",
       "      <td>58</td>\n",
       "      <td>77769</td>\n",
       "      <td>0.791329</td>\n",
       "      <td>6559.829923</td>\n",
       "    </tr>\n",
       "    <tr>\n",
       "      <th>1</th>\n",
       "      <td>59</td>\n",
       "      <td>81799</td>\n",
       "      <td>0.791082</td>\n",
       "      <td>5417.661426</td>\n",
       "    </tr>\n",
       "    <tr>\n",
       "      <th>2</th>\n",
       "      <td>62</td>\n",
       "      <td>74751</td>\n",
       "      <td>0.702657</td>\n",
       "      <td>9258.992965</td>\n",
       "    </tr>\n",
       "    <tr>\n",
       "      <th>3</th>\n",
       "      <td>59</td>\n",
       "      <td>74373</td>\n",
       "      <td>0.765680</td>\n",
       "      <td>7346.334504</td>\n",
       "    </tr>\n",
       "    <tr>\n",
       "      <th>4</th>\n",
       "      <td>87</td>\n",
       "      <td>17760</td>\n",
       "      <td>0.348778</td>\n",
       "      <td>16869.507130</td>\n",
       "    </tr>\n",
       "    <tr>\n",
       "      <th>...</th>\n",
       "      <td>...</td>\n",
       "      <td>...</td>\n",
       "      <td>...</td>\n",
       "      <td>...</td>\n",
       "    </tr>\n",
       "    <tr>\n",
       "      <th>500</th>\n",
       "      <td>28</td>\n",
       "      <td>101206</td>\n",
       "      <td>0.387441</td>\n",
       "      <td>14936.775389</td>\n",
       "    </tr>\n",
       "    <tr>\n",
       "      <th>501</th>\n",
       "      <td>93</td>\n",
       "      <td>19934</td>\n",
       "      <td>0.203140</td>\n",
       "      <td>17969.693769</td>\n",
       "    </tr>\n",
       "    <tr>\n",
       "      <th>502</th>\n",
       "      <td>90</td>\n",
       "      <td>35297</td>\n",
       "      <td>0.355149</td>\n",
       "      <td>16091.401954</td>\n",
       "    </tr>\n",
       "    <tr>\n",
       "      <th>503</th>\n",
       "      <td>91</td>\n",
       "      <td>20681</td>\n",
       "      <td>0.354679</td>\n",
       "      <td>18401.088445</td>\n",
       "    </tr>\n",
       "    <tr>\n",
       "      <th>504</th>\n",
       "      <td>89</td>\n",
       "      <td>30267</td>\n",
       "      <td>0.289310</td>\n",
       "      <td>14386.351880</td>\n",
       "    </tr>\n",
       "  </tbody>\n",
       "</table>\n",
       "<p>505 rows × 4 columns</p>\n",
       "</div>"
      ],
      "text/plain": [
       "     Age  Income  SpendingScore       Savings\n",
       "0     58   77769       0.791329   6559.829923\n",
       "1     59   81799       0.791082   5417.661426\n",
       "2     62   74751       0.702657   9258.992965\n",
       "3     59   74373       0.765680   7346.334504\n",
       "4     87   17760       0.348778  16869.507130\n",
       "..   ...     ...            ...           ...\n",
       "500   28  101206       0.387441  14936.775389\n",
       "501   93   19934       0.203140  17969.693769\n",
       "502   90   35297       0.355149  16091.401954\n",
       "503   91   20681       0.354679  18401.088445\n",
       "504   89   30267       0.289310  14386.351880\n",
       "\n",
       "[505 rows x 4 columns]"
      ]
     },
     "metadata": {},
     "output_type": "display_data"
    }
   ],
   "source": [
    "from pandas import read_csv\n",
    "name = ('Age Income SpendingScore Savings').split()\n",
    "data = read_csv('./Data/jewellery.csv', usecols=name)\n",
    "display(data)"
   ]
  },
  {
   "cell_type": "markdown",
   "id": "c00f6a4a",
   "metadata": {
    "id": "c00f6a4a"
   },
   "source": [
    "#### 1) 셋업(Setup)"
   ]
  },
  {
   "cell_type": "code",
   "execution_count": 6,
   "id": "97f2c6c6",
   "metadata": {
    "id": "97f2c6c6",
    "outputId": "cddb7dcd-da5d-4a7b-d4ba-25865f675cf7"
   },
   "outputs": [
    {
     "data": {
      "text/html": [
       "<style type=\"text/css\">\n",
       "#T_0cb66_row4_col1, #T_0cb66_row8_col1 {\n",
       "  background-color: lightgreen;\n",
       "}\n",
       "</style>\n",
       "<table id=\"T_0cb66\">\n",
       "  <thead>\n",
       "    <tr>\n",
       "      <th class=\"blank level0\" >&nbsp;</th>\n",
       "      <th id=\"T_0cb66_level0_col0\" class=\"col_heading level0 col0\" >Description</th>\n",
       "      <th id=\"T_0cb66_level0_col1\" class=\"col_heading level0 col1\" >Value</th>\n",
       "    </tr>\n",
       "  </thead>\n",
       "  <tbody>\n",
       "    <tr>\n",
       "      <th id=\"T_0cb66_level0_row0\" class=\"row_heading level0 row0\" >0</th>\n",
       "      <td id=\"T_0cb66_row0_col0\" class=\"data row0 col0\" >Session id</td>\n",
       "      <td id=\"T_0cb66_row0_col1\" class=\"data row0 col1\" >2212</td>\n",
       "    </tr>\n",
       "    <tr>\n",
       "      <th id=\"T_0cb66_level0_row1\" class=\"row_heading level0 row1\" >1</th>\n",
       "      <td id=\"T_0cb66_row1_col0\" class=\"data row1 col0\" >Original data shape</td>\n",
       "      <td id=\"T_0cb66_row1_col1\" class=\"data row1 col1\" >(505, 4)</td>\n",
       "    </tr>\n",
       "    <tr>\n",
       "      <th id=\"T_0cb66_level0_row2\" class=\"row_heading level0 row2\" >2</th>\n",
       "      <td id=\"T_0cb66_row2_col0\" class=\"data row2 col0\" >Transformed data shape</td>\n",
       "      <td id=\"T_0cb66_row2_col1\" class=\"data row2 col1\" >(505, 4)</td>\n",
       "    </tr>\n",
       "    <tr>\n",
       "      <th id=\"T_0cb66_level0_row3\" class=\"row_heading level0 row3\" >3</th>\n",
       "      <td id=\"T_0cb66_row3_col0\" class=\"data row3 col0\" >Numeric features</td>\n",
       "      <td id=\"T_0cb66_row3_col1\" class=\"data row3 col1\" >4</td>\n",
       "    </tr>\n",
       "    <tr>\n",
       "      <th id=\"T_0cb66_level0_row4\" class=\"row_heading level0 row4\" >4</th>\n",
       "      <td id=\"T_0cb66_row4_col0\" class=\"data row4 col0\" >Preprocess</td>\n",
       "      <td id=\"T_0cb66_row4_col1\" class=\"data row4 col1\" >True</td>\n",
       "    </tr>\n",
       "    <tr>\n",
       "      <th id=\"T_0cb66_level0_row5\" class=\"row_heading level0 row5\" >5</th>\n",
       "      <td id=\"T_0cb66_row5_col0\" class=\"data row5 col0\" >Imputation type</td>\n",
       "      <td id=\"T_0cb66_row5_col1\" class=\"data row5 col1\" >simple</td>\n",
       "    </tr>\n",
       "    <tr>\n",
       "      <th id=\"T_0cb66_level0_row6\" class=\"row_heading level0 row6\" >6</th>\n",
       "      <td id=\"T_0cb66_row6_col0\" class=\"data row6 col0\" >Numeric imputation</td>\n",
       "      <td id=\"T_0cb66_row6_col1\" class=\"data row6 col1\" >mean</td>\n",
       "    </tr>\n",
       "    <tr>\n",
       "      <th id=\"T_0cb66_level0_row7\" class=\"row_heading level0 row7\" >7</th>\n",
       "      <td id=\"T_0cb66_row7_col0\" class=\"data row7 col0\" >Categorical imputation</td>\n",
       "      <td id=\"T_0cb66_row7_col1\" class=\"data row7 col1\" >mode</td>\n",
       "    </tr>\n",
       "    <tr>\n",
       "      <th id=\"T_0cb66_level0_row8\" class=\"row_heading level0 row8\" >8</th>\n",
       "      <td id=\"T_0cb66_row8_col0\" class=\"data row8 col0\" >Normalize</td>\n",
       "      <td id=\"T_0cb66_row8_col1\" class=\"data row8 col1\" >True</td>\n",
       "    </tr>\n",
       "    <tr>\n",
       "      <th id=\"T_0cb66_level0_row9\" class=\"row_heading level0 row9\" >9</th>\n",
       "      <td id=\"T_0cb66_row9_col0\" class=\"data row9 col0\" >Normalize method</td>\n",
       "      <td id=\"T_0cb66_row9_col1\" class=\"data row9 col1\" >zscore</td>\n",
       "    </tr>\n",
       "    <tr>\n",
       "      <th id=\"T_0cb66_level0_row10\" class=\"row_heading level0 row10\" >10</th>\n",
       "      <td id=\"T_0cb66_row10_col0\" class=\"data row10 col0\" >CPU Jobs</td>\n",
       "      <td id=\"T_0cb66_row10_col1\" class=\"data row10 col1\" >-1</td>\n",
       "    </tr>\n",
       "    <tr>\n",
       "      <th id=\"T_0cb66_level0_row11\" class=\"row_heading level0 row11\" >11</th>\n",
       "      <td id=\"T_0cb66_row11_col0\" class=\"data row11 col0\" >Use GPU</td>\n",
       "      <td id=\"T_0cb66_row11_col1\" class=\"data row11 col1\" >False</td>\n",
       "    </tr>\n",
       "    <tr>\n",
       "      <th id=\"T_0cb66_level0_row12\" class=\"row_heading level0 row12\" >12</th>\n",
       "      <td id=\"T_0cb66_row12_col0\" class=\"data row12 col0\" >Log Experiment</td>\n",
       "      <td id=\"T_0cb66_row12_col1\" class=\"data row12 col1\" >False</td>\n",
       "    </tr>\n",
       "    <tr>\n",
       "      <th id=\"T_0cb66_level0_row13\" class=\"row_heading level0 row13\" >13</th>\n",
       "      <td id=\"T_0cb66_row13_col0\" class=\"data row13 col0\" >Experiment Name</td>\n",
       "      <td id=\"T_0cb66_row13_col1\" class=\"data row13 col1\" >cluster-default-name</td>\n",
       "    </tr>\n",
       "    <tr>\n",
       "      <th id=\"T_0cb66_level0_row14\" class=\"row_heading level0 row14\" >14</th>\n",
       "      <td id=\"T_0cb66_row14_col0\" class=\"data row14 col0\" >USI</td>\n",
       "      <td id=\"T_0cb66_row14_col1\" class=\"data row14 col1\" >d38b</td>\n",
       "    </tr>\n",
       "  </tbody>\n",
       "</table>\n"
      ],
      "text/plain": [
       "<pandas.io.formats.style.Styler at 0x253fdbf33d0>"
      ]
     },
     "metadata": {},
     "output_type": "display_data"
    }
   ],
   "source": [
    "# import pycaret clustering and init setup\n",
    "from pycaret.clustering import *\n",
    "model = setup(data, normalize = True)"
   ]
  },
  {
   "cell_type": "markdown",
   "id": "5b019f2f-d9a4-4cf7-8bb2-b380a162d9ed",
   "metadata": {},
   "source": [
    "#### 2) 모형 생성과 평가(Create and Evaluate Model)"
   ]
  },
  {
   "cell_type": "code",
   "execution_count": 7,
   "id": "8e1442ef",
   "metadata": {
    "id": "8e1442ef",
    "outputId": "c0188db8-f9bf-4236-f4f6-c28d0d9eeb0e",
    "scrolled": true
   },
   "outputs": [
    {
     "data": {
      "text/html": [
       "<div>\n",
       "<style scoped>\n",
       "    .dataframe tbody tr th:only-of-type {\n",
       "        vertical-align: middle;\n",
       "    }\n",
       "\n",
       "    .dataframe tbody tr th {\n",
       "        vertical-align: top;\n",
       "    }\n",
       "\n",
       "    .dataframe thead th {\n",
       "        text-align: right;\n",
       "    }\n",
       "</style>\n",
       "<table border=\"1\" class=\"dataframe\">\n",
       "  <thead>\n",
       "    <tr style=\"text-align: right;\">\n",
       "      <th></th>\n",
       "      <th>Name</th>\n",
       "      <th>Reference</th>\n",
       "    </tr>\n",
       "    <tr>\n",
       "      <th>ID</th>\n",
       "      <th></th>\n",
       "      <th></th>\n",
       "    </tr>\n",
       "  </thead>\n",
       "  <tbody>\n",
       "    <tr>\n",
       "      <th>kmeans</th>\n",
       "      <td>K-Means Clustering</td>\n",
       "      <td>sklearn.cluster._kmeans.KMeans</td>\n",
       "    </tr>\n",
       "    <tr>\n",
       "      <th>ap</th>\n",
       "      <td>Affinity Propagation</td>\n",
       "      <td>sklearn.cluster._affinity_propagation.Affinity...</td>\n",
       "    </tr>\n",
       "    <tr>\n",
       "      <th>meanshift</th>\n",
       "      <td>Mean Shift Clustering</td>\n",
       "      <td>sklearn.cluster._mean_shift.MeanShift</td>\n",
       "    </tr>\n",
       "    <tr>\n",
       "      <th>sc</th>\n",
       "      <td>Spectral Clustering</td>\n",
       "      <td>sklearn.cluster._spectral.SpectralClustering</td>\n",
       "    </tr>\n",
       "    <tr>\n",
       "      <th>hclust</th>\n",
       "      <td>Agglomerative Clustering</td>\n",
       "      <td>sklearn.cluster._agglomerative.AgglomerativeCl...</td>\n",
       "    </tr>\n",
       "    <tr>\n",
       "      <th>dbscan</th>\n",
       "      <td>Density-Based Spatial Clustering</td>\n",
       "      <td>sklearn.cluster._dbscan.DBSCAN</td>\n",
       "    </tr>\n",
       "    <tr>\n",
       "      <th>optics</th>\n",
       "      <td>OPTICS Clustering</td>\n",
       "      <td>sklearn.cluster._optics.OPTICS</td>\n",
       "    </tr>\n",
       "    <tr>\n",
       "      <th>birch</th>\n",
       "      <td>Birch Clustering</td>\n",
       "      <td>sklearn.cluster._birch.Birch</td>\n",
       "    </tr>\n",
       "  </tbody>\n",
       "</table>\n",
       "</div>"
      ],
      "text/plain": [
       "                                       Name  \\\n",
       "ID                                            \n",
       "kmeans                   K-Means Clustering   \n",
       "ap                     Affinity Propagation   \n",
       "meanshift             Mean Shift Clustering   \n",
       "sc                      Spectral Clustering   \n",
       "hclust             Agglomerative Clustering   \n",
       "dbscan     Density-Based Spatial Clustering   \n",
       "optics                    OPTICS Clustering   \n",
       "birch                      Birch Clustering   \n",
       "\n",
       "                                                   Reference  \n",
       "ID                                                            \n",
       "kmeans                        sklearn.cluster._kmeans.KMeans  \n",
       "ap         sklearn.cluster._affinity_propagation.Affinity...  \n",
       "meanshift              sklearn.cluster._mean_shift.MeanShift  \n",
       "sc              sklearn.cluster._spectral.SpectralClustering  \n",
       "hclust     sklearn.cluster._agglomerative.AgglomerativeCl...  \n",
       "dbscan                        sklearn.cluster._dbscan.DBSCAN  \n",
       "optics                        sklearn.cluster._optics.OPTICS  \n",
       "birch                           sklearn.cluster._birch.Birch  "
      ]
     },
     "execution_count": 7,
     "metadata": {},
     "output_type": "execute_result"
    }
   ],
   "source": [
    "# to check all the available models\n",
    "models()"
   ]
  },
  {
   "cell_type": "code",
   "execution_count": 8,
   "id": "2333d7d7",
   "metadata": {
    "id": "65a19df4",
    "outputId": "8c12c7fe-4c9e-43f0-d3c5-2c004c9d6b43"
   },
   "outputs": [
    {
     "data": {
      "text/html": [],
      "text/plain": [
       "<IPython.core.display.HTML object>"
      ]
     },
     "metadata": {},
     "output_type": "display_data"
    },
    {
     "data": {
      "text/html": [
       "<style type=\"text/css\">\n",
       "</style>\n",
       "<table id=\"T_1b87b\">\n",
       "  <thead>\n",
       "    <tr>\n",
       "      <th class=\"blank level0\" >&nbsp;</th>\n",
       "      <th id=\"T_1b87b_level0_col0\" class=\"col_heading level0 col0\" >Silhouette</th>\n",
       "      <th id=\"T_1b87b_level0_col1\" class=\"col_heading level0 col1\" >Calinski-Harabasz</th>\n",
       "      <th id=\"T_1b87b_level0_col2\" class=\"col_heading level0 col2\" >Davies-Bouldin</th>\n",
       "      <th id=\"T_1b87b_level0_col3\" class=\"col_heading level0 col3\" >Homogeneity</th>\n",
       "      <th id=\"T_1b87b_level0_col4\" class=\"col_heading level0 col4\" >Rand Index</th>\n",
       "      <th id=\"T_1b87b_level0_col5\" class=\"col_heading level0 col5\" >Completeness</th>\n",
       "    </tr>\n",
       "  </thead>\n",
       "  <tbody>\n",
       "    <tr>\n",
       "      <th id=\"T_1b87b_level0_row0\" class=\"row_heading level0 row0\" >0</th>\n",
       "      <td id=\"T_1b87b_row0_col0\" class=\"data row0 col0\" >0.7581</td>\n",
       "      <td id=\"T_1b87b_row0_col1\" class=\"data row0 col1\" >1611.2647</td>\n",
       "      <td id=\"T_1b87b_row0_col2\" class=\"data row0 col2\" >0.3743</td>\n",
       "      <td id=\"T_1b87b_row0_col3\" class=\"data row0 col3\" >0</td>\n",
       "      <td id=\"T_1b87b_row0_col4\" class=\"data row0 col4\" >0</td>\n",
       "      <td id=\"T_1b87b_row0_col5\" class=\"data row0 col5\" >0</td>\n",
       "    </tr>\n",
       "  </tbody>\n",
       "</table>\n"
      ],
      "text/plain": [
       "<pandas.io.formats.style.Styler at 0x253e56c7bb0>"
      ]
     },
     "metadata": {},
     "output_type": "display_data"
    },
    {
     "data": {
      "text/html": [],
      "text/plain": [
       "<IPython.core.display.HTML object>"
      ]
     },
     "metadata": {},
     "output_type": "display_data"
    }
   ],
   "source": [
    "# train kmeans model\n",
    "kmeans = create_model('kmeans')"
   ]
  },
  {
   "cell_type": "code",
   "execution_count": 9,
   "id": "4954b77b",
   "metadata": {
    "id": "4954b77b",
    "outputId": "e337cfa4-5820-4294-eb63-33fea53285c2",
    "scrolled": true
   },
   "outputs": [
    {
     "data": {
      "text/html": [],
      "text/plain": [
       "<IPython.core.display.HTML object>"
      ]
     },
     "metadata": {},
     "output_type": "display_data"
    },
    {
     "data": {
      "text/html": [
       "<style type=\"text/css\">\n",
       "</style>\n",
       "<table id=\"T_e01bd\">\n",
       "  <thead>\n",
       "    <tr>\n",
       "      <th class=\"blank level0\" >&nbsp;</th>\n",
       "      <th id=\"T_e01bd_level0_col0\" class=\"col_heading level0 col0\" >Silhouette</th>\n",
       "      <th id=\"T_e01bd_level0_col1\" class=\"col_heading level0 col1\" >Calinski-Harabasz</th>\n",
       "      <th id=\"T_e01bd_level0_col2\" class=\"col_heading level0 col2\" >Davies-Bouldin</th>\n",
       "      <th id=\"T_e01bd_level0_col3\" class=\"col_heading level0 col3\" >Homogeneity</th>\n",
       "      <th id=\"T_e01bd_level0_col4\" class=\"col_heading level0 col4\" >Rand Index</th>\n",
       "      <th id=\"T_e01bd_level0_col5\" class=\"col_heading level0 col5\" >Completeness</th>\n",
       "    </tr>\n",
       "  </thead>\n",
       "  <tbody>\n",
       "    <tr>\n",
       "      <th id=\"T_e01bd_level0_row0\" class=\"row_heading level0 row0\" >0</th>\n",
       "      <td id=\"T_e01bd_row0_col0\" class=\"data row0 col0\" >0.7325</td>\n",
       "      <td id=\"T_e01bd_row0_col1\" class=\"data row0 col1\" >1122.4249</td>\n",
       "      <td id=\"T_e01bd_row0_col2\" class=\"data row0 col2\" >0.3947</td>\n",
       "      <td id=\"T_e01bd_row0_col3\" class=\"data row0 col3\" >0</td>\n",
       "      <td id=\"T_e01bd_row0_col4\" class=\"data row0 col4\" >0</td>\n",
       "      <td id=\"T_e01bd_row0_col5\" class=\"data row0 col5\" >0</td>\n",
       "    </tr>\n",
       "  </tbody>\n",
       "</table>\n"
      ],
      "text/plain": [
       "<pandas.io.formats.style.Styler at 0x253fae6a290>"
      ]
     },
     "metadata": {},
     "output_type": "display_data"
    },
    {
     "data": {
      "text/html": [],
      "text/plain": [
       "<IPython.core.display.HTML object>"
      ]
     },
     "metadata": {},
     "output_type": "display_data"
    }
   ],
   "source": [
    "# train meanshift model\n",
    "meanshift = create_model('meanshift')"
   ]
  },
  {
   "cell_type": "markdown",
   "id": "4d6930a3-64a4-4666-b388-833b7b941d99",
   "metadata": {},
   "source": [
    "#### 3) 모형분석"
   ]
  },
  {
   "cell_type": "code",
   "execution_count": 10,
   "id": "33444900",
   "metadata": {},
   "outputs": [
    {
     "data": {
      "application/vnd.jupyter.widget-view+json": {
       "model_id": "0cb32cb0fd7d44c1978f97a27bc92dce",
       "version_major": 2,
       "version_minor": 0
      },
      "text/plain": [
       "interactive(children=(ToggleButtons(description='Plot Type:', icons=('',), options=(('Pipeline Plot', 'pipelin…"
      ]
     },
     "metadata": {},
     "output_type": "display_data"
    }
   ],
   "source": [
    "#모형평가\n",
    "evaluate_model(kmeans)"
   ]
  },
  {
   "cell_type": "code",
   "execution_count": 11,
   "id": "44b258a1",
   "metadata": {},
   "outputs": [
    {
     "data": {
      "text/html": [],
      "text/plain": [
       "<IPython.core.display.HTML object>"
      ]
     },
     "metadata": {},
     "output_type": "display_data"
    },
    {
     "data": {
      "application/vnd.plotly.v1+json": {
       "config": {
        "plotlyServerURL": "https://plot.ly"
       },
       "data": [
        {
         "customdata": [
          [
           58
          ],
          [
           55
          ],
          [
           60
          ],
          [
           56
          ],
          [
           60
          ],
          [
           58
          ],
          [
           56
          ],
          [
           64
          ],
          [
           63
          ],
          [
           62
          ],
          [
           59
          ],
          [
           67
          ],
          [
           58
          ],
          [
           58
          ],
          [
           57
          ],
          [
           66
          ],
          [
           64
          ],
          [
           59
          ],
          [
           68
          ],
          [
           61
          ],
          [
           64
          ],
          [
           63
          ],
          [
           55
          ],
          [
           57
          ],
          [
           57
          ],
          [
           61
          ],
          [
           58
          ],
          [
           59
          ],
          [
           53
          ],
          [
           59
          ],
          [
           62
          ],
          [
           60
          ],
          [
           65
          ],
          [
           60
          ],
          [
           63
          ],
          [
           56
          ],
          [
           58
          ],
          [
           62
          ],
          [
           56
          ],
          [
           59
          ],
          [
           65
          ],
          [
           62
          ],
          [
           59
          ],
          [
           66
          ],
          [
           64
          ],
          [
           62
          ],
          [
           61
          ],
          [
           56
          ],
          [
           62
          ],
          [
           60
          ],
          [
           62
          ],
          [
           64
          ],
          [
           63
          ],
          [
           58
          ],
          [
           62
          ],
          [
           61
          ],
          [
           59
          ],
          [
           59
          ],
          [
           58
          ],
          [
           55
          ],
          [
           51
          ],
          [
           57
          ],
          [
           61
          ],
          [
           60
          ],
          [
           64
          ],
          [
           65
          ],
          [
           59
          ],
          [
           58
          ],
          [
           63
          ],
          [
           61
          ],
          [
           59
          ],
          [
           56
          ],
          [
           61
          ],
          [
           63
          ],
          [
           58
          ],
          [
           62
          ],
          [
           60
          ],
          [
           62
          ],
          [
           65
          ],
          [
           59
          ],
          [
           65
          ],
          [
           58
          ],
          [
           61
          ],
          [
           66
          ],
          [
           58
          ],
          [
           68
          ],
          [
           58
          ],
          [
           67
          ],
          [
           56
          ],
          [
           61
          ],
          [
           56
          ],
          [
           61
          ],
          [
           59
          ],
          [
           62
          ],
          [
           59
          ],
          [
           59
          ],
          [
           59
          ],
          [
           57
          ],
          [
           59
          ],
          [
           61
          ],
          [
           62
          ],
          [
           67
          ],
          [
           56
          ],
          [
           59
          ],
          [
           58
          ],
          [
           61
          ],
          [
           55
          ],
          [
           59
          ],
          [
           59
          ],
          [
           60
          ],
          [
           60
          ],
          [
           67
          ],
          [
           57
          ],
          [
           56
          ],
          [
           63
          ],
          [
           64
          ],
          [
           57
          ],
          [
           60
          ],
          [
           61
          ],
          [
           61
          ],
          [
           57
          ],
          [
           64
          ],
          [
           55
          ],
          [
           59
          ],
          [
           58
          ],
          [
           58
          ],
          [
           59
          ],
          [
           53
          ],
          [
           53
          ],
          [
           59
          ],
          [
           63
          ],
          [
           55
          ],
          [
           62
          ],
          [
           61
          ],
          [
           59
          ],
          [
           55
          ],
          [
           56
          ],
          [
           57
          ],
          [
           66
          ],
          [
           66
          ],
          [
           59
          ],
          [
           59
          ],
          [
           56
          ],
          [
           61
          ],
          [
           61
          ],
          [
           63
          ],
          [
           58
          ],
          [
           62
          ],
          [
           58
          ],
          [
           55
          ],
          [
           58
          ],
          [
           60
          ],
          [
           61
          ],
          [
           57
          ],
          [
           54
          ],
          [
           62
          ],
          [
           64
          ]
         ],
         "hovertemplate": "Cluster=Cluster 0<br>PCA1=%{x}<br>PCA2=%{y}<br>Feature=%{customdata[0]}<extra></extra>",
         "legendgroup": "Cluster 0",
         "marker": {
          "color": "#636efa",
          "opacity": 0.5,
          "symbol": "circle"
         },
         "mode": "markers",
         "name": "Cluster 0",
         "orientation": "v",
         "showlegend": true,
         "textposition": "top center",
         "type": "scatter",
         "x": [
          1.168283700298153,
          1.416524847498931,
          1.0276427199624674,
          0.7918438826702817,
          0.6555738403701945,
          1.285625764456267,
          1.0405649159923467,
          0.886129061306583,
          0.9146569055529157,
          0.9278732433593297,
          1.2454279396930046,
          0.7728732342358806,
          1.1074480844605274,
          1.2687191541005094,
          0.9449531635491203,
          0.7622312268075445,
          0.9777645559930498,
          1.0169684017691276,
          1.0103742873858066,
          0.8997248139805235,
          1.043735148307309,
          0.59682946921763,
          1.2062170192506034,
          1.3021698682866707,
          0.9384815712202278,
          0.7160188879115621,
          1.3211848806836235,
          1.1080733107301204,
          0.9983593069552815,
          0.89193976864857,
          0.7344587740505072,
          0.900841312670392,
          0.8612097024788928,
          0.7821932358049105,
          1.2041502834663607,
          1.2062689639165893,
          1.0852611343777794,
          0.8459436007799075,
          0.894312793825404,
          0.8726423089978533,
          0.9041298708228792,
          0.9066282295775965,
          0.9808089192409671,
          1.0636835747962277,
          0.9404516521503729,
          0.7759052575820313,
          0.6643083633818323,
          0.8659576195564086,
          1.048844717847481,
          0.9312354065998134,
          0.981971709058389,
          1.059070520764705,
          0.7440274522719088,
          1.1042748149489454,
          0.8417702446799287,
          0.7874789340364966,
          0.9425921069204356,
          0.8657576280514768,
          1.0019403172175654,
          0.9594904501652086,
          1.2191798503320763,
          1.0477726434490409,
          1.007791366828949,
          0.9041625435151751,
          0.5770891879196995,
          0.8416808831528547,
          0.635050773032961,
          1.1666392991194001,
          0.8463936669282941,
          0.8566260358632628,
          0.9119072832149153,
          1.0860490205360362,
          0.9366545997757677,
          0.8473239394675027,
          0.9030632526952312,
          1.2474049340254758,
          0.758064012052424,
          1.0725421735877514,
          0.705960092999488,
          1.2113149008777502,
          0.6609924228042445,
          1.1841092257604502,
          0.7954780881086868,
          0.8652969865535092,
          1.2806116873975624,
          0.7310246756468838,
          0.6935247292600987,
          1.1100288124039301,
          1.1219558239547458,
          0.9605009118547884,
          1.1851490686318387,
          0.7065493157257268,
          0.8220018192601686,
          0.938933597764252,
          1.0372284509042102,
          0.8637286535793982,
          1.0205116797168636,
          0.935233825823457,
          0.8645507831528335,
          0.9431474612825114,
          0.8598961482066801,
          0.7324373925173785,
          1.010120932087218,
          1.3029770007955617,
          0.9578529035814846,
          1.1929201863238192,
          0.9890445934967499,
          1.0262015665917115,
          1.3206465654806891,
          0.8764462897040273,
          1.1328881813626865,
          1.0464738109386844,
          1.3467047438880948,
          1.0574476828468298,
          1.1951063715213461,
          1.0121035638001257,
          1.2175980282031038,
          0.9540261213115766,
          1.1788965459042737,
          0.9680414759191465,
          1.1543311950894954,
          1.076859411613997,
          0.9446702949507854,
          1.1276584532463572,
          0.9390626266597388,
          0.9214394452884335,
          0.8854326073556663,
          0.8545270992189649,
          1.3514663993849723,
          0.6491557089831028,
          1.1697157157105846,
          1.1107919530706978,
          0.9629568366605428,
          0.9694492150848553,
          0.9863668241734642,
          1.2097308456376705,
          0.8404752933067151,
          1.1695787307060754,
          0.9783089217155604,
          0.954923710923751,
          1.3253416973277246,
          0.9688223176937348,
          0.9694486721072396,
          0.9128901619260923,
          0.9904005931312485,
          1.1194004122191068,
          0.9700286595917198,
          0.5838880837444461,
          1.1412703962743067,
          0.978091938359006,
          0.9415026940468484,
          1.3791574074188666,
          1.211399489612769,
          0.9951066400134884,
          1.1878058391546589,
          1.1686594538900317,
          0.6485204145371004
         ],
         "xaxis": "x",
         "y": [
          -1.000182097500609,
          -1.1874054921130863,
          -1.2614198248900808,
          -1.0428462357194521,
          -0.9506074996684036,
          -1.0491610821438089,
          -1.0879013920012626,
          -1.3114515408661902,
          -1.0457974762566626,
          -1.3218177947254257,
          -1.1350938967856565,
          -1.4498324189835494,
          -0.9032411332655957,
          -1.2877279418212284,
          -1.0827043896146111,
          -1.1008297151560258,
          -1.0054322463139485,
          -1.1019901712259734,
          -1.2406547165749462,
          -1.0180186815310637,
          -1.140784819368748,
          -1.2466720196651209,
          -0.9890970342964716,
          -1.1317551847841059,
          -0.9114183932695236,
          -0.8559835943006037,
          -1.0112114872870102,
          -1.0491406888162587,
          -0.7261456077497617,
          -0.9244828083379836,
          -1.1739384664823307,
          -1.0551957087085169,
          -1.3076654831188999,
          -0.9017111014195511,
          -1.110490264871973,
          -0.787329159357679,
          -1.0005435760888546,
          -1.0255561956986627,
          -0.8956354652269498,
          -1.0128644423537836,
          -1.3387063216989779,
          -0.812918374502627,
          -1.1529579747591636,
          -1.068767714408883,
          -1.0093416187074324,
          -1.0307952435211079,
          -0.8901299659112824,
          -0.9501853298632678,
          -1.0341295279527492,
          -1.1517194309146968,
          -1.2111098594920382,
          -0.8907998072857146,
          -1.0170300674445742,
          -0.92613391922195,
          -1.1315541492326848,
          -1.0185756181499812,
          -1.4138817772205285,
          -1.009322817641825,
          -0.8672710371535216,
          -1.0207959533810096,
          -0.9339131059589081,
          -0.9909497372641376,
          -0.925120638397447,
          -0.9268788820901757,
          -1.1057267491959977,
          -1.0551123254284867,
          -0.8444886175990899,
          -0.9858205173986626,
          -0.7750478656652984,
          -1.0899101222137213,
          -1.0921090956253685,
          -1.1540811039662722,
          -1.0537811899478342,
          -1.0958576719468032,
          -0.9571164515340793,
          -1.30890975699908,
          -1.0899601739553046,
          -1.3410544447617936,
          -1.01355867479302,
          -1.3413428545726847,
          -1.0233877280029158,
          -1.278396426326766,
          -0.8398827549874197,
          -1.0111196723730453,
          -1.1487850666835386,
          -1.2106187138454425,
          -0.8048185035647605,
          -1.2312022661473188,
          -0.9361935812116114,
          -1.1213907739917415,
          -0.9262420039422746,
          -1.007164073908573,
          -0.715124543968244,
          -1.184101644760294,
          -1.1311766157283243,
          -0.6305227529987888,
          -1.0690001233128803,
          -1.0689487670100213,
          -0.836363670384953,
          -1.2236753861220675,
          -1.2307738114173261,
          -1.2033210848393188,
          -0.7192448138435933,
          -1.0354555267432723,
          -0.7304667795198445,
          -1.3237198197423279,
          -0.7460961462187092,
          -1.078436485066315,
          -0.8439511805184667,
          -0.9881938435607149,
          -1.3481125132949194,
          -1.1669307977663463,
          -1.071824051691091,
          -0.9625591715859116,
          -1.5360719766613218,
          -1.2827358441799015,
          -1.0940498318756802,
          -1.105011865467867,
          -1.1914816463333717,
          -1.1378583973726573,
          -0.8986911550414326,
          -0.8646271599998734,
          -0.8512723128101779,
          -1.1423072290982208,
          -0.824821099849389,
          -0.960778951479296,
          -0.9872029878216135,
          -0.9365448631646772,
          -0.9684157167828293,
          -0.7130075332511671,
          -1.323267755665547,
          -0.850467682072851,
          -1.0563539504353545,
          -0.9652549334147872,
          -1.2147598407332456,
          -1.017412306979005,
          -1.0083836537404784,
          -0.9948424146853004,
          -1.2837073824379714,
          -1.4279651456655156,
          -1.0537884452997581,
          -0.9508264386599714,
          -0.5166517090533885,
          -1.2877890111042185,
          -1.0986216164230387,
          -0.9454616685796321,
          -1.0226848796124324,
          -0.7095234382012505,
          -1.1282610424770685,
          -0.8932650861034414,
          -0.8738518191467408,
          -1.1911314537851472,
          -1.3813315342767865,
          -0.8446993285766249,
          -0.9010032597945408,
          -1.3828850677965954,
          -1.2345567241332502
         ],
         "yaxis": "y"
        },
        {
         "customdata": [
          [
           87
          ],
          [
           94
          ],
          [
           86
          ],
          [
           92
          ],
          [
           86
          ],
          [
           91
          ],
          [
           82
          ],
          [
           87
          ],
          [
           89
          ],
          [
           90
          ],
          [
           88
          ],
          [
           93
          ],
          [
           85
          ],
          [
           84
          ],
          [
           86
          ],
          [
           83
          ],
          [
           94
          ],
          [
           83
          ],
          [
           88
          ],
          [
           83
          ],
          [
           91
          ],
          [
           84
          ],
          [
           90
          ],
          [
           90
          ],
          [
           88
          ],
          [
           87
          ],
          [
           83
          ],
          [
           88
          ],
          [
           90
          ],
          [
           91
          ],
          [
           84
          ],
          [
           87
          ],
          [
           91
          ],
          [
           85
          ],
          [
           87
          ],
          [
           88
          ],
          [
           87
          ],
          [
           88
          ],
          [
           90
          ],
          [
           91
          ],
          [
           91
          ],
          [
           91
          ],
          [
           83
          ],
          [
           92
          ],
          [
           87
          ],
          [
           85
          ],
          [
           94
          ],
          [
           86
          ],
          [
           92
          ],
          [
           84
          ],
          [
           83
          ],
          [
           87
          ],
          [
           90
          ],
          [
           87
          ],
          [
           88
          ],
          [
           86
          ],
          [
           84
          ],
          [
           90
          ],
          [
           91
          ],
          [
           92
          ],
          [
           97
          ],
          [
           84
          ],
          [
           92
          ],
          [
           87
          ],
          [
           91
          ],
          [
           93
          ],
          [
           90
          ],
          [
           84
          ],
          [
           87
          ],
          [
           82
          ],
          [
           90
          ],
          [
           83
          ],
          [
           91
          ],
          [
           88
          ],
          [
           91
          ],
          [
           84
          ],
          [
           87
          ],
          [
           89
          ],
          [
           84
          ],
          [
           94
          ],
          [
           86
          ],
          [
           79
          ],
          [
           86
          ],
          [
           85
          ],
          [
           92
          ],
          [
           89
          ],
          [
           88
          ],
          [
           87
          ],
          [
           90
          ],
          [
           89
          ],
          [
           79
          ],
          [
           82
          ],
          [
           87
          ],
          [
           91
          ],
          [
           86
          ],
          [
           89
          ],
          [
           83
          ],
          [
           91
          ],
          [
           89
          ],
          [
           82
          ],
          [
           85
          ],
          [
           92
          ],
          [
           89
          ],
          [
           84
          ],
          [
           87
          ],
          [
           94
          ],
          [
           85
          ],
          [
           88
          ],
          [
           89
          ],
          [
           83
          ],
          [
           89
          ],
          [
           91
          ],
          [
           88
          ],
          [
           88
          ],
          [
           91
          ],
          [
           87
          ],
          [
           87
          ],
          [
           85
          ],
          [
           85
          ],
          [
           88
          ],
          [
           85
          ],
          [
           86
          ],
          [
           89
          ],
          [
           95
          ],
          [
           89
          ],
          [
           90
          ],
          [
           85
          ],
          [
           88
          ],
          [
           87
          ],
          [
           82
          ],
          [
           88
          ],
          [
           84
          ],
          [
           91
          ],
          [
           93
          ],
          [
           88
          ],
          [
           94
          ],
          [
           81
          ],
          [
           91
          ],
          [
           85
          ],
          [
           94
          ],
          [
           91
          ],
          [
           88
          ],
          [
           89
          ],
          [
           84
          ],
          [
           83
          ],
          [
           92
          ],
          [
           84
          ]
         ],
         "hovertemplate": "Cluster=Cluster 1<br>PCA1=%{x}<br>PCA2=%{y}<br>Feature=%{customdata[0]}<extra></extra>",
         "legendgroup": "Cluster 1",
         "marker": {
          "color": "#EF553B",
          "opacity": 0.5,
          "symbol": "circle"
         },
         "mode": "markers",
         "name": "Cluster 1",
         "orientation": "v",
         "showlegend": true,
         "textposition": "top center",
         "type": "scatter",
         "x": [
          -2.186922685285816,
          -2.404282702568816,
          -2.077305937871977,
          -2.441357659333778,
          -2.3022948107819046,
          -2.287582222961387,
          -2.0517527679088485,
          -2.061750629315315,
          -2.1055768655960194,
          -1.9237706946125317,
          -1.9803938458771317,
          -2.567401616987832,
          -2.069376257631236,
          -2.3168729941610064,
          -2.3114408292046233,
          -2.048875703299576,
          -2.064027137588367,
          -2.074064242540011,
          -2.325665063692091,
          -2.0660308350734224,
          -2.1601323732581967,
          -2.079401578226795,
          -2.1132550638960668,
          -2.236745028601449,
          -2.0257149698382455,
          -2.1009645101949226,
          -2.1726077535690305,
          -1.9475645518884859,
          -2.1246147683316616,
          -2.1987492811920486,
          -1.8819533679121567,
          -1.6415100426953981,
          -2.2095285950890875,
          -2.213564388378536,
          -1.890534560543126,
          -2.19665429951062,
          -2.214914130791126,
          -1.8568486460830824,
          -2.4957367358934315,
          -1.9888631880066785,
          -2.190582477806906,
          -2.263831289547847,
          -2.0848956401167578,
          -2.0072052114473355,
          -2.015669694528221,
          -1.8449566183283634,
          -2.3009029173797324,
          -2.0904896589170576,
          -2.30918323181042,
          -2.0610472088980254,
          -1.6920136110418915,
          -1.972682149186999,
          -2.0348464256973666,
          -2.1763682898835324,
          -1.8744645494467416,
          -2.0325472509200506,
          -1.8540489541166643,
          -2.0546986874034,
          -2.2719688056072065,
          -2.1383706573469046,
          -2.166582509425175,
          -1.8268448016513736,
          -2.1151354477730844,
          -2.1694527671158905,
          -2.0219203587556143,
          -2.6650846141014073,
          -1.9113850975608004,
          -2.1374480042711403,
          -1.9797365510783633,
          -1.931692987136149,
          -2.0875236402024977,
          -1.850113945275013,
          -2.4708555943873134,
          -2.1045480550454094,
          -2.0596221679142688,
          -2.039293658562047,
          -1.9494241646564776,
          -2.133873295558788,
          -2.012610118056562,
          -2.089773101911316,
          -1.9440773058871794,
          -1.651896587162526,
          -2.1279588894662025,
          -1.7799235382684175,
          -2.062018699578431,
          -1.6899782169382005,
          -2.372239580998221,
          -1.8777106536524595,
          -2.005727845175852,
          -1.9614733683409826,
          -1.73404961232791,
          -2.142346654631988,
          -1.9208510429010532,
          -2.179538713714973,
          -2.4086259890549377,
          -2.05496124470475,
          -2.0752452100997147,
          -2.284116925066545,
          -1.892509556390572,
          -1.6872601970051406,
          -1.8598620401888162,
          -2.0545283818607474,
          -2.1601504902786344,
          -1.8555917416330407,
          -2.1368664763049883,
          -2.240862770996041,
          -2.034198832156782,
          -1.9635142597949262,
          -1.9874389966732806,
          -1.7196671474447425,
          -1.587642395569355,
          -2.396385600741945,
          -1.7185088195699356,
          -1.8776590854293684,
          -2.0606756291972315,
          -1.912234480816994,
          -2.0110177462145207,
          -1.8605670449487401,
          -2.1063108193780633,
          -2.2967077311386985,
          -1.7579711332465588,
          -1.7605101149425775,
          -2.2267334918073916,
          -2.390800143549279,
          -2.1099741256835616,
          -1.810877137126543,
          -1.9593513155850921,
          -1.947941795081313,
          -2.1894947053864358,
          -1.9126164348236825,
          -1.8583744423673187,
          -1.8125975255263715,
          -2.4461401752427148,
          -2.4199341739816425,
          -2.1810455213318956,
          -2.3241773386525235,
          -1.9100567546298195,
          -2.3779000563006947,
          -2.155529877397674,
          -2.1219968431651925,
          -2.351103385993929,
          -2.188413756241369,
          -2.2696247431645307,
          -2.108265172091553,
          -1.894548712153251,
          -1.9876134372615228,
          -2.3536231808272663
         ],
         "xaxis": "x",
         "y": [
          -0.8067995569356412,
          -0.7173393400405388,
          -0.6825634242360205,
          -0.5181762316186264,
          -0.11431721526800903,
          -0.8755633636665126,
          -0.1596190647071294,
          -0.39991666446128393,
          -0.5517801062784086,
          -0.6273745595239683,
          -0.45017631073082076,
          -0.5584256319110371,
          -0.5698597167158752,
          -0.40881869043679037,
          -0.057588001331142176,
          -0.2910284906094382,
          -0.7464151677357721,
          -0.45389620421603155,
          -0.5350079372274517,
          -0.1527021996513405,
          -0.5893188314701031,
          -0.5608573168992339,
          -0.3696081344963377,
          -0.5264186996992535,
          -0.5390371933703422,
          -0.5619385982740365,
          -0.2306859213668444,
          -0.5215544689094566,
          -0.46037204898379963,
          -0.613838553245679,
          -0.2942210506782686,
          -0.32005218437182925,
          -0.5797516991361965,
          -0.2550458445323647,
          -0.5393495897616246,
          -0.6273116697679453,
          -0.5241277681177692,
          -0.7054103979478971,
          -0.3681076091768775,
          -0.46772412504721883,
          -0.6014849347139456,
          -0.45444443291172343,
          -0.5585027453296465,
          -0.5682786079006387,
          -0.6102172142266885,
          -0.7365498286947545,
          -0.6493932058674964,
          -0.4401750730054035,
          -0.6093340007317015,
          -0.4187226276441691,
          -0.46643971836704073,
          -0.2091844523877479,
          -0.5728525797446411,
          -0.6740200744548936,
          -0.6191144593009181,
          -0.5563919003697059,
          -0.52758218324415,
          -0.7520088590283934,
          -0.44915292759201697,
          -0.8410375014215647,
          -0.7505233015126644,
          -0.36716053774523344,
          -0.429736940277989,
          -0.36895596113163404,
          -0.574631015758451,
          -0.35627443327827774,
          -0.5456030013787855,
          -0.3834394144313491,
          -0.45659384089036686,
          -0.30034031179805476,
          -0.6338688044084949,
          -0.42749581594129454,
          -0.24687040779734953,
          -0.6480071046379431,
          -0.6563181470502274,
          -0.4053445268421489,
          -0.6280532039655609,
          -0.5696768817440944,
          -0.6402758608991829,
          -0.44240743397598853,
          -0.5298424005360373,
          -0.2911760646700429,
          -0.13911050506757638,
          -0.6441540104159149,
          -0.5549713642005606,
          -0.6934908301507863,
          -0.5161724087173114,
          -0.6206342835178316,
          -0.42003098716449033,
          -0.6400389921177897,
          -0.3269654762898555,
          -0.30471157599602694,
          -0.9227842667757733,
          -0.6347762918396852,
          -0.4487441855504683,
          -0.7539529182760794,
          -0.3794030889030783,
          -0.4958571771385828,
          -0.6046141006526976,
          -0.7954904013263532,
          -0.4342811535446774,
          -0.5009905475094888,
          -0.6676343563650065,
          -0.5744379782396478,
          -0.5519563585136075,
          -0.7895587957764538,
          -0.40722339979213684,
          -0.9640476068371758,
          -0.5169981583589743,
          -0.6422730817663534,
          -1.0908349749742376,
          -0.10743763606387967,
          -0.7034946835267872,
          -0.7015103602484011,
          -0.541789183446163,
          -0.6857124943849288,
          -0.5766039187068891,
          -0.5908679438455625,
          -0.2844963006679816,
          -0.19658001770472253,
          -0.6274956634284364,
          -0.17396287162944013,
          -0.4646409811674968,
          -0.5480994425662662,
          -0.7826594232507051,
          -0.6893553855124899,
          -0.3045947159020647,
          -0.6458564147851061,
          -0.5869172876819709,
          -0.31220075025838173,
          -0.5353794322734134,
          -0.1989647901851436,
          -0.27829580340464904,
          -0.5971884642663121,
          -0.47087749345166313,
          -0.5246607801291668,
          -0.19150554711229695,
          -0.5926924652356996,
          -0.3982907723056847,
          -0.7167505909540547,
          -0.6846139841079552,
          -0.4018651993954492,
          -0.28863262661912437,
          -0.31381835673691416,
          -0.3030524590508673,
          -0.6418532294699375,
          -0.1032059917218751
         ],
         "yaxis": "y"
        },
        {
         "customdata": [
          [
           87
          ],
          [
           30
          ],
          [
           36
          ],
          [
           39
          ],
          [
           89
          ],
          [
           31
          ],
          [
           30
          ],
          [
           31
          ],
          [
           29
          ],
          [
           33
          ],
          [
           37
          ],
          [
           37
          ],
          [
           37
          ],
          [
           29
          ],
          [
           36
          ],
          [
           33
          ],
          [
           38
          ],
          [
           28
          ],
          [
           27
          ],
          [
           34
          ],
          [
           44
          ],
          [
           31
          ],
          [
           36
          ],
          [
           33
          ],
          [
           88
          ],
          [
           31
          ],
          [
           86
          ],
          [
           36
          ],
          [
           35
          ],
          [
           32
          ],
          [
           36
          ],
          [
           85
          ],
          [
           31
          ],
          [
           31
          ],
          [
           33
          ],
          [
           33
          ],
          [
           82
          ],
          [
           32
          ],
          [
           30
          ],
          [
           33
          ],
          [
           34
          ],
          [
           35
          ],
          [
           31
          ],
          [
           35
          ],
          [
           82
          ],
          [
           35
          ],
          [
           28
          ],
          [
           30
          ],
          [
           28
          ],
          [
           32
          ],
          [
           38
          ],
          [
           28
          ],
          [
           31
          ],
          [
           30
          ],
          [
           84
          ],
          [
           30
          ],
          [
           37
          ],
          [
           88
          ],
          [
           35
          ],
          [
           28
          ],
          [
           34
          ],
          [
           34
          ],
          [
           22
          ],
          [
           36
          ],
          [
           34
          ],
          [
           86
          ],
          [
           92
          ],
          [
           31
          ],
          [
           31
          ],
          [
           93
          ],
          [
           35
          ],
          [
           32
          ],
          [
           28
          ],
          [
           33
          ],
          [
           86
          ],
          [
           29
          ],
          [
           30
          ],
          [
           38
          ],
          [
           88
          ],
          [
           29
          ],
          [
           36
          ],
          [
           31
          ],
          [
           33
          ],
          [
           29
          ],
          [
           33
          ],
          [
           31
          ],
          [
           84
          ],
          [
           26
          ],
          [
           24
          ],
          [
           36
          ],
          [
           33
          ],
          [
           31
          ],
          [
           29
          ],
          [
           36
          ],
          [
           83
          ],
          [
           85
          ],
          [
           40
          ],
          [
           31
          ],
          [
           37
          ],
          [
           83
          ],
          [
           31
          ],
          [
           29
          ],
          [
           33
          ],
          [
           30
          ],
          [
           34
          ],
          [
           30
          ],
          [
           34
          ],
          [
           31
          ],
          [
           29
          ],
          [
           90
          ],
          [
           30
          ],
          [
           37
          ],
          [
           30
          ],
          [
           33
          ],
          [
           37
          ],
          [
           38
          ],
          [
           35
          ],
          [
           25
          ],
          [
           42
          ],
          [
           33
          ],
          [
           29
          ],
          [
           39
          ],
          [
           83
          ],
          [
           32
          ],
          [
           84
          ],
          [
           34
          ],
          [
           37
          ],
          [
           35
          ],
          [
           43
          ],
          [
           77
          ],
          [
           34
          ],
          [
           91
          ],
          [
           36
          ],
          [
           33
          ],
          [
           31
          ],
          [
           28
          ],
          [
           29
          ],
          [
           35
          ],
          [
           37
          ],
          [
           32
          ],
          [
           37
          ],
          [
           29
          ],
          [
           35
          ],
          [
           31
          ],
          [
           84
          ],
          [
           25
          ],
          [
           90
          ],
          [
           34
          ],
          [
           39
          ],
          [
           32
          ],
          [
           34
          ]
         ],
         "hovertemplate": "Cluster=Cluster 2<br>PCA1=%{x}<br>PCA2=%{y}<br>Feature=%{customdata[0]}<extra></extra>",
         "legendgroup": "Cluster 2",
         "marker": {
          "color": "#00cc96",
          "opacity": 0.5,
          "symbol": "circle"
         },
         "mode": "markers",
         "name": "Cluster 2",
         "orientation": "v",
         "showlegend": true,
         "textposition": "top center",
         "type": "scatter",
         "x": [
          -0.9670629893092276,
          0.10798190849729236,
          0.30294351011874304,
          -0.047600875663388886,
          -1.2921524659738708,
          0.24405108167489176,
          0.4200019700884516,
          0.32955810175474615,
          0.5268484618876357,
          0.07021001806088793,
          0.3109793267163907,
          0.1352740308653912,
          -0.13748781267257362,
          0.25870617603376783,
          0.1624540534598026,
          0.2357552920773508,
          0.21730441200175937,
          0.1520368087792442,
          0.2857223152622025,
          0.136896932014283,
          0.21406794406996302,
          0.02445773148008706,
          0.06669640833247206,
          0.1817635048732863,
          -1.0392532826408911,
          0.33337649090693766,
          -1.1908673534628524,
          0.22836613364074426,
          0.012671801975977321,
          0.4708579684888591,
          -0.1530454641950427,
          -1.3983098514143735,
          -0.015301315617336997,
          0.24079969673089774,
          0.20307770090155297,
          0.3138346180986758,
          -1.0432102475267337,
          0.05098714428991411,
          0.4262593783536396,
          -0.024306177851070285,
          0.24302668050736048,
          0.08619074425664026,
          0.26865423242556885,
          0.29574810277516167,
          -0.9675569341635275,
          -0.05730433676772333,
          0.23395695392934676,
          0.229449482387094,
          0.419612609410874,
          0.1931330048221053,
          0.27421496881147095,
          0.13276133089362208,
          0.43275660146338474,
          0.23417750997887765,
          -0.9031905734664332,
          0.30712982011597384,
          0.32006457723758686,
          -1.0975612735885782,
          0.0708260821765261,
          0.4492071224815621,
          0.23046760581771242,
          0.014221911379845166,
          0.4086853376162123,
          0.1416626374309734,
          -0.048158401129716304,
          -0.763417500243889,
          -1.0952301329315228,
          0.40994647080598784,
          0.7206924895154383,
          -1.1784391771348162,
          0.20455623897684674,
          0.42412679047370133,
          0.10836349308851148,
          0.37524518615911,
          -1.248113623130223,
          0.37690900092272833,
          0.38862967897900175,
          0.3379530615508676,
          -1.624912784682923,
          0.6209177796273911,
          -0.06863321431549028,
          0.3580625745548702,
          0.22843064435005764,
          0.3278263740230589,
          0.3904824321130585,
          0.48999091007768003,
          -1.2666202761220255,
          0.14248076054025008,
          0.4670474196065632,
          0.10015090672814947,
          0.41939999810333173,
          0.11017438441604882,
          0.4717467165334147,
          -0.033678189877597096,
          -1.1975955739957052,
          -1.0212922752555396,
          -0.1784325369732756,
          0.4704027428134175,
          -0.15415708313395535,
          -0.9552849167539067,
          0.4031937749459454,
          0.18708409504009757,
          0.25349499843942785,
          0.2529755930299897,
          0.18865344556644886,
          0.2853175820548804,
          -0.22938327018966104,
          0.34747534778563993,
          0.5747337667244655,
          -1.2098767033144113,
          0.5330680457332427,
          -0.11069432274793696,
          0.10470996541711522,
          0.34601027990822486,
          0.16539833779945537,
          -0.09633293567621402,
          0.2220005508479035,
          0.29052625921572184,
          0.10755104259987551,
          0.036996556493742054,
          0.25280982475519365,
          -0.01918706326351542,
          -1.1277989607099257,
          0.3292128709411824,
          -1.1915520070338939,
          0.383358898472566,
          0.38809545331979145,
          0.395674255854001,
          0.16150148801103764,
          -0.8348661374051699,
          0.31007185695746164,
          -1.2427853491999254,
          0.2353629360583083,
          0.21584760970015052,
          0.4277488334549683,
          0.5702847122284478,
          0.18989269112541846,
          0.1559687200491657,
          0.18370795238168025,
          -0.01708539440011158,
          0.14987783471490662,
          0.1471132276826014,
          0.18269464454382198,
          0.4950550000074497,
          -1.0903663086914088,
          0.4053831365577324,
          -0.9541647230065956,
          0.2862548064665959,
          -0.18547993140616187,
          -0.08843565640624344,
          0.4088934982537294
         ],
         "xaxis": "x",
         "y": [
          1.0706344836522816,
          1.9551017959482686,
          1.5526622020249556,
          1.468729447647332,
          1.3272072145860665,
          1.9799561709420022,
          1.5791511258499653,
          1.5755302033651424,
          1.7074318423573025,
          1.9697401166278403,
          1.55764528515935,
          1.7136273571719463,
          1.9393261032562328,
          1.6856596988448183,
          1.4691569045918424,
          1.290231445194519,
          1.3840144713116411,
          1.7482436217107926,
          1.8709051196978228,
          1.6224836530958548,
          1.4915248779052879,
          1.8809435326607977,
          1.73562013388285,
          1.5598097590207982,
          1.3135299806436316,
          1.438917783469909,
          1.2792909280909783,
          1.3946960951346234,
          1.8431367338776345,
          1.7797650101528026,
          1.7117805229656018,
          1.3795671282642634,
          1.7923009736397557,
          1.728855460150427,
          1.7269874254785935,
          1.591790276045863,
          1.559932759114145,
          1.8996637903379137,
          1.43081455778163,
          1.7425572756054553,
          1.6242223756932648,
          1.6215237789267256,
          1.668376918720126,
          1.3939504094346489,
          1.4027015868432684,
          1.8753574874612198,
          1.6203935593284924,
          1.4856662614493954,
          1.508125756460908,
          1.6485887320386272,
          1.6670982850467244,
          1.6239620763416733,
          1.6303414351470522,
          1.460912995657526,
          1.2898573129879822,
          1.5713309202800734,
          1.4396322721760837,
          1.2589971606078165,
          1.677686740307086,
          1.8500053949600679,
          1.3890042364188564,
          1.5946020915388963,
          1.9740726772901893,
          1.6379037455257954,
          1.778221896367298,
          1.2243905626141132,
          1.1727357256427728,
          1.645716020011328,
          1.3508523956475282,
          1.3195283019356352,
          1.7192415822105935,
          1.6521558938872878,
          1.8203269548922107,
          1.79957114732993,
          1.5822628167983028,
          1.6541405199866859,
          1.7142458945666081,
          1.5676659850444272,
          1.5343348554889593,
          1.5672685856356072,
          1.583494021250559,
          1.5628044477446137,
          1.3602033073351616,
          1.6049146730237192,
          1.3470471768457275,
          1.7492547422359523,
          1.3289766394539355,
          1.769753247505829,
          1.9073392847817223,
          1.694899536770256,
          1.7434932540225694,
          1.7275528351039262,
          1.849558101066977,
          1.5181028540855577,
          1.4958441049619158,
          1.201626671234367,
          1.5557085096903742,
          1.6505084641177994,
          1.629954512785757,
          1.178485103034625,
          1.6709257858407842,
          1.510058711789098,
          1.6210649589932011,
          1.805007055933467,
          1.6265685523365574,
          1.7974611512875212,
          1.8646990635027585,
          1.6445951186447505,
          1.8315728608200965,
          1.3846394655480794,
          1.5752059739870672,
          1.7989046071428347,
          1.788336910045934,
          1.5959799716761534,
          1.307485045964935,
          1.3905682317427939,
          1.8694706537538346,
          1.7901953904841934,
          1.436319129698247,
          1.5980239643573735,
          1.89082500362184,
          1.4381686133010128,
          1.3804689887922998,
          1.6238566951008384,
          1.2071737144679995,
          1.6070736167135973,
          1.4121023340577585,
          1.633262043469114,
          1.1885110799135465,
          1.663325275440493,
          1.9068400554312845,
          1.2472155265607714,
          1.5278631091379475,
          1.7098543670336446,
          1.7193221511506938,
          1.6086501450933868,
          1.7329710142513872,
          1.5906017920090876,
          1.6274930606611877,
          1.6424216219063739,
          1.6099944616725792,
          1.6852232384430976,
          1.6082293630009552,
          1.6722885899019204,
          1.2543911832819996,
          1.7628075982504312,
          0.9893579282310002,
          1.138686299033683,
          1.6505739051015142,
          1.8279335923121087,
          1.411554987717098
         ],
         "yaxis": "y"
        },
        {
         "customdata": [
          [
           22
          ],
          [
           25
          ],
          [
           26
          ],
          [
           28
          ],
          [
           29
          ],
          [
           22
          ],
          [
           24
          ],
          [
           24
          ],
          [
           26
          ],
          [
           28
          ],
          [
           26
          ],
          [
           23
          ],
          [
           25
          ],
          [
           29
          ],
          [
           17
          ],
          [
           18
          ],
          [
           26
          ],
          [
           18
          ],
          [
           21
          ],
          [
           30
          ],
          [
           17
          ],
          [
           25
          ],
          [
           20
          ],
          [
           20
          ],
          [
           28
          ],
          [
           20
          ],
          [
           28
          ],
          [
           25
          ],
          [
           31
          ],
          [
           27
          ],
          [
           21
          ],
          [
           22
          ],
          [
           24
          ],
          [
           17
          ],
          [
           28
          ],
          [
           23
          ],
          [
           28
          ],
          [
           17
          ],
          [
           26
          ],
          [
           27
          ],
          [
           24
          ],
          [
           25
          ],
          [
           29
          ],
          [
           24
          ],
          [
           23
          ],
          [
           23
          ],
          [
           25
          ],
          [
           24
          ],
          [
           27
          ],
          [
           24
          ]
         ],
         "hovertemplate": "Cluster=Cluster 3<br>PCA1=%{x}<br>PCA2=%{y}<br>Feature=%{customdata[0]}<extra></extra>",
         "legendgroup": "Cluster 3",
         "marker": {
          "color": "#ab63fa",
          "opacity": 0.5,
          "symbol": "circle"
         },
         "mode": "markers",
         "name": "Cluster 3",
         "orientation": "v",
         "showlegend": true,
         "textposition": "top center",
         "type": "scatter",
         "x": [
          2.979040992931336,
          2.8772063344909182,
          3.029682667396977,
          3.109047720144273,
          2.9081920541225244,
          3.2271349825395603,
          3.1060514292418486,
          3.1284383602323245,
          2.9467083858755894,
          3.0574046541750173,
          3.0233418909796494,
          3.0284708922404167,
          2.7441229287241717,
          3.0194786789947625,
          3.3186573837236524,
          2.859649630631101,
          2.761513485906827,
          3.0185007250619496,
          3.1336887106715725,
          2.582432396706411,
          3.24802141167384,
          2.6834430250258117,
          2.9645299636113416,
          2.910054495720979,
          2.6248468632978996,
          3.0222113740060266,
          3.1899017596577046,
          3.0625443827330527,
          2.8857013607379076,
          3.136928597926129,
          3.0184648758940775,
          2.9555456794194686,
          3.0276701852706887,
          3.6060109830904366,
          2.6126329530035686,
          3.2896659880682377,
          2.727690789607608,
          3.203383968402448,
          2.6580310641744687,
          2.877220096055832,
          2.9684908655393962,
          2.9946138386426813,
          2.996965662221726,
          2.83600901193387,
          2.9965294398023965,
          2.821084689652977,
          3.3147831847414397,
          3.0785132486416042,
          2.792814268158546,
          3.334588630852613
         ],
         "xaxis": "x",
         "y": [
          -0.17767734510080496,
          0.15353835692851375,
          -0.11781866110151215,
          -0.22672840501420363,
          0.014594534918111041,
          0.02355854728374907,
          0.04665292226119874,
          -0.1238629775244599,
          0.07393602818372139,
          -0.3726669612744841,
          -0.2797896235490995,
          -0.0051018740226385076,
          0.22846587950490577,
          0.12620198118673295,
          0.18149476219538702,
          0.2720229389531101,
          0.027472414923976392,
          0.26981597634276394,
          0.005365721165935379,
          -0.011831568042126959,
          0.22315486658724876,
          0.03876450528017572,
          0.030777093442380492,
          0.24234807841349104,
          -0.10508687804990391,
          0.12765057804110858,
          -0.3934181166799325,
          -0.02478843719848305,
          -0.2874926435025409,
          -0.3338421280769298,
          0.025679173060421404,
          0.2758660373565886,
          0.03958604219247579,
          -0.0208025851887029,
          0.007656245740532659,
          0.05549888270140581,
          0.0657523925843169,
          -0.0475953384295962,
          0.2200058421600642,
          -0.1596121401541348,
          0.09709136868596455,
          0.004345556023207168,
          -0.32384238061822723,
          -0.07559244793310539,
          0.10028251723062605,
          -0.016743577311613727,
          -0.060191290283313936,
          0.11283445585873156,
          -0.13296706160376423,
          -0.0234272717687715
         ],
         "yaxis": "y"
        }
       ],
       "layout": {
        "height": 600,
        "legend": {
         "title": {
          "text": "Cluster"
         },
         "tracegroupgap": 0
        },
        "margin": {
         "t": 60
        },
        "plot_bgcolor": "rgb(240,240,240)",
        "template": {
         "data": {
          "bar": [
           {
            "error_x": {
             "color": "#2a3f5f"
            },
            "error_y": {
             "color": "#2a3f5f"
            },
            "marker": {
             "line": {
              "color": "#E5ECF6",
              "width": 0.5
             },
             "pattern": {
              "fillmode": "overlay",
              "size": 10,
              "solidity": 0.2
             }
            },
            "type": "bar"
           }
          ],
          "barpolar": [
           {
            "marker": {
             "line": {
              "color": "#E5ECF6",
              "width": 0.5
             },
             "pattern": {
              "fillmode": "overlay",
              "size": 10,
              "solidity": 0.2
             }
            },
            "type": "barpolar"
           }
          ],
          "carpet": [
           {
            "aaxis": {
             "endlinecolor": "#2a3f5f",
             "gridcolor": "white",
             "linecolor": "white",
             "minorgridcolor": "white",
             "startlinecolor": "#2a3f5f"
            },
            "baxis": {
             "endlinecolor": "#2a3f5f",
             "gridcolor": "white",
             "linecolor": "white",
             "minorgridcolor": "white",
             "startlinecolor": "#2a3f5f"
            },
            "type": "carpet"
           }
          ],
          "choropleth": [
           {
            "colorbar": {
             "outlinewidth": 0,
             "ticks": ""
            },
            "type": "choropleth"
           }
          ],
          "contour": [
           {
            "colorbar": {
             "outlinewidth": 0,
             "ticks": ""
            },
            "colorscale": [
             [
              0,
              "#0d0887"
             ],
             [
              0.1111111111111111,
              "#46039f"
             ],
             [
              0.2222222222222222,
              "#7201a8"
             ],
             [
              0.3333333333333333,
              "#9c179e"
             ],
             [
              0.4444444444444444,
              "#bd3786"
             ],
             [
              0.5555555555555556,
              "#d8576b"
             ],
             [
              0.6666666666666666,
              "#ed7953"
             ],
             [
              0.7777777777777778,
              "#fb9f3a"
             ],
             [
              0.8888888888888888,
              "#fdca26"
             ],
             [
              1,
              "#f0f921"
             ]
            ],
            "type": "contour"
           }
          ],
          "contourcarpet": [
           {
            "colorbar": {
             "outlinewidth": 0,
             "ticks": ""
            },
            "type": "contourcarpet"
           }
          ],
          "heatmap": [
           {
            "colorbar": {
             "outlinewidth": 0,
             "ticks": ""
            },
            "colorscale": [
             [
              0,
              "#0d0887"
             ],
             [
              0.1111111111111111,
              "#46039f"
             ],
             [
              0.2222222222222222,
              "#7201a8"
             ],
             [
              0.3333333333333333,
              "#9c179e"
             ],
             [
              0.4444444444444444,
              "#bd3786"
             ],
             [
              0.5555555555555556,
              "#d8576b"
             ],
             [
              0.6666666666666666,
              "#ed7953"
             ],
             [
              0.7777777777777778,
              "#fb9f3a"
             ],
             [
              0.8888888888888888,
              "#fdca26"
             ],
             [
              1,
              "#f0f921"
             ]
            ],
            "type": "heatmap"
           }
          ],
          "heatmapgl": [
           {
            "colorbar": {
             "outlinewidth": 0,
             "ticks": ""
            },
            "colorscale": [
             [
              0,
              "#0d0887"
             ],
             [
              0.1111111111111111,
              "#46039f"
             ],
             [
              0.2222222222222222,
              "#7201a8"
             ],
             [
              0.3333333333333333,
              "#9c179e"
             ],
             [
              0.4444444444444444,
              "#bd3786"
             ],
             [
              0.5555555555555556,
              "#d8576b"
             ],
             [
              0.6666666666666666,
              "#ed7953"
             ],
             [
              0.7777777777777778,
              "#fb9f3a"
             ],
             [
              0.8888888888888888,
              "#fdca26"
             ],
             [
              1,
              "#f0f921"
             ]
            ],
            "type": "heatmapgl"
           }
          ],
          "histogram": [
           {
            "marker": {
             "pattern": {
              "fillmode": "overlay",
              "size": 10,
              "solidity": 0.2
             }
            },
            "type": "histogram"
           }
          ],
          "histogram2d": [
           {
            "colorbar": {
             "outlinewidth": 0,
             "ticks": ""
            },
            "colorscale": [
             [
              0,
              "#0d0887"
             ],
             [
              0.1111111111111111,
              "#46039f"
             ],
             [
              0.2222222222222222,
              "#7201a8"
             ],
             [
              0.3333333333333333,
              "#9c179e"
             ],
             [
              0.4444444444444444,
              "#bd3786"
             ],
             [
              0.5555555555555556,
              "#d8576b"
             ],
             [
              0.6666666666666666,
              "#ed7953"
             ],
             [
              0.7777777777777778,
              "#fb9f3a"
             ],
             [
              0.8888888888888888,
              "#fdca26"
             ],
             [
              1,
              "#f0f921"
             ]
            ],
            "type": "histogram2d"
           }
          ],
          "histogram2dcontour": [
           {
            "colorbar": {
             "outlinewidth": 0,
             "ticks": ""
            },
            "colorscale": [
             [
              0,
              "#0d0887"
             ],
             [
              0.1111111111111111,
              "#46039f"
             ],
             [
              0.2222222222222222,
              "#7201a8"
             ],
             [
              0.3333333333333333,
              "#9c179e"
             ],
             [
              0.4444444444444444,
              "#bd3786"
             ],
             [
              0.5555555555555556,
              "#d8576b"
             ],
             [
              0.6666666666666666,
              "#ed7953"
             ],
             [
              0.7777777777777778,
              "#fb9f3a"
             ],
             [
              0.8888888888888888,
              "#fdca26"
             ],
             [
              1,
              "#f0f921"
             ]
            ],
            "type": "histogram2dcontour"
           }
          ],
          "mesh3d": [
           {
            "colorbar": {
             "outlinewidth": 0,
             "ticks": ""
            },
            "type": "mesh3d"
           }
          ],
          "parcoords": [
           {
            "line": {
             "colorbar": {
              "outlinewidth": 0,
              "ticks": ""
             }
            },
            "type": "parcoords"
           }
          ],
          "pie": [
           {
            "automargin": true,
            "type": "pie"
           }
          ],
          "scatter": [
           {
            "fillpattern": {
             "fillmode": "overlay",
             "size": 10,
             "solidity": 0.2
            },
            "type": "scatter"
           }
          ],
          "scatter3d": [
           {
            "line": {
             "colorbar": {
              "outlinewidth": 0,
              "ticks": ""
             }
            },
            "marker": {
             "colorbar": {
              "outlinewidth": 0,
              "ticks": ""
             }
            },
            "type": "scatter3d"
           }
          ],
          "scattercarpet": [
           {
            "marker": {
             "colorbar": {
              "outlinewidth": 0,
              "ticks": ""
             }
            },
            "type": "scattercarpet"
           }
          ],
          "scattergeo": [
           {
            "marker": {
             "colorbar": {
              "outlinewidth": 0,
              "ticks": ""
             }
            },
            "type": "scattergeo"
           }
          ],
          "scattergl": [
           {
            "marker": {
             "colorbar": {
              "outlinewidth": 0,
              "ticks": ""
             }
            },
            "type": "scattergl"
           }
          ],
          "scattermapbox": [
           {
            "marker": {
             "colorbar": {
              "outlinewidth": 0,
              "ticks": ""
             }
            },
            "type": "scattermapbox"
           }
          ],
          "scatterpolar": [
           {
            "marker": {
             "colorbar": {
              "outlinewidth": 0,
              "ticks": ""
             }
            },
            "type": "scatterpolar"
           }
          ],
          "scatterpolargl": [
           {
            "marker": {
             "colorbar": {
              "outlinewidth": 0,
              "ticks": ""
             }
            },
            "type": "scatterpolargl"
           }
          ],
          "scatterternary": [
           {
            "marker": {
             "colorbar": {
              "outlinewidth": 0,
              "ticks": ""
             }
            },
            "type": "scatterternary"
           }
          ],
          "surface": [
           {
            "colorbar": {
             "outlinewidth": 0,
             "ticks": ""
            },
            "colorscale": [
             [
              0,
              "#0d0887"
             ],
             [
              0.1111111111111111,
              "#46039f"
             ],
             [
              0.2222222222222222,
              "#7201a8"
             ],
             [
              0.3333333333333333,
              "#9c179e"
             ],
             [
              0.4444444444444444,
              "#bd3786"
             ],
             [
              0.5555555555555556,
              "#d8576b"
             ],
             [
              0.6666666666666666,
              "#ed7953"
             ],
             [
              0.7777777777777778,
              "#fb9f3a"
             ],
             [
              0.8888888888888888,
              "#fdca26"
             ],
             [
              1,
              "#f0f921"
             ]
            ],
            "type": "surface"
           }
          ],
          "table": [
           {
            "cells": {
             "fill": {
              "color": "#EBF0F8"
             },
             "line": {
              "color": "white"
             }
            },
            "header": {
             "fill": {
              "color": "#C8D4E3"
             },
             "line": {
              "color": "white"
             }
            },
            "type": "table"
           }
          ]
         },
         "layout": {
          "annotationdefaults": {
           "arrowcolor": "#2a3f5f",
           "arrowhead": 0,
           "arrowwidth": 1
          },
          "autotypenumbers": "strict",
          "coloraxis": {
           "colorbar": {
            "outlinewidth": 0,
            "ticks": ""
           }
          },
          "colorscale": {
           "diverging": [
            [
             0,
             "#8e0152"
            ],
            [
             0.1,
             "#c51b7d"
            ],
            [
             0.2,
             "#de77ae"
            ],
            [
             0.3,
             "#f1b6da"
            ],
            [
             0.4,
             "#fde0ef"
            ],
            [
             0.5,
             "#f7f7f7"
            ],
            [
             0.6,
             "#e6f5d0"
            ],
            [
             0.7,
             "#b8e186"
            ],
            [
             0.8,
             "#7fbc41"
            ],
            [
             0.9,
             "#4d9221"
            ],
            [
             1,
             "#276419"
            ]
           ],
           "sequential": [
            [
             0,
             "#0d0887"
            ],
            [
             0.1111111111111111,
             "#46039f"
            ],
            [
             0.2222222222222222,
             "#7201a8"
            ],
            [
             0.3333333333333333,
             "#9c179e"
            ],
            [
             0.4444444444444444,
             "#bd3786"
            ],
            [
             0.5555555555555556,
             "#d8576b"
            ],
            [
             0.6666666666666666,
             "#ed7953"
            ],
            [
             0.7777777777777778,
             "#fb9f3a"
            ],
            [
             0.8888888888888888,
             "#fdca26"
            ],
            [
             1,
             "#f0f921"
            ]
           ],
           "sequentialminus": [
            [
             0,
             "#0d0887"
            ],
            [
             0.1111111111111111,
             "#46039f"
            ],
            [
             0.2222222222222222,
             "#7201a8"
            ],
            [
             0.3333333333333333,
             "#9c179e"
            ],
            [
             0.4444444444444444,
             "#bd3786"
            ],
            [
             0.5555555555555556,
             "#d8576b"
            ],
            [
             0.6666666666666666,
             "#ed7953"
            ],
            [
             0.7777777777777778,
             "#fb9f3a"
            ],
            [
             0.8888888888888888,
             "#fdca26"
            ],
            [
             1,
             "#f0f921"
            ]
           ]
          },
          "colorway": [
           "#636efa",
           "#EF553B",
           "#00cc96",
           "#ab63fa",
           "#FFA15A",
           "#19d3f3",
           "#FF6692",
           "#B6E880",
           "#FF97FF",
           "#FECB52"
          ],
          "font": {
           "color": "#2a3f5f"
          },
          "geo": {
           "bgcolor": "white",
           "lakecolor": "white",
           "landcolor": "#E5ECF6",
           "showlakes": true,
           "showland": true,
           "subunitcolor": "white"
          },
          "hoverlabel": {
           "align": "left"
          },
          "hovermode": "closest",
          "mapbox": {
           "style": "light"
          },
          "paper_bgcolor": "white",
          "plot_bgcolor": "#E5ECF6",
          "polar": {
           "angularaxis": {
            "gridcolor": "white",
            "linecolor": "white",
            "ticks": ""
           },
           "bgcolor": "#E5ECF6",
           "radialaxis": {
            "gridcolor": "white",
            "linecolor": "white",
            "ticks": ""
           }
          },
          "scene": {
           "xaxis": {
            "backgroundcolor": "#E5ECF6",
            "gridcolor": "white",
            "gridwidth": 2,
            "linecolor": "white",
            "showbackground": true,
            "ticks": "",
            "zerolinecolor": "white"
           },
           "yaxis": {
            "backgroundcolor": "#E5ECF6",
            "gridcolor": "white",
            "gridwidth": 2,
            "linecolor": "white",
            "showbackground": true,
            "ticks": "",
            "zerolinecolor": "white"
           },
           "zaxis": {
            "backgroundcolor": "#E5ECF6",
            "gridcolor": "white",
            "gridwidth": 2,
            "linecolor": "white",
            "showbackground": true,
            "ticks": "",
            "zerolinecolor": "white"
           }
          },
          "shapedefaults": {
           "line": {
            "color": "#2a3f5f"
           }
          },
          "ternary": {
           "aaxis": {
            "gridcolor": "white",
            "linecolor": "white",
            "ticks": ""
           },
           "baxis": {
            "gridcolor": "white",
            "linecolor": "white",
            "ticks": ""
           },
           "bgcolor": "#E5ECF6",
           "caxis": {
            "gridcolor": "white",
            "linecolor": "white",
            "ticks": ""
           }
          },
          "title": {
           "x": 0.05
          },
          "xaxis": {
           "automargin": true,
           "gridcolor": "white",
           "linecolor": "white",
           "ticks": "",
           "title": {
            "standoff": 15
           },
           "zerolinecolor": "white",
           "zerolinewidth": 2
          },
          "yaxis": {
           "automargin": true,
           "gridcolor": "white",
           "linecolor": "white",
           "ticks": "",
           "title": {
            "standoff": 15
           },
           "zerolinecolor": "white",
           "zerolinewidth": 2
          }
         }
        },
        "title": {
         "text": "2D Cluster PCA Plot"
        },
        "xaxis": {
         "anchor": "y",
         "domain": [
          0,
          1
         ],
         "title": {
          "text": "PCA1"
         }
        },
        "yaxis": {
         "anchor": "x",
         "domain": [
          0,
          1
         ],
         "title": {
          "text": "PCA2"
         }
        }
       }
      },
      "text/html": [
       "<div>                            <div id=\"34408a4f-000b-4715-a441-04b077cc9f82\" class=\"plotly-graph-div\" style=\"height:600px; width:100%;\"></div>            <script type=\"text/javascript\">                require([\"plotly\"], function(Plotly) {                    window.PLOTLYENV=window.PLOTLYENV || {};                                    if (document.getElementById(\"34408a4f-000b-4715-a441-04b077cc9f82\")) {                    Plotly.newPlot(                        \"34408a4f-000b-4715-a441-04b077cc9f82\",                        [{\"customdata\":[[58],[55],[60],[56],[60],[58],[56],[64],[63],[62],[59],[67],[58],[58],[57],[66],[64],[59],[68],[61],[64],[63],[55],[57],[57],[61],[58],[59],[53],[59],[62],[60],[65],[60],[63],[56],[58],[62],[56],[59],[65],[62],[59],[66],[64],[62],[61],[56],[62],[60],[62],[64],[63],[58],[62],[61],[59],[59],[58],[55],[51],[57],[61],[60],[64],[65],[59],[58],[63],[61],[59],[56],[61],[63],[58],[62],[60],[62],[65],[59],[65],[58],[61],[66],[58],[68],[58],[67],[56],[61],[56],[61],[59],[62],[59],[59],[59],[57],[59],[61],[62],[67],[56],[59],[58],[61],[55],[59],[59],[60],[60],[67],[57],[56],[63],[64],[57],[60],[61],[61],[57],[64],[55],[59],[58],[58],[59],[53],[53],[59],[63],[55],[62],[61],[59],[55],[56],[57],[66],[66],[59],[59],[56],[61],[61],[63],[58],[62],[58],[55],[58],[60],[61],[57],[54],[62],[64]],\"hovertemplate\":\"Cluster=Cluster 0\\u003cbr\\u003ePCA1=%{x}\\u003cbr\\u003ePCA2=%{y}\\u003cbr\\u003eFeature=%{customdata[0]}\\u003cextra\\u003e\\u003c\\u002fextra\\u003e\",\"legendgroup\":\"Cluster 0\",\"marker\":{\"color\":\"#636efa\",\"opacity\":0.5,\"symbol\":\"circle\"},\"mode\":\"markers\",\"name\":\"Cluster 0\",\"orientation\":\"v\",\"showlegend\":true,\"x\":[1.168283700298153,1.416524847498931,1.0276427199624674,0.7918438826702817,0.6555738403701945,1.285625764456267,1.0405649159923467,0.886129061306583,0.9146569055529157,0.9278732433593297,1.2454279396930046,0.7728732342358806,1.1074480844605274,1.2687191541005094,0.9449531635491203,0.7622312268075445,0.9777645559930498,1.0169684017691276,1.0103742873858066,0.8997248139805235,1.043735148307309,0.59682946921763,1.2062170192506034,1.3021698682866707,0.9384815712202278,0.7160188879115621,1.3211848806836235,1.1080733107301204,0.9983593069552815,0.89193976864857,0.7344587740505072,0.900841312670392,0.8612097024788928,0.7821932358049105,1.2041502834663607,1.2062689639165893,1.0852611343777794,0.8459436007799075,0.894312793825404,0.8726423089978533,0.9041298708228792,0.9066282295775965,0.9808089192409671,1.0636835747962277,0.9404516521503729,0.7759052575820313,0.6643083633818323,0.8659576195564086,1.048844717847481,0.9312354065998134,0.981971709058389,1.059070520764705,0.7440274522719088,1.1042748149489454,0.8417702446799287,0.7874789340364966,0.9425921069204356,0.8657576280514768,1.0019403172175654,0.9594904501652086,1.2191798503320763,1.0477726434490409,1.007791366828949,0.9041625435151751,0.5770891879196995,0.8416808831528547,0.635050773032961,1.1666392991194001,0.8463936669282941,0.8566260358632628,0.9119072832149153,1.0860490205360362,0.9366545997757677,0.8473239394675027,0.9030632526952312,1.2474049340254758,0.758064012052424,1.0725421735877514,0.705960092999488,1.2113149008777502,0.6609924228042445,1.1841092257604502,0.7954780881086868,0.8652969865535092,1.2806116873975624,0.7310246756468838,0.6935247292600987,1.1100288124039301,1.1219558239547458,0.9605009118547884,1.1851490686318387,0.7065493157257268,0.8220018192601686,0.938933597764252,1.0372284509042102,0.8637286535793982,1.0205116797168636,0.935233825823457,0.8645507831528335,0.9431474612825114,0.8598961482066801,0.7324373925173785,1.010120932087218,1.3029770007955617,0.9578529035814846,1.1929201863238192,0.9890445934967499,1.0262015665917115,1.3206465654806891,0.8764462897040273,1.1328881813626865,1.0464738109386844,1.3467047438880948,1.0574476828468298,1.1951063715213461,1.0121035638001257,1.2175980282031038,0.9540261213115766,1.1788965459042737,0.9680414759191465,1.1543311950894954,1.076859411613997,0.9446702949507854,1.1276584532463572,0.9390626266597388,0.9214394452884335,0.8854326073556663,0.8545270992189649,1.3514663993849723,0.6491557089831028,1.1697157157105846,1.1107919530706978,0.9629568366605428,0.9694492150848553,0.9863668241734642,1.2097308456376705,0.8404752933067151,1.1695787307060754,0.9783089217155604,0.954923710923751,1.3253416973277246,0.9688223176937348,0.9694486721072396,0.9128901619260923,0.9904005931312485,1.1194004122191068,0.9700286595917198,0.5838880837444461,1.1412703962743067,0.978091938359006,0.9415026940468484,1.3791574074188666,1.211399489612769,0.9951066400134884,1.1878058391546589,1.1686594538900317,0.6485204145371004],\"xaxis\":\"x\",\"y\":[-1.000182097500609,-1.1874054921130863,-1.2614198248900808,-1.0428462357194521,-0.9506074996684036,-1.0491610821438089,-1.0879013920012626,-1.3114515408661902,-1.0457974762566626,-1.3218177947254257,-1.1350938967856565,-1.4498324189835494,-0.9032411332655957,-1.2877279418212284,-1.0827043896146111,-1.1008297151560258,-1.0054322463139485,-1.1019901712259734,-1.2406547165749462,-1.0180186815310637,-1.140784819368748,-1.2466720196651209,-0.9890970342964716,-1.1317551847841059,-0.9114183932695236,-0.8559835943006037,-1.0112114872870102,-1.0491406888162587,-0.7261456077497617,-0.9244828083379836,-1.1739384664823307,-1.0551957087085169,-1.3076654831188999,-0.9017111014195511,-1.110490264871973,-0.787329159357679,-1.0005435760888546,-1.0255561956986627,-0.8956354652269498,-1.0128644423537836,-1.3387063216989779,-0.812918374502627,-1.1529579747591636,-1.068767714408883,-1.0093416187074324,-1.0307952435211079,-0.8901299659112824,-0.9501853298632678,-1.0341295279527492,-1.1517194309146968,-1.2111098594920382,-0.8907998072857146,-1.0170300674445742,-0.92613391922195,-1.1315541492326848,-1.0185756181499812,-1.4138817772205285,-1.009322817641825,-0.8672710371535216,-1.0207959533810096,-0.9339131059589081,-0.9909497372641376,-0.925120638397447,-0.9268788820901757,-1.1057267491959977,-1.0551123254284867,-0.8444886175990899,-0.9858205173986626,-0.7750478656652984,-1.0899101222137213,-1.0921090956253685,-1.1540811039662722,-1.0537811899478342,-1.0958576719468032,-0.9571164515340793,-1.30890975699908,-1.0899601739553046,-1.3410544447617936,-1.01355867479302,-1.3413428545726847,-1.0233877280029158,-1.278396426326766,-0.8398827549874197,-1.0111196723730453,-1.1487850666835386,-1.2106187138454425,-0.8048185035647605,-1.2312022661473188,-0.9361935812116114,-1.1213907739917415,-0.9262420039422746,-1.007164073908573,-0.715124543968244,-1.184101644760294,-1.1311766157283243,-0.6305227529987888,-1.0690001233128803,-1.0689487670100213,-0.836363670384953,-1.2236753861220675,-1.2307738114173261,-1.2033210848393188,-0.7192448138435933,-1.0354555267432723,-0.7304667795198445,-1.3237198197423279,-0.7460961462187092,-1.078436485066315,-0.8439511805184667,-0.9881938435607149,-1.3481125132949194,-1.1669307977663463,-1.071824051691091,-0.9625591715859116,-1.5360719766613218,-1.2827358441799015,-1.0940498318756802,-1.105011865467867,-1.1914816463333717,-1.1378583973726573,-0.8986911550414326,-0.8646271599998734,-0.8512723128101779,-1.1423072290982208,-0.824821099849389,-0.960778951479296,-0.9872029878216135,-0.9365448631646772,-0.9684157167828293,-0.7130075332511671,-1.323267755665547,-0.850467682072851,-1.0563539504353545,-0.9652549334147872,-1.2147598407332456,-1.017412306979005,-1.0083836537404784,-0.9948424146853004,-1.2837073824379714,-1.4279651456655156,-1.0537884452997581,-0.9508264386599714,-0.5166517090533885,-1.2877890111042185,-1.0986216164230387,-0.9454616685796321,-1.0226848796124324,-0.7095234382012505,-1.1282610424770685,-0.8932650861034414,-0.8738518191467408,-1.1911314537851472,-1.3813315342767865,-0.8446993285766249,-0.9010032597945408,-1.3828850677965954,-1.2345567241332502],\"yaxis\":\"y\",\"type\":\"scatter\",\"textposition\":\"top center\"},{\"customdata\":[[87],[94],[86],[92],[86],[91],[82],[87],[89],[90],[88],[93],[85],[84],[86],[83],[94],[83],[88],[83],[91],[84],[90],[90],[88],[87],[83],[88],[90],[91],[84],[87],[91],[85],[87],[88],[87],[88],[90],[91],[91],[91],[83],[92],[87],[85],[94],[86],[92],[84],[83],[87],[90],[87],[88],[86],[84],[90],[91],[92],[97],[84],[92],[87],[91],[93],[90],[84],[87],[82],[90],[83],[91],[88],[91],[84],[87],[89],[84],[94],[86],[79],[86],[85],[92],[89],[88],[87],[90],[89],[79],[82],[87],[91],[86],[89],[83],[91],[89],[82],[85],[92],[89],[84],[87],[94],[85],[88],[89],[83],[89],[91],[88],[88],[91],[87],[87],[85],[85],[88],[85],[86],[89],[95],[89],[90],[85],[88],[87],[82],[88],[84],[91],[93],[88],[94],[81],[91],[85],[94],[91],[88],[89],[84],[83],[92],[84]],\"hovertemplate\":\"Cluster=Cluster 1\\u003cbr\\u003ePCA1=%{x}\\u003cbr\\u003ePCA2=%{y}\\u003cbr\\u003eFeature=%{customdata[0]}\\u003cextra\\u003e\\u003c\\u002fextra\\u003e\",\"legendgroup\":\"Cluster 1\",\"marker\":{\"color\":\"#EF553B\",\"opacity\":0.5,\"symbol\":\"circle\"},\"mode\":\"markers\",\"name\":\"Cluster 1\",\"orientation\":\"v\",\"showlegend\":true,\"x\":[-2.186922685285816,-2.404282702568816,-2.077305937871977,-2.441357659333778,-2.3022948107819046,-2.287582222961387,-2.0517527679088485,-2.061750629315315,-2.1055768655960194,-1.9237706946125317,-1.9803938458771317,-2.567401616987832,-2.069376257631236,-2.3168729941610064,-2.3114408292046233,-2.048875703299576,-2.064027137588367,-2.074064242540011,-2.325665063692091,-2.0660308350734224,-2.1601323732581967,-2.079401578226795,-2.1132550638960668,-2.236745028601449,-2.0257149698382455,-2.1009645101949226,-2.1726077535690305,-1.9475645518884859,-2.1246147683316616,-2.1987492811920486,-1.8819533679121567,-1.6415100426953981,-2.2095285950890875,-2.213564388378536,-1.890534560543126,-2.19665429951062,-2.214914130791126,-1.8568486460830824,-2.4957367358934315,-1.9888631880066785,-2.190582477806906,-2.263831289547847,-2.0848956401167578,-2.0072052114473355,-2.015669694528221,-1.8449566183283634,-2.3009029173797324,-2.0904896589170576,-2.30918323181042,-2.0610472088980254,-1.6920136110418915,-1.972682149186999,-2.0348464256973666,-2.1763682898835324,-1.8744645494467416,-2.0325472509200506,-1.8540489541166643,-2.0546986874034,-2.2719688056072065,-2.1383706573469046,-2.166582509425175,-1.8268448016513736,-2.1151354477730844,-2.1694527671158905,-2.0219203587556143,-2.6650846141014073,-1.9113850975608004,-2.1374480042711403,-1.9797365510783633,-1.931692987136149,-2.0875236402024977,-1.850113945275013,-2.4708555943873134,-2.1045480550454094,-2.0596221679142688,-2.039293658562047,-1.9494241646564776,-2.133873295558788,-2.012610118056562,-2.089773101911316,-1.9440773058871794,-1.651896587162526,-2.1279588894662025,-1.7799235382684175,-2.062018699578431,-1.6899782169382005,-2.372239580998221,-1.8777106536524595,-2.005727845175852,-1.9614733683409826,-1.73404961232791,-2.142346654631988,-1.9208510429010532,-2.179538713714973,-2.4086259890549377,-2.05496124470475,-2.0752452100997147,-2.284116925066545,-1.892509556390572,-1.6872601970051406,-1.8598620401888162,-2.0545283818607474,-2.1601504902786344,-1.8555917416330407,-2.1368664763049883,-2.240862770996041,-2.034198832156782,-1.9635142597949262,-1.9874389966732806,-1.7196671474447425,-1.587642395569355,-2.396385600741945,-1.7185088195699356,-1.8776590854293684,-2.0606756291972315,-1.912234480816994,-2.0110177462145207,-1.8605670449487401,-2.1063108193780633,-2.2967077311386985,-1.7579711332465588,-1.7605101149425775,-2.2267334918073916,-2.390800143549279,-2.1099741256835616,-1.810877137126543,-1.9593513155850921,-1.947941795081313,-2.1894947053864358,-1.9126164348236825,-1.8583744423673187,-1.8125975255263715,-2.4461401752427148,-2.4199341739816425,-2.1810455213318956,-2.3241773386525235,-1.9100567546298195,-2.3779000563006947,-2.155529877397674,-2.1219968431651925,-2.351103385993929,-2.188413756241369,-2.2696247431645307,-2.108265172091553,-1.894548712153251,-1.9876134372615228,-2.3536231808272663],\"xaxis\":\"x\",\"y\":[-0.8067995569356412,-0.7173393400405388,-0.6825634242360205,-0.5181762316186264,-0.11431721526800903,-0.8755633636665126,-0.1596190647071294,-0.39991666446128393,-0.5517801062784086,-0.6273745595239683,-0.45017631073082076,-0.5584256319110371,-0.5698597167158752,-0.40881869043679037,-0.057588001331142176,-0.2910284906094382,-0.7464151677357721,-0.45389620421603155,-0.5350079372274517,-0.1527021996513405,-0.5893188314701031,-0.5608573168992339,-0.3696081344963377,-0.5264186996992535,-0.5390371933703422,-0.5619385982740365,-0.2306859213668444,-0.5215544689094566,-0.46037204898379963,-0.613838553245679,-0.2942210506782686,-0.32005218437182925,-0.5797516991361965,-0.2550458445323647,-0.5393495897616246,-0.6273116697679453,-0.5241277681177692,-0.7054103979478971,-0.3681076091768775,-0.46772412504721883,-0.6014849347139456,-0.45444443291172343,-0.5585027453296465,-0.5682786079006387,-0.6102172142266885,-0.7365498286947545,-0.6493932058674964,-0.4401750730054035,-0.6093340007317015,-0.4187226276441691,-0.46643971836704073,-0.2091844523877479,-0.5728525797446411,-0.6740200744548936,-0.6191144593009181,-0.5563919003697059,-0.52758218324415,-0.7520088590283934,-0.44915292759201697,-0.8410375014215647,-0.7505233015126644,-0.36716053774523344,-0.429736940277989,-0.36895596113163404,-0.574631015758451,-0.35627443327827774,-0.5456030013787855,-0.3834394144313491,-0.45659384089036686,-0.30034031179805476,-0.6338688044084949,-0.42749581594129454,-0.24687040779734953,-0.6480071046379431,-0.6563181470502274,-0.4053445268421489,-0.6280532039655609,-0.5696768817440944,-0.6402758608991829,-0.44240743397598853,-0.5298424005360373,-0.2911760646700429,-0.13911050506757638,-0.6441540104159149,-0.5549713642005606,-0.6934908301507863,-0.5161724087173114,-0.6206342835178316,-0.42003098716449033,-0.6400389921177897,-0.3269654762898555,-0.30471157599602694,-0.9227842667757733,-0.6347762918396852,-0.4487441855504683,-0.7539529182760794,-0.3794030889030783,-0.4958571771385828,-0.6046141006526976,-0.7954904013263532,-0.4342811535446774,-0.5009905475094888,-0.6676343563650065,-0.5744379782396478,-0.5519563585136075,-0.7895587957764538,-0.40722339979213684,-0.9640476068371758,-0.5169981583589743,-0.6422730817663534,-1.0908349749742376,-0.10743763606387967,-0.7034946835267872,-0.7015103602484011,-0.541789183446163,-0.6857124943849288,-0.5766039187068891,-0.5908679438455625,-0.2844963006679816,-0.19658001770472253,-0.6274956634284364,-0.17396287162944013,-0.4646409811674968,-0.5480994425662662,-0.7826594232507051,-0.6893553855124899,-0.3045947159020647,-0.6458564147851061,-0.5869172876819709,-0.31220075025838173,-0.5353794322734134,-0.1989647901851436,-0.27829580340464904,-0.5971884642663121,-0.47087749345166313,-0.5246607801291668,-0.19150554711229695,-0.5926924652356996,-0.3982907723056847,-0.7167505909540547,-0.6846139841079552,-0.4018651993954492,-0.28863262661912437,-0.31381835673691416,-0.3030524590508673,-0.6418532294699375,-0.1032059917218751],\"yaxis\":\"y\",\"type\":\"scatter\",\"textposition\":\"top center\"},{\"customdata\":[[87],[30],[36],[39],[89],[31],[30],[31],[29],[33],[37],[37],[37],[29],[36],[33],[38],[28],[27],[34],[44],[31],[36],[33],[88],[31],[86],[36],[35],[32],[36],[85],[31],[31],[33],[33],[82],[32],[30],[33],[34],[35],[31],[35],[82],[35],[28],[30],[28],[32],[38],[28],[31],[30],[84],[30],[37],[88],[35],[28],[34],[34],[22],[36],[34],[86],[92],[31],[31],[93],[35],[32],[28],[33],[86],[29],[30],[38],[88],[29],[36],[31],[33],[29],[33],[31],[84],[26],[24],[36],[33],[31],[29],[36],[83],[85],[40],[31],[37],[83],[31],[29],[33],[30],[34],[30],[34],[31],[29],[90],[30],[37],[30],[33],[37],[38],[35],[25],[42],[33],[29],[39],[83],[32],[84],[34],[37],[35],[43],[77],[34],[91],[36],[33],[31],[28],[29],[35],[37],[32],[37],[29],[35],[31],[84],[25],[90],[34],[39],[32],[34]],\"hovertemplate\":\"Cluster=Cluster 2\\u003cbr\\u003ePCA1=%{x}\\u003cbr\\u003ePCA2=%{y}\\u003cbr\\u003eFeature=%{customdata[0]}\\u003cextra\\u003e\\u003c\\u002fextra\\u003e\",\"legendgroup\":\"Cluster 2\",\"marker\":{\"color\":\"#00cc96\",\"opacity\":0.5,\"symbol\":\"circle\"},\"mode\":\"markers\",\"name\":\"Cluster 2\",\"orientation\":\"v\",\"showlegend\":true,\"x\":[-0.9670629893092276,0.10798190849729236,0.30294351011874304,-0.047600875663388886,-1.2921524659738708,0.24405108167489176,0.4200019700884516,0.32955810175474615,0.5268484618876357,0.07021001806088793,0.3109793267163907,0.1352740308653912,-0.13748781267257362,0.25870617603376783,0.1624540534598026,0.2357552920773508,0.21730441200175937,0.1520368087792442,0.2857223152622025,0.136896932014283,0.21406794406996302,0.02445773148008706,0.06669640833247206,0.1817635048732863,-1.0392532826408911,0.33337649090693766,-1.1908673534628524,0.22836613364074426,0.012671801975977321,0.4708579684888591,-0.1530454641950427,-1.3983098514143735,-0.015301315617336997,0.24079969673089774,0.20307770090155297,0.3138346180986758,-1.0432102475267337,0.05098714428991411,0.4262593783536396,-0.024306177851070285,0.24302668050736048,0.08619074425664026,0.26865423242556885,0.29574810277516167,-0.9675569341635275,-0.05730433676772333,0.23395695392934676,0.229449482387094,0.419612609410874,0.1931330048221053,0.27421496881147095,0.13276133089362208,0.43275660146338474,0.23417750997887765,-0.9031905734664332,0.30712982011597384,0.32006457723758686,-1.0975612735885782,0.0708260821765261,0.4492071224815621,0.23046760581771242,0.014221911379845166,0.4086853376162123,0.1416626374309734,-0.048158401129716304,-0.763417500243889,-1.0952301329315228,0.40994647080598784,0.7206924895154383,-1.1784391771348162,0.20455623897684674,0.42412679047370133,0.10836349308851148,0.37524518615911,-1.248113623130223,0.37690900092272833,0.38862967897900175,0.3379530615508676,-1.624912784682923,0.6209177796273911,-0.06863321431549028,0.3580625745548702,0.22843064435005764,0.3278263740230589,0.3904824321130585,0.48999091007768003,-1.2666202761220255,0.14248076054025008,0.4670474196065632,0.10015090672814947,0.41939999810333173,0.11017438441604882,0.4717467165334147,-0.033678189877597096,-1.1975955739957052,-1.0212922752555396,-0.1784325369732756,0.4704027428134175,-0.15415708313395535,-0.9552849167539067,0.4031937749459454,0.18708409504009757,0.25349499843942785,0.2529755930299897,0.18865344556644886,0.2853175820548804,-0.22938327018966104,0.34747534778563993,0.5747337667244655,-1.2098767033144113,0.5330680457332427,-0.11069432274793696,0.10470996541711522,0.34601027990822486,0.16539833779945537,-0.09633293567621402,0.2220005508479035,0.29052625921572184,0.10755104259987551,0.036996556493742054,0.25280982475519365,-0.01918706326351542,-1.1277989607099257,0.3292128709411824,-1.1915520070338939,0.383358898472566,0.38809545331979145,0.395674255854001,0.16150148801103764,-0.8348661374051699,0.31007185695746164,-1.2427853491999254,0.2353629360583083,0.21584760970015052,0.4277488334549683,0.5702847122284478,0.18989269112541846,0.1559687200491657,0.18370795238168025,-0.01708539440011158,0.14987783471490662,0.1471132276826014,0.18269464454382198,0.4950550000074497,-1.0903663086914088,0.4053831365577324,-0.9541647230065956,0.2862548064665959,-0.18547993140616187,-0.08843565640624344,0.4088934982537294],\"xaxis\":\"x\",\"y\":[1.0706344836522816,1.9551017959482686,1.5526622020249556,1.468729447647332,1.3272072145860665,1.9799561709420022,1.5791511258499653,1.5755302033651424,1.7074318423573025,1.9697401166278403,1.55764528515935,1.7136273571719463,1.9393261032562328,1.6856596988448183,1.4691569045918424,1.290231445194519,1.3840144713116411,1.7482436217107926,1.8709051196978228,1.6224836530958548,1.4915248779052879,1.8809435326607977,1.73562013388285,1.5598097590207982,1.3135299806436316,1.438917783469909,1.2792909280909783,1.3946960951346234,1.8431367338776345,1.7797650101528026,1.7117805229656018,1.3795671282642634,1.7923009736397557,1.728855460150427,1.7269874254785935,1.591790276045863,1.559932759114145,1.8996637903379137,1.43081455778163,1.7425572756054553,1.6242223756932648,1.6215237789267256,1.668376918720126,1.3939504094346489,1.4027015868432684,1.8753574874612198,1.6203935593284924,1.4856662614493954,1.508125756460908,1.6485887320386272,1.6670982850467244,1.6239620763416733,1.6303414351470522,1.460912995657526,1.2898573129879822,1.5713309202800734,1.4396322721760837,1.2589971606078165,1.677686740307086,1.8500053949600679,1.3890042364188564,1.5946020915388963,1.9740726772901893,1.6379037455257954,1.778221896367298,1.2243905626141132,1.1727357256427728,1.645716020011328,1.3508523956475282,1.3195283019356352,1.7192415822105935,1.6521558938872878,1.8203269548922107,1.79957114732993,1.5822628167983028,1.6541405199866859,1.7142458945666081,1.5676659850444272,1.5343348554889593,1.5672685856356072,1.583494021250559,1.5628044477446137,1.3602033073351616,1.6049146730237192,1.3470471768457275,1.7492547422359523,1.3289766394539355,1.769753247505829,1.9073392847817223,1.694899536770256,1.7434932540225694,1.7275528351039262,1.849558101066977,1.5181028540855577,1.4958441049619158,1.201626671234367,1.5557085096903742,1.6505084641177994,1.629954512785757,1.178485103034625,1.6709257858407842,1.510058711789098,1.6210649589932011,1.805007055933467,1.6265685523365574,1.7974611512875212,1.8646990635027585,1.6445951186447505,1.8315728608200965,1.3846394655480794,1.5752059739870672,1.7989046071428347,1.788336910045934,1.5959799716761534,1.307485045964935,1.3905682317427939,1.8694706537538346,1.7901953904841934,1.436319129698247,1.5980239643573735,1.89082500362184,1.4381686133010128,1.3804689887922998,1.6238566951008384,1.2071737144679995,1.6070736167135973,1.4121023340577585,1.633262043469114,1.1885110799135465,1.663325275440493,1.9068400554312845,1.2472155265607714,1.5278631091379475,1.7098543670336446,1.7193221511506938,1.6086501450933868,1.7329710142513872,1.5906017920090876,1.6274930606611877,1.6424216219063739,1.6099944616725792,1.6852232384430976,1.6082293630009552,1.6722885899019204,1.2543911832819996,1.7628075982504312,0.9893579282310002,1.138686299033683,1.6505739051015142,1.8279335923121087,1.411554987717098],\"yaxis\":\"y\",\"type\":\"scatter\",\"textposition\":\"top center\"},{\"customdata\":[[22],[25],[26],[28],[29],[22],[24],[24],[26],[28],[26],[23],[25],[29],[17],[18],[26],[18],[21],[30],[17],[25],[20],[20],[28],[20],[28],[25],[31],[27],[21],[22],[24],[17],[28],[23],[28],[17],[26],[27],[24],[25],[29],[24],[23],[23],[25],[24],[27],[24]],\"hovertemplate\":\"Cluster=Cluster 3\\u003cbr\\u003ePCA1=%{x}\\u003cbr\\u003ePCA2=%{y}\\u003cbr\\u003eFeature=%{customdata[0]}\\u003cextra\\u003e\\u003c\\u002fextra\\u003e\",\"legendgroup\":\"Cluster 3\",\"marker\":{\"color\":\"#ab63fa\",\"opacity\":0.5,\"symbol\":\"circle\"},\"mode\":\"markers\",\"name\":\"Cluster 3\",\"orientation\":\"v\",\"showlegend\":true,\"x\":[2.979040992931336,2.8772063344909182,3.029682667396977,3.109047720144273,2.9081920541225244,3.2271349825395603,3.1060514292418486,3.1284383602323245,2.9467083858755894,3.0574046541750173,3.0233418909796494,3.0284708922404167,2.7441229287241717,3.0194786789947625,3.3186573837236524,2.859649630631101,2.761513485906827,3.0185007250619496,3.1336887106715725,2.582432396706411,3.24802141167384,2.6834430250258117,2.9645299636113416,2.910054495720979,2.6248468632978996,3.0222113740060266,3.1899017596577046,3.0625443827330527,2.8857013607379076,3.136928597926129,3.0184648758940775,2.9555456794194686,3.0276701852706887,3.6060109830904366,2.6126329530035686,3.2896659880682377,2.727690789607608,3.203383968402448,2.6580310641744687,2.877220096055832,2.9684908655393962,2.9946138386426813,2.996965662221726,2.83600901193387,2.9965294398023965,2.821084689652977,3.3147831847414397,3.0785132486416042,2.792814268158546,3.334588630852613],\"xaxis\":\"x\",\"y\":[-0.17767734510080496,0.15353835692851375,-0.11781866110151215,-0.22672840501420363,0.014594534918111041,0.02355854728374907,0.04665292226119874,-0.1238629775244599,0.07393602818372139,-0.3726669612744841,-0.2797896235490995,-0.0051018740226385076,0.22846587950490577,0.12620198118673295,0.18149476219538702,0.2720229389531101,0.027472414923976392,0.26981597634276394,0.005365721165935379,-0.011831568042126959,0.22315486658724876,0.03876450528017572,0.030777093442380492,0.24234807841349104,-0.10508687804990391,0.12765057804110858,-0.3934181166799325,-0.02478843719848305,-0.2874926435025409,-0.3338421280769298,0.025679173060421404,0.2758660373565886,0.03958604219247579,-0.0208025851887029,0.007656245740532659,0.05549888270140581,0.0657523925843169,-0.0475953384295962,0.2200058421600642,-0.1596121401541348,0.09709136868596455,0.004345556023207168,-0.32384238061822723,-0.07559244793310539,0.10028251723062605,-0.016743577311613727,-0.060191290283313936,0.11283445585873156,-0.13296706160376423,-0.0234272717687715],\"yaxis\":\"y\",\"type\":\"scatter\",\"textposition\":\"top center\"}],                        {\"template\":{\"data\":{\"histogram2dcontour\":[{\"type\":\"histogram2dcontour\",\"colorbar\":{\"outlinewidth\":0,\"ticks\":\"\"},\"colorscale\":[[0.0,\"#0d0887\"],[0.1111111111111111,\"#46039f\"],[0.2222222222222222,\"#7201a8\"],[0.3333333333333333,\"#9c179e\"],[0.4444444444444444,\"#bd3786\"],[0.5555555555555556,\"#d8576b\"],[0.6666666666666666,\"#ed7953\"],[0.7777777777777778,\"#fb9f3a\"],[0.8888888888888888,\"#fdca26\"],[1.0,\"#f0f921\"]]}],\"choropleth\":[{\"type\":\"choropleth\",\"colorbar\":{\"outlinewidth\":0,\"ticks\":\"\"}}],\"histogram2d\":[{\"type\":\"histogram2d\",\"colorbar\":{\"outlinewidth\":0,\"ticks\":\"\"},\"colorscale\":[[0.0,\"#0d0887\"],[0.1111111111111111,\"#46039f\"],[0.2222222222222222,\"#7201a8\"],[0.3333333333333333,\"#9c179e\"],[0.4444444444444444,\"#bd3786\"],[0.5555555555555556,\"#d8576b\"],[0.6666666666666666,\"#ed7953\"],[0.7777777777777778,\"#fb9f3a\"],[0.8888888888888888,\"#fdca26\"],[1.0,\"#f0f921\"]]}],\"heatmap\":[{\"type\":\"heatmap\",\"colorbar\":{\"outlinewidth\":0,\"ticks\":\"\"},\"colorscale\":[[0.0,\"#0d0887\"],[0.1111111111111111,\"#46039f\"],[0.2222222222222222,\"#7201a8\"],[0.3333333333333333,\"#9c179e\"],[0.4444444444444444,\"#bd3786\"],[0.5555555555555556,\"#d8576b\"],[0.6666666666666666,\"#ed7953\"],[0.7777777777777778,\"#fb9f3a\"],[0.8888888888888888,\"#fdca26\"],[1.0,\"#f0f921\"]]}],\"heatmapgl\":[{\"type\":\"heatmapgl\",\"colorbar\":{\"outlinewidth\":0,\"ticks\":\"\"},\"colorscale\":[[0.0,\"#0d0887\"],[0.1111111111111111,\"#46039f\"],[0.2222222222222222,\"#7201a8\"],[0.3333333333333333,\"#9c179e\"],[0.4444444444444444,\"#bd3786\"],[0.5555555555555556,\"#d8576b\"],[0.6666666666666666,\"#ed7953\"],[0.7777777777777778,\"#fb9f3a\"],[0.8888888888888888,\"#fdca26\"],[1.0,\"#f0f921\"]]}],\"contourcarpet\":[{\"type\":\"contourcarpet\",\"colorbar\":{\"outlinewidth\":0,\"ticks\":\"\"}}],\"contour\":[{\"type\":\"contour\",\"colorbar\":{\"outlinewidth\":0,\"ticks\":\"\"},\"colorscale\":[[0.0,\"#0d0887\"],[0.1111111111111111,\"#46039f\"],[0.2222222222222222,\"#7201a8\"],[0.3333333333333333,\"#9c179e\"],[0.4444444444444444,\"#bd3786\"],[0.5555555555555556,\"#d8576b\"],[0.6666666666666666,\"#ed7953\"],[0.7777777777777778,\"#fb9f3a\"],[0.8888888888888888,\"#fdca26\"],[1.0,\"#f0f921\"]]}],\"surface\":[{\"type\":\"surface\",\"colorbar\":{\"outlinewidth\":0,\"ticks\":\"\"},\"colorscale\":[[0.0,\"#0d0887\"],[0.1111111111111111,\"#46039f\"],[0.2222222222222222,\"#7201a8\"],[0.3333333333333333,\"#9c179e\"],[0.4444444444444444,\"#bd3786\"],[0.5555555555555556,\"#d8576b\"],[0.6666666666666666,\"#ed7953\"],[0.7777777777777778,\"#fb9f3a\"],[0.8888888888888888,\"#fdca26\"],[1.0,\"#f0f921\"]]}],\"mesh3d\":[{\"type\":\"mesh3d\",\"colorbar\":{\"outlinewidth\":0,\"ticks\":\"\"}}],\"scatter\":[{\"fillpattern\":{\"fillmode\":\"overlay\",\"size\":10,\"solidity\":0.2},\"type\":\"scatter\"}],\"parcoords\":[{\"type\":\"parcoords\",\"line\":{\"colorbar\":{\"outlinewidth\":0,\"ticks\":\"\"}}}],\"scatterpolargl\":[{\"type\":\"scatterpolargl\",\"marker\":{\"colorbar\":{\"outlinewidth\":0,\"ticks\":\"\"}}}],\"bar\":[{\"error_x\":{\"color\":\"#2a3f5f\"},\"error_y\":{\"color\":\"#2a3f5f\"},\"marker\":{\"line\":{\"color\":\"#E5ECF6\",\"width\":0.5},\"pattern\":{\"fillmode\":\"overlay\",\"size\":10,\"solidity\":0.2}},\"type\":\"bar\"}],\"scattergeo\":[{\"type\":\"scattergeo\",\"marker\":{\"colorbar\":{\"outlinewidth\":0,\"ticks\":\"\"}}}],\"scatterpolar\":[{\"type\":\"scatterpolar\",\"marker\":{\"colorbar\":{\"outlinewidth\":0,\"ticks\":\"\"}}}],\"histogram\":[{\"marker\":{\"pattern\":{\"fillmode\":\"overlay\",\"size\":10,\"solidity\":0.2}},\"type\":\"histogram\"}],\"scattergl\":[{\"type\":\"scattergl\",\"marker\":{\"colorbar\":{\"outlinewidth\":0,\"ticks\":\"\"}}}],\"scatter3d\":[{\"type\":\"scatter3d\",\"line\":{\"colorbar\":{\"outlinewidth\":0,\"ticks\":\"\"}},\"marker\":{\"colorbar\":{\"outlinewidth\":0,\"ticks\":\"\"}}}],\"scattermapbox\":[{\"type\":\"scattermapbox\",\"marker\":{\"colorbar\":{\"outlinewidth\":0,\"ticks\":\"\"}}}],\"scatterternary\":[{\"type\":\"scatterternary\",\"marker\":{\"colorbar\":{\"outlinewidth\":0,\"ticks\":\"\"}}}],\"scattercarpet\":[{\"type\":\"scattercarpet\",\"marker\":{\"colorbar\":{\"outlinewidth\":0,\"ticks\":\"\"}}}],\"carpet\":[{\"aaxis\":{\"endlinecolor\":\"#2a3f5f\",\"gridcolor\":\"white\",\"linecolor\":\"white\",\"minorgridcolor\":\"white\",\"startlinecolor\":\"#2a3f5f\"},\"baxis\":{\"endlinecolor\":\"#2a3f5f\",\"gridcolor\":\"white\",\"linecolor\":\"white\",\"minorgridcolor\":\"white\",\"startlinecolor\":\"#2a3f5f\"},\"type\":\"carpet\"}],\"table\":[{\"cells\":{\"fill\":{\"color\":\"#EBF0F8\"},\"line\":{\"color\":\"white\"}},\"header\":{\"fill\":{\"color\":\"#C8D4E3\"},\"line\":{\"color\":\"white\"}},\"type\":\"table\"}],\"barpolar\":[{\"marker\":{\"line\":{\"color\":\"#E5ECF6\",\"width\":0.5},\"pattern\":{\"fillmode\":\"overlay\",\"size\":10,\"solidity\":0.2}},\"type\":\"barpolar\"}],\"pie\":[{\"automargin\":true,\"type\":\"pie\"}]},\"layout\":{\"autotypenumbers\":\"strict\",\"colorway\":[\"#636efa\",\"#EF553B\",\"#00cc96\",\"#ab63fa\",\"#FFA15A\",\"#19d3f3\",\"#FF6692\",\"#B6E880\",\"#FF97FF\",\"#FECB52\"],\"font\":{\"color\":\"#2a3f5f\"},\"hovermode\":\"closest\",\"hoverlabel\":{\"align\":\"left\"},\"paper_bgcolor\":\"white\",\"plot_bgcolor\":\"#E5ECF6\",\"polar\":{\"bgcolor\":\"#E5ECF6\",\"angularaxis\":{\"gridcolor\":\"white\",\"linecolor\":\"white\",\"ticks\":\"\"},\"radialaxis\":{\"gridcolor\":\"white\",\"linecolor\":\"white\",\"ticks\":\"\"}},\"ternary\":{\"bgcolor\":\"#E5ECF6\",\"aaxis\":{\"gridcolor\":\"white\",\"linecolor\":\"white\",\"ticks\":\"\"},\"baxis\":{\"gridcolor\":\"white\",\"linecolor\":\"white\",\"ticks\":\"\"},\"caxis\":{\"gridcolor\":\"white\",\"linecolor\":\"white\",\"ticks\":\"\"}},\"coloraxis\":{\"colorbar\":{\"outlinewidth\":0,\"ticks\":\"\"}},\"colorscale\":{\"sequential\":[[0.0,\"#0d0887\"],[0.1111111111111111,\"#46039f\"],[0.2222222222222222,\"#7201a8\"],[0.3333333333333333,\"#9c179e\"],[0.4444444444444444,\"#bd3786\"],[0.5555555555555556,\"#d8576b\"],[0.6666666666666666,\"#ed7953\"],[0.7777777777777778,\"#fb9f3a\"],[0.8888888888888888,\"#fdca26\"],[1.0,\"#f0f921\"]],\"sequentialminus\":[[0.0,\"#0d0887\"],[0.1111111111111111,\"#46039f\"],[0.2222222222222222,\"#7201a8\"],[0.3333333333333333,\"#9c179e\"],[0.4444444444444444,\"#bd3786\"],[0.5555555555555556,\"#d8576b\"],[0.6666666666666666,\"#ed7953\"],[0.7777777777777778,\"#fb9f3a\"],[0.8888888888888888,\"#fdca26\"],[1.0,\"#f0f921\"]],\"diverging\":[[0,\"#8e0152\"],[0.1,\"#c51b7d\"],[0.2,\"#de77ae\"],[0.3,\"#f1b6da\"],[0.4,\"#fde0ef\"],[0.5,\"#f7f7f7\"],[0.6,\"#e6f5d0\"],[0.7,\"#b8e186\"],[0.8,\"#7fbc41\"],[0.9,\"#4d9221\"],[1,\"#276419\"]]},\"xaxis\":{\"gridcolor\":\"white\",\"linecolor\":\"white\",\"ticks\":\"\",\"title\":{\"standoff\":15},\"zerolinecolor\":\"white\",\"automargin\":true,\"zerolinewidth\":2},\"yaxis\":{\"gridcolor\":\"white\",\"linecolor\":\"white\",\"ticks\":\"\",\"title\":{\"standoff\":15},\"zerolinecolor\":\"white\",\"automargin\":true,\"zerolinewidth\":2},\"scene\":{\"xaxis\":{\"backgroundcolor\":\"#E5ECF6\",\"gridcolor\":\"white\",\"linecolor\":\"white\",\"showbackground\":true,\"ticks\":\"\",\"zerolinecolor\":\"white\",\"gridwidth\":2},\"yaxis\":{\"backgroundcolor\":\"#E5ECF6\",\"gridcolor\":\"white\",\"linecolor\":\"white\",\"showbackground\":true,\"ticks\":\"\",\"zerolinecolor\":\"white\",\"gridwidth\":2},\"zaxis\":{\"backgroundcolor\":\"#E5ECF6\",\"gridcolor\":\"white\",\"linecolor\":\"white\",\"showbackground\":true,\"ticks\":\"\",\"zerolinecolor\":\"white\",\"gridwidth\":2}},\"shapedefaults\":{\"line\":{\"color\":\"#2a3f5f\"}},\"annotationdefaults\":{\"arrowcolor\":\"#2a3f5f\",\"arrowhead\":0,\"arrowwidth\":1},\"geo\":{\"bgcolor\":\"white\",\"landcolor\":\"#E5ECF6\",\"subunitcolor\":\"white\",\"showland\":true,\"showlakes\":true,\"lakecolor\":\"white\"},\"title\":{\"x\":0.05},\"mapbox\":{\"style\":\"light\"}}},\"xaxis\":{\"anchor\":\"y\",\"domain\":[0.0,1.0],\"title\":{\"text\":\"PCA1\"}},\"yaxis\":{\"anchor\":\"x\",\"domain\":[0.0,1.0],\"title\":{\"text\":\"PCA2\"}},\"legend\":{\"title\":{\"text\":\"Cluster\"},\"tracegroupgap\":0},\"margin\":{\"t\":60},\"plot_bgcolor\":\"rgb(240,240,240)\",\"title\":{\"text\":\"2D Cluster PCA Plot\"},\"height\":600},                        {\"responsive\": true}                    ).then(function(){\n",
       "                            \n",
       "var gd = document.getElementById('34408a4f-000b-4715-a441-04b077cc9f82');\n",
       "var x = new MutationObserver(function (mutations, observer) {{\n",
       "        var display = window.getComputedStyle(gd).display;\n",
       "        if (!display || display === 'none') {{\n",
       "            console.log([gd, 'removed!']);\n",
       "            Plotly.purge(gd);\n",
       "            observer.disconnect();\n",
       "        }}\n",
       "}});\n",
       "\n",
       "// Listen for the removal of the full notebook cells\n",
       "var notebookContainer = gd.closest('#notebook-container');\n",
       "if (notebookContainer) {{\n",
       "    x.observe(notebookContainer, {childList: true});\n",
       "}}\n",
       "\n",
       "// Listen for the clearing of the current output cell\n",
       "var outputEl = gd.closest('.output');\n",
       "if (outputEl) {{\n",
       "    x.observe(outputEl, {childList: true});\n",
       "}}\n",
       "\n",
       "                        })                };                });            </script>        </div>"
      ]
     },
     "metadata": {},
     "output_type": "display_data"
    }
   ],
   "source": [
    "# pca cluster plot 생성\n",
    "plot_model(kmeans, plot = 'cluster')"
   ]
  },
  {
   "cell_type": "code",
   "execution_count": 11,
   "id": "27241125",
   "metadata": {},
   "outputs": [
    {
     "data": {
      "text/html": [],
      "text/plain": [
       "<IPython.core.display.HTML object>"
      ]
     },
     "metadata": {},
     "output_type": "display_data"
    },
    {
     "data": {
      "image/png": "[encoded data removed]",
      "text/plain": [
       "<Figure size 800x550 with 1 Axes>"
      ]
     },
     "metadata": {},
     "output_type": "display_data"
    }
   ],
   "source": [
    "# 앨보우 플롯 생성\n",
    "plot_model(kmeans, plot = 'elbow')"
   ]
  },
  {
   "cell_type": "code",
   "execution_count": 12,
   "id": "9dc44ce0",
   "metadata": {},
   "outputs": [
    {
     "data": {
      "text/html": [],
      "text/plain": [
       "<IPython.core.display.HTML object>"
      ]
     },
     "metadata": {},
     "output_type": "display_data"
    },
    {
     "data": {
      "image/png": "[encoded data removed]",
      "text/plain": [
       "<Figure size 800x550 with 1 Axes>"
      ]
     },
     "metadata": {},
     "output_type": "display_data"
    }
   ],
   "source": [
    "# 실루엣 플롯 생성\n",
    "plot_model(kmeans, plot = 'silhouette')"
   ]
  },
  {
   "cell_type": "markdown",
   "id": "024d82bc-3c37-4a1c-9697-979834693390",
   "metadata": {},
   "source": [
    "#### 4) 군집할당"
   ]
  },
  {
   "cell_type": "code",
   "execution_count": 13,
   "id": "f1e54158",
   "metadata": {
    "id": "f1e54158",
    "outputId": "d56a4757-b644-4de5-f64b-89854fd4ce97"
   },
   "outputs": [
    {
     "data": {
      "text/html": [
       "<div>\n",
       "<style scoped>\n",
       "    .dataframe tbody tr th:only-of-type {\n",
       "        vertical-align: middle;\n",
       "    }\n",
       "\n",
       "    .dataframe tbody tr th {\n",
       "        vertical-align: top;\n",
       "    }\n",
       "\n",
       "    .dataframe thead th {\n",
       "        text-align: right;\n",
       "    }\n",
       "</style>\n",
       "<table border=\"1\" class=\"dataframe\">\n",
       "  <thead>\n",
       "    <tr style=\"text-align: right;\">\n",
       "      <th></th>\n",
       "      <th>Age</th>\n",
       "      <th>Income</th>\n",
       "      <th>SpendingScore</th>\n",
       "      <th>Savings</th>\n",
       "      <th>Cluster</th>\n",
       "    </tr>\n",
       "  </thead>\n",
       "  <tbody>\n",
       "    <tr>\n",
       "      <th>0</th>\n",
       "      <td>58</td>\n",
       "      <td>77769</td>\n",
       "      <td>0.791329</td>\n",
       "      <td>6559.830078</td>\n",
       "      <td>Cluster 1</td>\n",
       "    </tr>\n",
       "    <tr>\n",
       "      <th>1</th>\n",
       "      <td>59</td>\n",
       "      <td>81799</td>\n",
       "      <td>0.791082</td>\n",
       "      <td>5417.661621</td>\n",
       "      <td>Cluster 1</td>\n",
       "    </tr>\n",
       "    <tr>\n",
       "      <th>2</th>\n",
       "      <td>62</td>\n",
       "      <td>74751</td>\n",
       "      <td>0.702657</td>\n",
       "      <td>9258.993164</td>\n",
       "      <td>Cluster 1</td>\n",
       "    </tr>\n",
       "    <tr>\n",
       "      <th>3</th>\n",
       "      <td>59</td>\n",
       "      <td>74373</td>\n",
       "      <td>0.765680</td>\n",
       "      <td>7346.334473</td>\n",
       "      <td>Cluster 1</td>\n",
       "    </tr>\n",
       "    <tr>\n",
       "      <th>4</th>\n",
       "      <td>87</td>\n",
       "      <td>17760</td>\n",
       "      <td>0.348778</td>\n",
       "      <td>16869.507812</td>\n",
       "      <td>Cluster 2</td>\n",
       "    </tr>\n",
       "    <tr>\n",
       "      <th>...</th>\n",
       "      <td>...</td>\n",
       "      <td>...</td>\n",
       "      <td>...</td>\n",
       "      <td>...</td>\n",
       "      <td>...</td>\n",
       "    </tr>\n",
       "    <tr>\n",
       "      <th>500</th>\n",
       "      <td>28</td>\n",
       "      <td>101206</td>\n",
       "      <td>0.387441</td>\n",
       "      <td>14936.775391</td>\n",
       "      <td>Cluster 0</td>\n",
       "    </tr>\n",
       "    <tr>\n",
       "      <th>501</th>\n",
       "      <td>93</td>\n",
       "      <td>19934</td>\n",
       "      <td>0.203140</td>\n",
       "      <td>17969.693359</td>\n",
       "      <td>Cluster 2</td>\n",
       "    </tr>\n",
       "    <tr>\n",
       "      <th>502</th>\n",
       "      <td>90</td>\n",
       "      <td>35297</td>\n",
       "      <td>0.355149</td>\n",
       "      <td>16091.402344</td>\n",
       "      <td>Cluster 2</td>\n",
       "    </tr>\n",
       "    <tr>\n",
       "      <th>503</th>\n",
       "      <td>91</td>\n",
       "      <td>20681</td>\n",
       "      <td>0.354679</td>\n",
       "      <td>18401.087891</td>\n",
       "      <td>Cluster 2</td>\n",
       "    </tr>\n",
       "    <tr>\n",
       "      <th>504</th>\n",
       "      <td>89</td>\n",
       "      <td>30267</td>\n",
       "      <td>0.289310</td>\n",
       "      <td>14386.351562</td>\n",
       "      <td>Cluster 2</td>\n",
       "    </tr>\n",
       "  </tbody>\n",
       "</table>\n",
       "<p>505 rows × 5 columns</p>\n",
       "</div>"
      ],
      "text/plain": [
       "     Age  Income  SpendingScore       Savings    Cluster\n",
       "0     58   77769       0.791329   6559.830078  Cluster 1\n",
       "1     59   81799       0.791082   5417.661621  Cluster 1\n",
       "2     62   74751       0.702657   9258.993164  Cluster 1\n",
       "3     59   74373       0.765680   7346.334473  Cluster 1\n",
       "4     87   17760       0.348778  16869.507812  Cluster 2\n",
       "..   ...     ...            ...           ...        ...\n",
       "500   28  101206       0.387441  14936.775391  Cluster 0\n",
       "501   93   19934       0.203140  17969.693359  Cluster 2\n",
       "502   90   35297       0.355149  16091.402344  Cluster 2\n",
       "503   91   20681       0.354679  18401.087891  Cluster 2\n",
       "504   89   30267       0.289310  14386.351562  Cluster 2\n",
       "\n",
       "[505 rows x 5 columns]"
      ]
     },
     "execution_count": 13,
     "metadata": {},
     "output_type": "execute_result"
    }
   ],
   "source": [
    "kmeans_cluster = assign_model(kmeans)\n",
    "kmeans_cluster"
   ]
  },
  {
   "cell_type": "markdown",
   "id": "595ea108",
   "metadata": {
    "id": "595ea108"
   },
   "source": [
    "You can use the `plot_model` function to analyzes the performance of a trained model on the test set. It may require re-training the model in certain cases."
   ]
  },
  {
   "cell_type": "code",
   "execution_count": 16,
   "id": "da718984",
   "metadata": {
    "id": "da718984"
   },
   "outputs": [
    {
     "name": "stdout",
     "output_type": "stream",
     "text": [
      "Help on function plot_model in module pycaret.clustering.functional:\n",
      "\n",
      "plot_model(model, plot: str = 'cluster', feature: Optional[str] = None, label: bool = False, scale: float = 1, save: bool = False, display_format: Optional[str] = None) -> Optional[str]\n",
      "    This function analyzes the performance of a trained model.\n",
      "    \n",
      "    \n",
      "    Example\n",
      "    -------\n",
      "    >>> from pycaret.datasets import get_data\n",
      "    >>> jewellery = get_data('jewellery')\n",
      "    >>> from pycaret.clustering import *\n",
      "    >>> exp_name = setup(data = jewellery)\n",
      "    >>> kmeans = create_model('kmeans')\n",
      "    >>> plot_model(kmeans, plot = 'cluster')\n",
      "    \n",
      "    \n",
      "    model: scikit-learn compatible object\n",
      "        Trained Model Object\n",
      "    \n",
      "    \n",
      "    plot: str, default = 'cluster'\n",
      "        List of available plots (ID - Name):\n",
      "    \n",
      "        * 'cluster' - Cluster PCA Plot (2d)\n",
      "        * 'tsne' - Cluster t-SNE (3d)\n",
      "        * 'elbow' - Elbow Plot\n",
      "        * 'silhouette' - Silhouette Plot\n",
      "        * 'distance' - Distance Plot\n",
      "        * 'distribution' - Distribution Plot\n",
      "    \n",
      "    \n",
      "    feature: str, default = None\n",
      "        Feature to be evaluated when plot = 'distribution'. When ``plot`` type is\n",
      "        'cluster' or 'tsne' feature column is used as a hoverover tooltip and/or\n",
      "        label when the ``label`` param is set to True. When the ``plot`` type is\n",
      "        'cluster' or 'tsne' and feature is None, first column of the dataset is\n",
      "        used.\n",
      "    \n",
      "    \n",
      "    label: bool, default = False\n",
      "        Name of column to be used as data labels. Ignored when ``plot`` is not\n",
      "        'cluster' or 'tsne'.\n",
      "    \n",
      "    \n",
      "    scale: float, default = 1\n",
      "        The resolution scale of the figure.\n",
      "    \n",
      "    \n",
      "    save: bool, default = False\n",
      "        When set to True, plot is saved in the current working directory.\n",
      "    \n",
      "    \n",
      "    display_format: str, default = None\n",
      "        To display plots in Streamlit (https://www.streamlit.io/), set this to 'streamlit'.\n",
      "        Currently, not all plots are supported.\n",
      "    \n",
      "    \n",
      "    Returns:\n",
      "        Path to saved file, if any.\n",
      "\n"
     ]
    }
   ],
   "source": [
    "# check docstring to see available plots\n",
    "help(plot_model)"
   ]
  },
  {
   "cell_type": "markdown",
   "id": "6bd66179",
   "metadata": {
    "id": "6bd66179"
   },
   "source": [
    "An alternate to `plot_model` function is `evaluate_model`. It can only be used in Notebook since it uses ipywidget."
   ]
  },
  {
   "cell_type": "code",
   "execution_count": null,
   "id": "a6051ccb-c9d2-460f-865b-d45969b466df",
   "metadata": {},
   "outputs": [],
   "source": [
    "# check docstring to see available plots\n",
    "help(plot_model)"
   ]
  },
  {
   "cell_type": "markdown",
   "id": "954cbeff",
   "metadata": {
    "id": "954cbeff"
   },
   "source": [
    "#### 5) 예측(Prediction)"
   ]
  },
  {
   "cell_type": "code",
   "execution_count": 20,
   "id": "87c1a007",
   "metadata": {
    "id": "87c1a007",
    "outputId": "3656fc7d-cd66-4547-aa72-50948eef780e"
   },
   "outputs": [
    {
     "data": {
      "text/html": [
       "<div>\n",
       "<style scoped>\n",
       "    .dataframe tbody tr th:only-of-type {\n",
       "        vertical-align: middle;\n",
       "    }\n",
       "\n",
       "    .dataframe tbody tr th {\n",
       "        vertical-align: top;\n",
       "    }\n",
       "\n",
       "    .dataframe thead th {\n",
       "        text-align: right;\n",
       "    }\n",
       "</style>\n",
       "<table border=\"1\" class=\"dataframe\">\n",
       "  <thead>\n",
       "    <tr style=\"text-align: right;\">\n",
       "      <th></th>\n",
       "      <th>Age</th>\n",
       "      <th>Income</th>\n",
       "      <th>SpendingScore</th>\n",
       "      <th>Savings</th>\n",
       "      <th>Cluster</th>\n",
       "    </tr>\n",
       "  </thead>\n",
       "  <tbody>\n",
       "    <tr>\n",
       "      <th>0</th>\n",
       "      <td>-0.042287</td>\n",
       "      <td>0.062733</td>\n",
       "      <td>1.103593</td>\n",
       "      <td>-1.072467</td>\n",
       "      <td>Cluster 1</td>\n",
       "    </tr>\n",
       "    <tr>\n",
       "      <th>1</th>\n",
       "      <td>-0.000821</td>\n",
       "      <td>0.174811</td>\n",
       "      <td>1.102641</td>\n",
       "      <td>-1.303473</td>\n",
       "      <td>Cluster 1</td>\n",
       "    </tr>\n",
       "    <tr>\n",
       "      <th>2</th>\n",
       "      <td>0.123577</td>\n",
       "      <td>-0.021200</td>\n",
       "      <td>0.761727</td>\n",
       "      <td>-0.526556</td>\n",
       "      <td>Cluster 1</td>\n",
       "    </tr>\n",
       "    <tr>\n",
       "      <th>3</th>\n",
       "      <td>-0.000821</td>\n",
       "      <td>-0.031712</td>\n",
       "      <td>1.004705</td>\n",
       "      <td>-0.913395</td>\n",
       "      <td>Cluster 1</td>\n",
       "    </tr>\n",
       "    <tr>\n",
       "      <th>4</th>\n",
       "      <td>1.160228</td>\n",
       "      <td>-1.606165</td>\n",
       "      <td>-0.602619</td>\n",
       "      <td>1.012686</td>\n",
       "      <td>Cluster 2</td>\n",
       "    </tr>\n",
       "    <tr>\n",
       "      <th>...</th>\n",
       "      <td>...</td>\n",
       "      <td>...</td>\n",
       "      <td>...</td>\n",
       "      <td>...</td>\n",
       "      <td>...</td>\n",
       "    </tr>\n",
       "    <tr>\n",
       "      <th>500</th>\n",
       "      <td>-1.286268</td>\n",
       "      <td>0.714535</td>\n",
       "      <td>-0.453557</td>\n",
       "      <td>0.621787</td>\n",
       "      <td>Cluster 0</td>\n",
       "    </tr>\n",
       "    <tr>\n",
       "      <th>501</th>\n",
       "      <td>1.409024</td>\n",
       "      <td>-1.545704</td>\n",
       "      <td>-1.164109</td>\n",
       "      <td>1.235201</td>\n",
       "      <td>Cluster 2</td>\n",
       "    </tr>\n",
       "    <tr>\n",
       "      <th>502</th>\n",
       "      <td>1.284626</td>\n",
       "      <td>-1.118447</td>\n",
       "      <td>-0.578054</td>\n",
       "      <td>0.855313</td>\n",
       "      <td>Cluster 2</td>\n",
       "    </tr>\n",
       "    <tr>\n",
       "      <th>503</th>\n",
       "      <td>1.326092</td>\n",
       "      <td>-1.524929</td>\n",
       "      <td>-0.579866</td>\n",
       "      <td>1.322452</td>\n",
       "      <td>Cluster 2</td>\n",
       "    </tr>\n",
       "    <tr>\n",
       "      <th>504</th>\n",
       "      <td>1.243160</td>\n",
       "      <td>-1.258335</td>\n",
       "      <td>-0.831890</td>\n",
       "      <td>0.510463</td>\n",
       "      <td>Cluster 2</td>\n",
       "    </tr>\n",
       "  </tbody>\n",
       "</table>\n",
       "<p>505 rows × 5 columns</p>\n",
       "</div>"
      ],
      "text/plain": [
       "          Age    Income  SpendingScore   Savings    Cluster\n",
       "0   -0.042287  0.062733       1.103593 -1.072467  Cluster 1\n",
       "1   -0.000821  0.174811       1.102641 -1.303473  Cluster 1\n",
       "2    0.123577 -0.021200       0.761727 -0.526556  Cluster 1\n",
       "3   -0.000821 -0.031712       1.004705 -0.913395  Cluster 1\n",
       "4    1.160228 -1.606165      -0.602619  1.012686  Cluster 2\n",
       "..        ...       ...            ...       ...        ...\n",
       "500 -1.286268  0.714535      -0.453557  0.621787  Cluster 0\n",
       "501  1.409024 -1.545704      -1.164109  1.235201  Cluster 2\n",
       "502  1.284626 -1.118447      -0.578054  0.855313  Cluster 2\n",
       "503  1.326092 -1.524929      -0.579866  1.322452  Cluster 2\n",
       "504  1.243160 -1.258335      -0.831890  0.510463  Cluster 2\n",
       "\n",
       "[505 rows x 5 columns]"
      ]
     },
     "execution_count": 20,
     "metadata": {},
     "output_type": "execute_result"
    }
   ],
   "source": [
    "# predict on test set\n",
    "kmeans_pred = predict_model(kmeans, data=data)\n",
    "kmeans_pred"
   ]
  },
  {
   "cell_type": "markdown",
   "id": "e4384735",
   "metadata": {
    "id": "e4384735"
   },
   "source": [
    "#### 5) 모형저장과 로딩(loading)"
   ]
  },
  {
   "cell_type": "markdown",
   "id": "cd63f053",
   "metadata": {
    "id": "cd63f053"
   },
   "source": [
    "Finally, you can save the entire pipeline on disk for later use, using pycaret's `save_model` function."
   ]
  },
  {
   "cell_type": "code",
   "execution_count": 19,
   "id": "4181de41",
   "metadata": {
    "id": "4181de41",
    "outputId": "d7d60f20-be23-4662-8844-8d1df7242822"
   },
   "outputs": [
    {
     "name": "stdout",
     "output_type": "stream",
     "text": [
      "Transformation Pipeline and Model Successfully Saved\n"
     ]
    },
    {
     "data": {
      "text/plain": [
       "(Pipeline(memory=Memory(location=None),\n",
       "          steps=[('numerical_imputer',\n",
       "                  TransformerWrapper(include=['Age', 'Income', 'SpendingScore',\n",
       "                                              'Savings'],\n",
       "                                     transformer=SimpleImputer())),\n",
       "                 ('categorical_imputer',\n",
       "                  TransformerWrapper(include=[],\n",
       "                                     transformer=SimpleImputer(strategy='most_frequent'))),\n",
       "                 ('normalize', TransformerWrapper(transformer=StandardScaler())),\n",
       "                 ('trained_model', KMeans(n_clusters=4, random_state=2577))]),\n",
       " './Output/Model_kmeans.pkl')"
      ]
     },
     "execution_count": 19,
     "metadata": {},
     "output_type": "execute_result"
    }
   ],
   "source": [
    "# save pipeline\n",
    "save_model(kmeans, './Output/Model_kmeans')"
   ]
  },
  {
   "cell_type": "code",
   "execution_count": 21,
   "id": "40ed5152",
   "metadata": {
    "id": "40ed5152",
    "outputId": "832b3c24-ab40-4f86-9643-09a2303e094b"
   },
   "outputs": [
    {
     "name": "stdout",
     "output_type": "stream",
     "text": [
      "Transformation Pipeline and Model Successfully Loaded\n"
     ]
    },
    {
     "data": {
      "text/html": [
       "<style>#sk-container-id-1 {\n",
       "  /* Definition of color scheme common for light and dark mode */\n",
       "  --sklearn-color-text: black;\n",
       "  --sklearn-color-line: gray;\n",
       "  /* Definition of color scheme for unfitted estimators */\n",
       "  --sklearn-color-unfitted-level-0: #fff5e6;\n",
       "  --sklearn-color-unfitted-level-1: #f6e4d2;\n",
       "  --sklearn-color-unfitted-level-2: #ffe0b3;\n",
       "  --sklearn-color-unfitted-level-3: chocolate;\n",
       "  /* Definition of color scheme for fitted estimators */\n",
       "  --sklearn-color-fitted-level-0: #f0f8ff;\n",
       "  --sklearn-color-fitted-level-1: #d4ebff;\n",
       "  --sklearn-color-fitted-level-2: #b3dbfd;\n",
       "  --sklearn-color-fitted-level-3: cornflowerblue;\n",
       "\n",
       "  /* Specific color for light theme */\n",
       "  --sklearn-color-text-on-default-background: var(--sg-text-color, var(--theme-code-foreground, var(--jp-content-font-color1, black)));\n",
       "  --sklearn-color-background: var(--sg-background-color, var(--theme-background, var(--jp-layout-color0, white)));\n",
       "  --sklearn-color-border-box: var(--sg-text-color, var(--theme-code-foreground, var(--jp-content-font-color1, black)));\n",
       "  --sklearn-color-icon: #696969;\n",
       "\n",
       "  @media (prefers-color-scheme: dark) {\n",
       "    /* Redefinition of color scheme for dark theme */\n",
       "    --sklearn-color-text-on-default-background: var(--sg-text-color, var(--theme-code-foreground, var(--jp-content-font-color1, white)));\n",
       "    --sklearn-color-background: var(--sg-background-color, var(--theme-background, var(--jp-layout-color0, #111)));\n",
       "    --sklearn-color-border-box: var(--sg-text-color, var(--theme-code-foreground, var(--jp-content-font-color1, white)));\n",
       "    --sklearn-color-icon: #878787;\n",
       "  }\n",
       "}\n",
       "\n",
       "#sk-container-id-1 {\n",
       "  color: var(--sklearn-color-text);\n",
       "}\n",
       "\n",
       "#sk-container-id-1 pre {\n",
       "  padding: 0;\n",
       "}\n",
       "\n",
       "#sk-container-id-1 input.sk-hidden--visually {\n",
       "  border: 0;\n",
       "  clip: rect(1px 1px 1px 1px);\n",
       "  clip: rect(1px, 1px, 1px, 1px);\n",
       "  height: 1px;\n",
       "  margin: -1px;\n",
       "  overflow: hidden;\n",
       "  padding: 0;\n",
       "  position: absolute;\n",
       "  width: 1px;\n",
       "}\n",
       "\n",
       "#sk-container-id-1 div.sk-dashed-wrapped {\n",
       "  border: 1px dashed var(--sklearn-color-line);\n",
       "  margin: 0 0.4em 0.5em 0.4em;\n",
       "  box-sizing: border-box;\n",
       "  padding-bottom: 0.4em;\n",
       "  background-color: var(--sklearn-color-background);\n",
       "}\n",
       "\n",
       "#sk-container-id-1 div.sk-container {\n",
       "  /* jupyter's `normalize.less` sets `[hidden] { display: none; }`\n",
       "     but bootstrap.min.css set `[hidden] { display: none !important; }`\n",
       "     so we also need the `!important` here to be able to override the\n",
       "     default hidden behavior on the sphinx rendered scikit-learn.org.\n",
       "     See: https://github.com/scikit-learn/scikit-learn/issues/21755 */\n",
       "  display: inline-block !important;\n",
       "  position: relative;\n",
       "}\n",
       "\n",
       "#sk-container-id-1 div.sk-text-repr-fallback {\n",
       "  display: none;\n",
       "}\n",
       "\n",
       "div.sk-parallel-item,\n",
       "div.sk-serial,\n",
       "div.sk-item {\n",
       "  /* draw centered vertical line to link estimators */\n",
       "  background-image: linear-gradient(var(--sklearn-color-text-on-default-background), var(--sklearn-color-text-on-default-background));\n",
       "  background-size: 2px 100%;\n",
       "  background-repeat: no-repeat;\n",
       "  background-position: center center;\n",
       "}\n",
       "\n",
       "/* Parallel-specific style estimator block */\n",
       "\n",
       "#sk-container-id-1 div.sk-parallel-item::after {\n",
       "  content: \"\";\n",
       "  width: 100%;\n",
       "  border-bottom: 2px solid var(--sklearn-color-text-on-default-background);\n",
       "  flex-grow: 1;\n",
       "}\n",
       "\n",
       "#sk-container-id-1 div.sk-parallel {\n",
       "  display: flex;\n",
       "  align-items: stretch;\n",
       "  justify-content: center;\n",
       "  background-color: var(--sklearn-color-background);\n",
       "  position: relative;\n",
       "}\n",
       "\n",
       "#sk-container-id-1 div.sk-parallel-item {\n",
       "  display: flex;\n",
       "  flex-direction: column;\n",
       "}\n",
       "\n",
       "#sk-container-id-1 div.sk-parallel-item:first-child::after {\n",
       "  align-self: flex-end;\n",
       "  width: 50%;\n",
       "}\n",
       "\n",
       "#sk-container-id-1 div.sk-parallel-item:last-child::after {\n",
       "  align-self: flex-start;\n",
       "  width: 50%;\n",
       "}\n",
       "\n",
       "#sk-container-id-1 div.sk-parallel-item:only-child::after {\n",
       "  width: 0;\n",
       "}\n",
       "\n",
       "/* Serial-specific style estimator block */\n",
       "\n",
       "#sk-container-id-1 div.sk-serial {\n",
       "  display: flex;\n",
       "  flex-direction: column;\n",
       "  align-items: center;\n",
       "  background-color: var(--sklearn-color-background);\n",
       "  padding-right: 1em;\n",
       "  padding-left: 1em;\n",
       "}\n",
       "\n",
       "\n",
       "/* Toggleable style: style used for estimator/Pipeline/ColumnTransformer box that is\n",
       "clickable and can be expanded/collapsed.\n",
       "- Pipeline and ColumnTransformer use this feature and define the default style\n",
       "- Estimators will overwrite some part of the style using the `sk-estimator` class\n",
       "*/\n",
       "\n",
       "/* Pipeline and ColumnTransformer style (default) */\n",
       "\n",
       "#sk-container-id-1 div.sk-toggleable {\n",
       "  /* Default theme specific background. It is overwritten whether we have a\n",
       "  specific estimator or a Pipeline/ColumnTransformer */\n",
       "  background-color: var(--sklearn-color-background);\n",
       "}\n",
       "\n",
       "/* Toggleable label */\n",
       "#sk-container-id-1 label.sk-toggleable__label {\n",
       "  cursor: pointer;\n",
       "  display: block;\n",
       "  width: 100%;\n",
       "  margin-bottom: 0;\n",
       "  padding: 0.5em;\n",
       "  box-sizing: border-box;\n",
       "  text-align: center;\n",
       "}\n",
       "\n",
       "#sk-container-id-1 label.sk-toggleable__label-arrow:before {\n",
       "  /* Arrow on the left of the label */\n",
       "  content: \"▸\";\n",
       "  float: left;\n",
       "  margin-right: 0.25em;\n",
       "  color: var(--sklearn-color-icon);\n",
       "}\n",
       "\n",
       "#sk-container-id-1 label.sk-toggleable__label-arrow:hover:before {\n",
       "  color: var(--sklearn-color-text);\n",
       "}\n",
       "\n",
       "/* Toggleable content - dropdown */\n",
       "\n",
       "#sk-container-id-1 div.sk-toggleable__content {\n",
       "  max-height: 0;\n",
       "  max-width: 0;\n",
       "  overflow: hidden;\n",
       "  text-align: left;\n",
       "  /* unfitted */\n",
       "  background-color: var(--sklearn-color-unfitted-level-0);\n",
       "}\n",
       "\n",
       "#sk-container-id-1 div.sk-toggleable__content.fitted {\n",
       "  /* fitted */\n",
       "  background-color: var(--sklearn-color-fitted-level-0);\n",
       "}\n",
       "\n",
       "#sk-container-id-1 div.sk-toggleable__content pre {\n",
       "  margin: 0.2em;\n",
       "  border-radius: 0.25em;\n",
       "  color: var(--sklearn-color-text);\n",
       "  /* unfitted */\n",
       "  background-color: var(--sklearn-color-unfitted-level-0);\n",
       "}\n",
       "\n",
       "#sk-container-id-1 div.sk-toggleable__content.fitted pre {\n",
       "  /* unfitted */\n",
       "  background-color: var(--sklearn-color-fitted-level-0);\n",
       "}\n",
       "\n",
       "#sk-container-id-1 input.sk-toggleable__control:checked~div.sk-toggleable__content {\n",
       "  /* Expand drop-down */\n",
       "  max-height: 200px;\n",
       "  max-width: 100%;\n",
       "  overflow: auto;\n",
       "}\n",
       "\n",
       "#sk-container-id-1 input.sk-toggleable__control:checked~label.sk-toggleable__label-arrow:before {\n",
       "  content: \"▾\";\n",
       "}\n",
       "\n",
       "/* Pipeline/ColumnTransformer-specific style */\n",
       "\n",
       "#sk-container-id-1 div.sk-label input.sk-toggleable__control:checked~label.sk-toggleable__label {\n",
       "  color: var(--sklearn-color-text);\n",
       "  background-color: var(--sklearn-color-unfitted-level-2);\n",
       "}\n",
       "\n",
       "#sk-container-id-1 div.sk-label.fitted input.sk-toggleable__control:checked~label.sk-toggleable__label {\n",
       "  background-color: var(--sklearn-color-fitted-level-2);\n",
       "}\n",
       "\n",
       "/* Estimator-specific style */\n",
       "\n",
       "/* Colorize estimator box */\n",
       "#sk-container-id-1 div.sk-estimator input.sk-toggleable__control:checked~label.sk-toggleable__label {\n",
       "  /* unfitted */\n",
       "  background-color: var(--sklearn-color-unfitted-level-2);\n",
       "}\n",
       "\n",
       "#sk-container-id-1 div.sk-estimator.fitted input.sk-toggleable__control:checked~label.sk-toggleable__label {\n",
       "  /* fitted */\n",
       "  background-color: var(--sklearn-color-fitted-level-2);\n",
       "}\n",
       "\n",
       "#sk-container-id-1 div.sk-label label.sk-toggleable__label,\n",
       "#sk-container-id-1 div.sk-label label {\n",
       "  /* The background is the default theme color */\n",
       "  color: var(--sklearn-color-text-on-default-background);\n",
       "}\n",
       "\n",
       "/* On hover, darken the color of the background */\n",
       "#sk-container-id-1 div.sk-label:hover label.sk-toggleable__label {\n",
       "  color: var(--sklearn-color-text);\n",
       "  background-color: var(--sklearn-color-unfitted-level-2);\n",
       "}\n",
       "\n",
       "/* Label box, darken color on hover, fitted */\n",
       "#sk-container-id-1 div.sk-label.fitted:hover label.sk-toggleable__label.fitted {\n",
       "  color: var(--sklearn-color-text);\n",
       "  background-color: var(--sklearn-color-fitted-level-2);\n",
       "}\n",
       "\n",
       "/* Estimator label */\n",
       "\n",
       "#sk-container-id-1 div.sk-label label {\n",
       "  font-family: monospace;\n",
       "  font-weight: bold;\n",
       "  display: inline-block;\n",
       "  line-height: 1.2em;\n",
       "}\n",
       "\n",
       "#sk-container-id-1 div.sk-label-container {\n",
       "  text-align: center;\n",
       "}\n",
       "\n",
       "/* Estimator-specific */\n",
       "#sk-container-id-1 div.sk-estimator {\n",
       "  font-family: monospace;\n",
       "  border: 1px dotted var(--sklearn-color-border-box);\n",
       "  border-radius: 0.25em;\n",
       "  box-sizing: border-box;\n",
       "  margin-bottom: 0.5em;\n",
       "  /* unfitted */\n",
       "  background-color: var(--sklearn-color-unfitted-level-0);\n",
       "}\n",
       "\n",
       "#sk-container-id-1 div.sk-estimator.fitted {\n",
       "  /* fitted */\n",
       "  background-color: var(--sklearn-color-fitted-level-0);\n",
       "}\n",
       "\n",
       "/* on hover */\n",
       "#sk-container-id-1 div.sk-estimator:hover {\n",
       "  /* unfitted */\n",
       "  background-color: var(--sklearn-color-unfitted-level-2);\n",
       "}\n",
       "\n",
       "#sk-container-id-1 div.sk-estimator.fitted:hover {\n",
       "  /* fitted */\n",
       "  background-color: var(--sklearn-color-fitted-level-2);\n",
       "}\n",
       "\n",
       "/* Specification for estimator info (e.g. \"i\" and \"?\") */\n",
       "\n",
       "/* Common style for \"i\" and \"?\" */\n",
       "\n",
       ".sk-estimator-doc-link,\n",
       "a:link.sk-estimator-doc-link,\n",
       "a:visited.sk-estimator-doc-link {\n",
       "  float: right;\n",
       "  font-size: smaller;\n",
       "  line-height: 1em;\n",
       "  font-family: monospace;\n",
       "  background-color: var(--sklearn-color-background);\n",
       "  border-radius: 1em;\n",
       "  height: 1em;\n",
       "  width: 1em;\n",
       "  text-decoration: none !important;\n",
       "  margin-left: 1ex;\n",
       "  /* unfitted */\n",
       "  border: var(--sklearn-color-unfitted-level-1) 1pt solid;\n",
       "  color: var(--sklearn-color-unfitted-level-1);\n",
       "}\n",
       "\n",
       ".sk-estimator-doc-link.fitted,\n",
       "a:link.sk-estimator-doc-link.fitted,\n",
       "a:visited.sk-estimator-doc-link.fitted {\n",
       "  /* fitted */\n",
       "  border: var(--sklearn-color-fitted-level-1) 1pt solid;\n",
       "  color: var(--sklearn-color-fitted-level-1);\n",
       "}\n",
       "\n",
       "/* On hover */\n",
       "div.sk-estimator:hover .sk-estimator-doc-link:hover,\n",
       ".sk-estimator-doc-link:hover,\n",
       "div.sk-label-container:hover .sk-estimator-doc-link:hover,\n",
       ".sk-estimator-doc-link:hover {\n",
       "  /* unfitted */\n",
       "  background-color: var(--sklearn-color-unfitted-level-3);\n",
       "  color: var(--sklearn-color-background);\n",
       "  text-decoration: none;\n",
       "}\n",
       "\n",
       "div.sk-estimator.fitted:hover .sk-estimator-doc-link.fitted:hover,\n",
       ".sk-estimator-doc-link.fitted:hover,\n",
       "div.sk-label-container:hover .sk-estimator-doc-link.fitted:hover,\n",
       ".sk-estimator-doc-link.fitted:hover {\n",
       "  /* fitted */\n",
       "  background-color: var(--sklearn-color-fitted-level-3);\n",
       "  color: var(--sklearn-color-background);\n",
       "  text-decoration: none;\n",
       "}\n",
       "\n",
       "/* Span, style for the box shown on hovering the info icon */\n",
       ".sk-estimator-doc-link span {\n",
       "  display: none;\n",
       "  z-index: 9999;\n",
       "  position: relative;\n",
       "  font-weight: normal;\n",
       "  right: .2ex;\n",
       "  padding: .5ex;\n",
       "  margin: .5ex;\n",
       "  width: min-content;\n",
       "  min-width: 20ex;\n",
       "  max-width: 50ex;\n",
       "  color: var(--sklearn-color-text);\n",
       "  box-shadow: 2pt 2pt 4pt #999;\n",
       "  /* unfitted */\n",
       "  background: var(--sklearn-color-unfitted-level-0);\n",
       "  border: .5pt solid var(--sklearn-color-unfitted-level-3);\n",
       "}\n",
       "\n",
       ".sk-estimator-doc-link.fitted span {\n",
       "  /* fitted */\n",
       "  background: var(--sklearn-color-fitted-level-0);\n",
       "  border: var(--sklearn-color-fitted-level-3);\n",
       "}\n",
       "\n",
       ".sk-estimator-doc-link:hover span {\n",
       "  display: block;\n",
       "}\n",
       "\n",
       "/* \"?\"-specific style due to the `<a>` HTML tag */\n",
       "\n",
       "#sk-container-id-1 a.estimator_doc_link {\n",
       "  float: right;\n",
       "  font-size: 1rem;\n",
       "  line-height: 1em;\n",
       "  font-family: monospace;\n",
       "  background-color: var(--sklearn-color-background);\n",
       "  border-radius: 1rem;\n",
       "  height: 1rem;\n",
       "  width: 1rem;\n",
       "  text-decoration: none;\n",
       "  /* unfitted */\n",
       "  color: var(--sklearn-color-unfitted-level-1);\n",
       "  border: var(--sklearn-color-unfitted-level-1) 1pt solid;\n",
       "}\n",
       "\n",
       "#sk-container-id-1 a.estimator_doc_link.fitted {\n",
       "  /* fitted */\n",
       "  border: var(--sklearn-color-fitted-level-1) 1pt solid;\n",
       "  color: var(--sklearn-color-fitted-level-1);\n",
       "}\n",
       "\n",
       "/* On hover */\n",
       "#sk-container-id-1 a.estimator_doc_link:hover {\n",
       "  /* unfitted */\n",
       "  background-color: var(--sklearn-color-unfitted-level-3);\n",
       "  color: var(--sklearn-color-background);\n",
       "  text-decoration: none;\n",
       "}\n",
       "\n",
       "#sk-container-id-1 a.estimator_doc_link.fitted:hover {\n",
       "  /* fitted */\n",
       "  background-color: var(--sklearn-color-fitted-level-3);\n",
       "}\n",
       "</style><div id=\"sk-container-id-1\" class=\"sk-top-container\"><div class=\"sk-text-repr-fallback\"><pre>Pipeline(memory=FastMemory(location=C:\\Users\\PARKSE~1\\AppData\\Local\\Temp\\joblib),\n",
       "         steps=[(&#x27;numerical_imputer&#x27;,\n",
       "                 TransformerWrapper(include=[&#x27;Age&#x27;, &#x27;Income&#x27;, &#x27;SpendingScore&#x27;,\n",
       "                                             &#x27;Savings&#x27;],\n",
       "                                    transformer=SimpleImputer())),\n",
       "                (&#x27;categorical_imputer&#x27;,\n",
       "                 TransformerWrapper(include=[],\n",
       "                                    transformer=SimpleImputer(strategy=&#x27;most_frequent&#x27;))),\n",
       "                (&#x27;normalize&#x27;, TransformerWrapper(transformer=StandardScaler())),\n",
       "                (&#x27;trained_model&#x27;, KMeans(n_clusters=4, random_state=2577))])</pre><b>In a Jupyter environment, please rerun this cell to show the HTML representation or trust the notebook. <br />On GitHub, the HTML representation is unable to render, please try loading this page with nbviewer.org.</b></div><div class=\"sk-container\" hidden><div class=\"sk-item sk-dashed-wrapped\"><div class=\"sk-label-container\"><div class=\"sk-label fitted sk-toggleable\"><input class=\"sk-toggleable__control sk-hidden--visually\" id=\"sk-estimator-id-1\" type=\"checkbox\" ><label for=\"sk-estimator-id-1\" class=\"sk-toggleable__label fitted sk-toggleable__label-arrow fitted\">&nbsp;Pipeline<span class=\"sk-estimator-doc-link fitted\">i<span>Fitted</span></span></label><div class=\"sk-toggleable__content fitted\"><pre>Pipeline(memory=FastMemory(location=C:\\Users\\PARKSE~1\\AppData\\Local\\Temp\\joblib),\n",
       "         steps=[(&#x27;numerical_imputer&#x27;,\n",
       "                 TransformerWrapper(include=[&#x27;Age&#x27;, &#x27;Income&#x27;, &#x27;SpendingScore&#x27;,\n",
       "                                             &#x27;Savings&#x27;],\n",
       "                                    transformer=SimpleImputer())),\n",
       "                (&#x27;categorical_imputer&#x27;,\n",
       "                 TransformerWrapper(include=[],\n",
       "                                    transformer=SimpleImputer(strategy=&#x27;most_frequent&#x27;))),\n",
       "                (&#x27;normalize&#x27;, TransformerWrapper(transformer=StandardScaler())),\n",
       "                (&#x27;trained_model&#x27;, KMeans(n_clusters=4, random_state=2577))])</pre></div> </div></div><div class=\"sk-serial\"><div class=\"sk-item sk-dashed-wrapped\"><div class=\"sk-label-container\"><div class=\"sk-label fitted sk-toggleable\"><input class=\"sk-toggleable__control sk-hidden--visually\" id=\"sk-estimator-id-2\" type=\"checkbox\" ><label for=\"sk-estimator-id-2\" class=\"sk-toggleable__label fitted sk-toggleable__label-arrow fitted\">numerical_imputer: TransformerWrapper</label><div class=\"sk-toggleable__content fitted\"><pre>TransformerWrapper(include=[&#x27;Age&#x27;, &#x27;Income&#x27;, &#x27;SpendingScore&#x27;, &#x27;Savings&#x27;],\n",
       "                   transformer=SimpleImputer())</pre></div> </div></div><div class=\"sk-parallel\"><div class=\"sk-parallel-item\"><div class=\"sk-item\"><div class=\"sk-label-container\"><div class=\"sk-label fitted sk-toggleable\"><input class=\"sk-toggleable__control sk-hidden--visually\" id=\"sk-estimator-id-3\" type=\"checkbox\" ><label for=\"sk-estimator-id-3\" class=\"sk-toggleable__label fitted sk-toggleable__label-arrow fitted\">transformer: SimpleImputer</label><div class=\"sk-toggleable__content fitted\"><pre>SimpleImputer()</pre></div> </div></div><div class=\"sk-serial\"><div class=\"sk-item\"><div class=\"sk-estimator fitted sk-toggleable\"><input class=\"sk-toggleable__control sk-hidden--visually\" id=\"sk-estimator-id-4\" type=\"checkbox\" ><label for=\"sk-estimator-id-4\" class=\"sk-toggleable__label fitted sk-toggleable__label-arrow fitted\">&nbsp;SimpleImputer<a class=\"sk-estimator-doc-link fitted\" rel=\"noreferrer\" target=\"_blank\" href=\"https://scikit-learn.org/1.4/modules/generated/sklearn.impute.SimpleImputer.html\">?<span>Documentation for SimpleImputer</span></a></label><div class=\"sk-toggleable__content fitted\"><pre>SimpleImputer()</pre></div> </div></div></div></div></div></div></div><div class=\"sk-item sk-dashed-wrapped\"><div class=\"sk-label-container\"><div class=\"sk-label fitted sk-toggleable\"><input class=\"sk-toggleable__control sk-hidden--visually\" id=\"sk-estimator-id-5\" type=\"checkbox\" ><label for=\"sk-estimator-id-5\" class=\"sk-toggleable__label fitted sk-toggleable__label-arrow fitted\">categorical_imputer: TransformerWrapper</label><div class=\"sk-toggleable__content fitted\"><pre>TransformerWrapper(include=[],\n",
       "                   transformer=SimpleImputer(strategy=&#x27;most_frequent&#x27;))</pre></div> </div></div><div class=\"sk-parallel\"><div class=\"sk-parallel-item\"><div class=\"sk-item\"><div class=\"sk-label-container\"><div class=\"sk-label fitted sk-toggleable\"><input class=\"sk-toggleable__control sk-hidden--visually\" id=\"sk-estimator-id-6\" type=\"checkbox\" ><label for=\"sk-estimator-id-6\" class=\"sk-toggleable__label fitted sk-toggleable__label-arrow fitted\">transformer: SimpleImputer</label><div class=\"sk-toggleable__content fitted\"><pre>SimpleImputer(strategy=&#x27;most_frequent&#x27;)</pre></div> </div></div><div class=\"sk-serial\"><div class=\"sk-item\"><div class=\"sk-estimator fitted sk-toggleable\"><input class=\"sk-toggleable__control sk-hidden--visually\" id=\"sk-estimator-id-7\" type=\"checkbox\" ><label for=\"sk-estimator-id-7\" class=\"sk-toggleable__label fitted sk-toggleable__label-arrow fitted\">&nbsp;SimpleImputer<a class=\"sk-estimator-doc-link fitted\" rel=\"noreferrer\" target=\"_blank\" href=\"https://scikit-learn.org/1.4/modules/generated/sklearn.impute.SimpleImputer.html\">?<span>Documentation for SimpleImputer</span></a></label><div class=\"sk-toggleable__content fitted\"><pre>SimpleImputer(strategy=&#x27;most_frequent&#x27;)</pre></div> </div></div></div></div></div></div></div><div class=\"sk-item sk-dashed-wrapped\"><div class=\"sk-label-container\"><div class=\"sk-label fitted sk-toggleable\"><input class=\"sk-toggleable__control sk-hidden--visually\" id=\"sk-estimator-id-8\" type=\"checkbox\" ><label for=\"sk-estimator-id-8\" class=\"sk-toggleable__label fitted sk-toggleable__label-arrow fitted\">normalize: TransformerWrapper</label><div class=\"sk-toggleable__content fitted\"><pre>TransformerWrapper(transformer=StandardScaler())</pre></div> </div></div><div class=\"sk-parallel\"><div class=\"sk-parallel-item\"><div class=\"sk-item\"><div class=\"sk-label-container\"><div class=\"sk-label fitted sk-toggleable\"><input class=\"sk-toggleable__control sk-hidden--visually\" id=\"sk-estimator-id-9\" type=\"checkbox\" ><label for=\"sk-estimator-id-9\" class=\"sk-toggleable__label fitted sk-toggleable__label-arrow fitted\">transformer: StandardScaler</label><div class=\"sk-toggleable__content fitted\"><pre>StandardScaler()</pre></div> </div></div><div class=\"sk-serial\"><div class=\"sk-item\"><div class=\"sk-estimator fitted sk-toggleable\"><input class=\"sk-toggleable__control sk-hidden--visually\" id=\"sk-estimator-id-10\" type=\"checkbox\" ><label for=\"sk-estimator-id-10\" class=\"sk-toggleable__label fitted sk-toggleable__label-arrow fitted\">&nbsp;StandardScaler<a class=\"sk-estimator-doc-link fitted\" rel=\"noreferrer\" target=\"_blank\" href=\"https://scikit-learn.org/1.4/modules/generated/sklearn.preprocessing.StandardScaler.html\">?<span>Documentation for StandardScaler</span></a></label><div class=\"sk-toggleable__content fitted\"><pre>StandardScaler()</pre></div> </div></div></div></div></div></div></div><div class=\"sk-item\"><div class=\"sk-estimator fitted sk-toggleable\"><input class=\"sk-toggleable__control sk-hidden--visually\" id=\"sk-estimator-id-11\" type=\"checkbox\" ><label for=\"sk-estimator-id-11\" class=\"sk-toggleable__label fitted sk-toggleable__label-arrow fitted\">&nbsp;KMeans<a class=\"sk-estimator-doc-link fitted\" rel=\"noreferrer\" target=\"_blank\" href=\"https://scikit-learn.org/1.4/modules/generated/sklearn.cluster.KMeans.html\">?<span>Documentation for KMeans</span></a></label><div class=\"sk-toggleable__content fitted\"><pre>KMeans(n_clusters=4, random_state=2577)</pre></div> </div></div></div></div></div></div>"
      ],
      "text/plain": [
       "Pipeline(memory=FastMemory(location=C:\\Users\\PARKSE~1\\AppData\\Local\\Temp\\joblib),\n",
       "         steps=[('numerical_imputer',\n",
       "                 TransformerWrapper(include=['Age', 'Income', 'SpendingScore',\n",
       "                                             'Savings'],\n",
       "                                    transformer=SimpleImputer())),\n",
       "                ('categorical_imputer',\n",
       "                 TransformerWrapper(include=[],\n",
       "                                    transformer=SimpleImputer(strategy='most_frequent'))),\n",
       "                ('normalize', TransformerWrapper(transformer=StandardScaler())),\n",
       "                ('trained_model', KMeans(n_clusters=4, random_state=2577))])"
      ]
     },
     "execution_count": 21,
     "metadata": {},
     "output_type": "execute_result"
    }
   ],
   "source": [
    "# load pipeline\n",
    "kmeans_pipeline = load_model('./Output/Model_kmeans')\n",
    "kmeans_pipeline"
   ]
  },
  {
   "cell_type": "code",
   "execution_count": null,
   "id": "ac030246",
   "metadata": {
    "id": "ac030246"
   },
   "outputs": [],
   "source": []
  }
 ],
 "metadata": {
  "colab": {
   "provenance": [
    {
     "file_id": "https://github.com/pycaret/pycaret/blob/master/tutorials/Tutorial%20-%20Clustering.ipynb",
     "timestamp": 1711777029519
    }
   ]
  },
  "kernelspec": {
   "display_name": "Python 3 (ipykernel)",
   "language": "python",
   "name": "python3"
  },
  "language_info": {
   "codemirror_mode": {
    "name": "ipython",
    "version": 3
   },
   "file_extension": ".py",
   "mimetype": "text/x-python",
   "name": "python",
   "nbconvert_exporter": "python",
   "pygments_lexer": "ipython3",
   "version": "3.13.5"
  }
 },
 "nbformat": 4,
 "nbformat_minor": 5
}
